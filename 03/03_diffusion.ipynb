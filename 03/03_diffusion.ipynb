{
 "cells": [
  {
   "cell_type": "markdown",
   "metadata": {},
   "source": [
    "# Diffusion Models: A Comprehensive Notebook\n",
    "\n",
    "This notebook demonstrates a simplified implementation of a diffusion model (a DDPM – Denoising Diffusion Probabilistic Model) using PyTorch. We will:\n",
    "\n",
    "- Introduce the forward (noise-adding) and reverse (denoising) diffusion processes.\n",
    "- Build a simple convolutional model that learns to predict the noise added to images.\n",
    "- Train the model on MNIST (for demonstration purposes) while logging training metrics with wandb.\n",
    "- Sample images from the learned model and visualize intermediate steps using Matplotlib and Seaborn.\n",
    "\n",
    "**Note:** Training full diffusion models (e.g., on high-resolution datasets) requires significant compute. This notebook is meant for educational purposes.\n"
   ]
  },
  {
   "cell_type": "markdown",
   "metadata": {},
   "source": [
    "# Quick Refresher: U-Net"
   ]
  },
  {
   "cell_type": "markdown",
   "metadata": {},
   "source": [
    "The U-Net is a deep neural network architecture originally developed for biomedical image segmentation. It has since become a fundamental building block in generative AI systems, notably in diffusion models.\n",
    "\n",
    "The architecture gets its name from its distinctive \"U\"-shaped structure, composed of two main parts:\n",
    "\n",
    "- **Encoder (Contracting path):** Gradually downsamples the input, capturing context and reducing spatial dimensions. This phase extracts high-level features.\n",
    "\n",
    "- **Decoder (Expanding path):** Gradually upsamples the encoded features to restore the original spatial dimensions, enabling precise spatial localization.\n",
    "\n",
    "At the deepest point, known as the bottleneck, the representation captures highly abstracted, compressed information.\n",
    "\n",
    "This encoder-decoder structure allows U-Net to efficiently learn and represent complex patterns, making it ideal for tasks such as image generation, denoising, segmentation, and other spatially-sensitive problems."
   ]
  },
  {
   "cell_type": "markdown",
   "metadata": {},
   "source": [
    "![u-net-architecture](https://lmb.informatik.uni-freiburg.de/people/ronneber/u-net/u-net-architecture.png)\n",
    "\n",
    "*Image source: [uni-freiburg.de](https://lmb.informatik.uni-freiburg.de/people/ronneber/u-net/)*"
   ]
  },
  {
   "cell_type": "markdown",
   "metadata": {},
   "source": [
    "A key innovation in U-Net is the use of **skip connections**—direct links that transfer feature maps from layers in the encoder directly to corresponding layers in the decoder. \n",
    "\n",
    "In practice, skip connections significantly enhance the quality and sharpness of the generated outputs, which is critical for generative models, including diffusion models."
   ]
  },
  {
   "cell_type": "markdown",
   "metadata": {},
   "source": [
    "## A Minimal Denoising U-Net\n",
    "\n",
    "In this section, we'll build a minimal yet functional U-Net architecture step-by-step. We'll then train it for a simple image-denoising task using the Fashion-MNIST dataset."
   ]
  },
  {
   "cell_type": "markdown",
   "metadata": {},
   "source": [
    "We will start by importing important libraries"
   ]
  },
  {
   "cell_type": "code",
   "execution_count": 1,
   "metadata": {},
   "outputs": [],
   "source": [
    "import torch\n",
    "import torch.nn as nn\n",
    "import torch.optim as optim\n",
    "from torchvision import datasets, transforms\n",
    "import matplotlib.pyplot as plt\n"
   ]
  },
  {
   "cell_type": "markdown",
   "metadata": {},
   "source": [
    "### Network Design\n",
    "\n",
    "The U-Net has two encoder blocks, a botter neck layer, and two decoder blocks"
   ]
  },
  {
   "cell_type": "code",
   "execution_count": 2,
   "metadata": {},
   "outputs": [],
   "source": [
    "class UNet(nn.Module):\n",
    "    def __init__(self):\n",
    "        super(UNet, self).__init__()\n",
    "\n",
    "        # Encoder layers\n",
    "        self.enc1 = nn.Sequential(nn.Conv2d(1, 16, 3, padding=1), nn.ReLU())\n",
    "        self.pool1 = nn.MaxPool2d(2)\n",
    "        \n",
    "        self.enc2 = nn.Sequential(nn.Conv2d(16, 32, 3, padding=1), nn.ReLU())\n",
    "        self.pool2 = nn.MaxPool2d(2)\n",
    "\n",
    "        # Bottleneck\n",
    "        self.bottleneck = nn.Sequential(nn.Conv2d(32, 64, 3, padding=1), nn.ReLU())\n",
    "\n",
    "        # Decoder layers\n",
    "        self.upconv2 = nn.ConvTranspose2d(64, 32, 2, stride=2)\n",
    "        self.dec2 = nn.Sequential(nn.Conv2d(64, 32, 3, padding=1), nn.ReLU())\n",
    "\n",
    "        self.upconv1 = nn.ConvTranspose2d(32, 16, 2, stride=2)\n",
    "        self.dec1 = nn.Sequential(nn.Conv2d(32, 16, 3, padding=1), nn.ReLU())\n",
    "\n",
    "        # Final Convolution\n",
    "        self.conv_final = nn.Conv2d(16, 1, kernel_size=1)\n",
    "\n",
    "    def forward(self, x):\n",
    "        # Encoder\n",
    "        enc1 = self.enc1(x)\n",
    "        enc2 = self.enc2(self.pool1(enc1))\n",
    "\n",
    "        # Bottleneck\n",
    "        bottleneck = self.bottleneck(self.pool2(enc2))\n",
    "\n",
    "        # Decoder\n",
    "        dec2 = self.upconv2(bottleneck)\n",
    "        dec2 = self.dec2(torch.cat((dec2, enc2), dim=1))\n",
    "\n",
    "        dec1 = self.upconv1(dec2)\n",
    "        dec1 = self.dec1(torch.cat((dec1, enc1), dim=1))\n",
    "\n",
    "        return self.conv_final(dec1)\n"
   ]
  },
  {
   "cell_type": "markdown",
   "metadata": {},
   "source": [
    "### Prepare the Fashion-MNIST Dataset for Denoising Task\n",
    "\n",
    "We'll add artificial Gaussian noise to the images and train the model to denoise them:"
   ]
  },
  {
   "cell_type": "code",
   "execution_count": null,
   "metadata": {},
   "outputs": [],
   "source": [
    "transform = transforms.Compose([\n",
    "    transforms.ToTensor()\n",
    "])\n",
    "\n",
    "train_data = datasets.FashionMNIST(root='../data', train=True, download=True, transform=transform)\n",
    "train_loader = torch.utils.data.DataLoader(train_data, batch_size=64, shuffle=True)\n",
    "\n",
    "def add_noise(img, noise_factor=0.5):\n",
    "    noisy_img = img + noise_factor * torch.randn_like(img)\n",
    "    return torch.clip(noisy_img, 0., 1.)\n",
    "\n",
    "data_iter = iter(train_loader)\n",
    "images, _ = next(data_iter)\n",
    "noisy_images = add_noise(images)\n",
    "\n",
    "fig, axes = plt.subplots(1, 2)\n",
    "axes[0].imshow(images[0].squeeze(), cmap='gray')\n",
    "axes[0].set_title(\"Original\")\n",
    "axes[1].imshow(noisy_images[0].squeeze(), cmap='gray')\n",
    "axes[1].set_title(\"Noisy\")\n",
    "plt.show()\n"
   ]
  },
  {
   "cell_type": "markdown",
   "metadata": {},
   "source": [
    "### Training The Network\n",
    "\n",
    "We will train the network for five epochs only"
   ]
  },
  {
   "cell_type": "code",
   "execution_count": null,
   "metadata": {},
   "outputs": [],
   "source": [
    "device = torch.device('cuda' if torch.cuda.is_available() else 'cpu')\n",
    "model = UNet().to(device)\n",
    "optimizer = optim.Adam(model.parameters(), lr=0.001)\n",
    "criterion = nn.MSELoss()\n",
    "\n",
    "epochs = 5\n",
    "\n",
    "for epoch in range(epochs):\n",
    "    model.train()\n",
    "    running_loss = 0.0\n",
    "    \n",
    "    for images, _ in train_loader:\n",
    "        images = images.to(device)\n",
    "        noisy_images = add_noise(images).to(device)\n",
    "\n",
    "        outputs = model(noisy_images)\n",
    "        loss = criterion(outputs, images)\n",
    "\n",
    "        optimizer.zero_grad()\n",
    "        loss.backward()\n",
    "        optimizer.step()\n",
    "\n",
    "        running_loss += loss.item()\n",
    "\n",
    "    epoch_loss = running_loss / len(train_loader)\n",
    "    print(f'Epoch {epoch+1}/{epochs}, Loss: {epoch_loss:.4f}')\n"
   ]
  },
  {
   "cell_type": "markdown",
   "metadata": {},
   "source": [
    "### Visualizing Results\n"
   ]
  },
  {
   "cell_type": "code",
   "execution_count": null,
   "metadata": {},
   "outputs": [],
   "source": [
    "model.eval()\n",
    "\n",
    "with torch.no_grad():\n",
    "    test_data = datasets.FashionMNIST(root='../data', train=False, download=True, transform=transform)\n",
    "    test_loader = torch.utils.data.DataLoader(test_data, batch_size=64, shuffle=False)\n",
    "\n",
    "    for images, _ in test_loader:\n",
    "        images = images.to(device)\n",
    "        noisy_images = add_noise(images).to(device)\n",
    "\n",
    "        outputs = model(noisy_images)\n",
    "\n",
    "        fig, axes = plt.subplots(1, 3)\n",
    "        axes[0].imshow(images[0].cpu().numpy().squeeze(), cmap='gray')\n",
    "        axes[0].set_title(\"Original\")\n",
    "        axes[1].imshow(noisy_images[0].cpu().numpy().squeeze(), cmap='gray')\n",
    "        axes[1].set_title(\"Noisy\")\n",
    "        axes[2].imshow(outputs[0].cpu().numpy().squeeze(), cmap='gray')\n",
    "        axes[2].set_title(\"Denoised\")\n",
    "        plt.show()\n",
    "        break"
   ]
  },
  {
   "cell_type": "markdown",
   "metadata": {},
   "source": [
    "# Diffusion Models"
   ]
  },
  {
   "cell_type": "markdown",
   "metadata": {},
   "source": [
    "Diffusion models are built around two core ideas: a **forward process** (adding noise step-by-step) and a **reverse process** (learning how to remove noise)."
   ]
  },
  {
   "cell_type": "markdown",
   "metadata": {},
   "source": [
    "## Forward Process: Incremental Noise Addition\n",
    "\n",
    "The forward diffusion process progressively adds noise to clean data (e.g., an image) over a sequence of small steps until the original data becomes indistinguishable from pure random noise. Each step adds a controlled amount of Gaussian noise.\n",
    "\n",
    "Mathematically, this process can be described simply as:\n",
    "\n",
    "$$x_0 \\rightarrow x_1 \\rightarrow x_2 \\rightarrow \\cdots \\rightarrow x_T$$\n",
    "\n",
    "where:\n",
    "\n",
    "- $x_0$​ is the original clean image.\n",
    "\n",
    "- Each step adds slight Gaussian noise, resulting in increasingly noisy images $x_t$​, until the final noisy state $x_T$​ resembles pure noise.\n",
    "\n",
    "This process is deterministic and does not involve training. It's just repeatedly adding known noise distributions."
   ]
  },
  {
   "cell_type": "markdown",
   "metadata": {},
   "source": [
    "## Reverse Process: Learning to Denoise\n",
    "\n",
    "The true power of diffusion models lies in their ability to learn the reverse diffusion process, effectively training a neural network (often a U-Net) to denoise and restore noisy images back into clean images. Specifically:\n",
    "\n",
    "- Starting from random noise $(x_T)$, the model attempts to sequentially predict and remove the noise at each step, progressively recovering the original image $(x_0)$.\n",
    "\n",
    "Mathematically, this process can be described simply as:\n",
    "\n",
    "\n",
    "$$x_T \\rightarrow x_{T-1} \\rightarrow x_{T-2} \\rightarrow \\cdots \\rightarrow x_1 \\rightarrow x_0\n",
    "$$\n",
    "\n",
    "During training, the model sees noisy images at various stages and learns to estimate the noise itself, enabling effective denoising at inference time."
   ]
  },
  {
   "cell_type": "code",
   "execution_count": 1,
   "metadata": {},
   "outputs": [],
   "source": [
    "import torch\n",
    "import torch.nn as nn\n",
    "import torch.optim as optim\n",
    "from torchvision import datasets, transforms\n",
    "import matplotlib.pyplot as plt\n",
    "import numpy as np\n",
    "from tqdm.notebook import tqdm\n",
    "\n",
    "device = torch.device('cuda' if torch.cuda.is_available() else 'cpu')\n",
    "\n",
    "transform = transforms.Compose([transforms.ToTensor()])\n",
    "train_data = datasets.FashionMNIST(root='../data', train=True, download=True, transform=transform)\n",
    "train_loader = torch.utils.data.DataLoader(train_data, batch_size=128, shuffle=True)\n"
   ]
  },
  {
   "cell_type": "markdown",
   "metadata": {},
   "source": [
    "## Noise Scheduler Explained\n",
    "\n",
    "In diffusion models, the forward process incrementally adds noise to images following a defined schedule. At each timestep $ t $, noise is added according to:\n",
    "\n",
    "$$\n",
    "q(x_t \\mid x_{t-1}) = \\mathcal{N}(x_t; \\sqrt{1 - \\beta_t}\\, x_{t-1}, \\beta_t I)\n",
    "$$\n",
    "\n",
    "We can also define a **closed-form** version of the forward process that directly jumps from the original data $ x_0 $ to timestep $ x_t $:\n",
    "\n",
    "$$\n",
    "q(x_t \\mid x_0) = \\mathcal{N}(x_t; \\sqrt{\\bar{\\alpha}_t}\\, x_0, (1 - \\bar{\\alpha}_t) I)\n",
    "$$\n",
    "\n",
    "This allows efficient sampling at arbitrary timesteps, as:\n",
    "\n",
    "$$\n",
    "x_t = \\sqrt{\\bar{\\alpha}_t}\\, x_0 + \\sqrt{1 - \\bar{\\alpha}_t}\\, \\epsilon,\\quad \\epsilon \\sim \\mathcal{N}(0, I)\n",
    "$$\n",
    "\n",
    "Here:\n",
    "\n",
    "- $\\beta_t$: noise added at each step, often linearly increasing from small to larger values.\n",
    "- $\\alpha_t = 1 - \\beta_t$, and cumulative product $\\bar{\\alpha}_t = \\prod_{i=1}^{t}\\alpha_i$.\n",
    "\n",
    "These parameters control how quickly the data moves from clean images ($ x_0 $) to pure noise ($ x_T $).\n"
   ]
  },
  {
   "cell_type": "code",
   "execution_count": 2,
   "metadata": {},
   "outputs": [],
   "source": [
    "T = 100  # Diffusion steps\n",
    "\n",
    "betas = torch.linspace(1e-4, 0.02, T).to(device)  # Noise schedule\n",
    "alphas = 1 - betas\n",
    "alphas_cumprod = torch.cumprod(alphas, dim=0)\n",
    "\n",
    "# Function to add noise at timestep t\n",
    "def add_noise(x0, t):\n",
    "    sqrt_alphas_cumprod = alphas_cumprod[t]**0.5\n",
    "    sqrt_one_minus_alphas_cumprod = (1 - alphas_cumprod[t])**0.5\n",
    "    epsilon = torch.randn_like(x0)\n",
    "    xt = sqrt_alphas_cumprod[:, None, None, None] * x0 + \\\n",
    "         sqrt_one_minus_alphas_cumprod[:, None, None, None] * epsilon\n",
    "    return xt, epsilon\n"
   ]
  },
  {
   "cell_type": "markdown",
   "metadata": {},
   "source": [
    "#### Extending the U-Net\n",
    "\n",
    "Diffusion models progressively add and remove noise. To effectively predict the amount of noise at each step, the neural network (U-Net) must be explicitly informed about the current timestep. Timestep embeddings serve this purpose by providing a clear, learnable signal about the noise level to the model.\n",
    "\n",
    "Timestep embeddings typically use sinusoidal (positional) embeddings, similar to those in transformer models:\n",
    "\n",
    "$$\n",
    "\\text{emb}(t)_i = \n",
    "\\begin{cases}\n",
    "\\sin\\left(\\frac{t}{10000^{2i/d}}\\right), & i\\text{ even}\\\\[6pt]\n",
    "\\cos\\left(\\frac{t}{10000^{2(i-1)/d}}\\right), & i\\text{ odd}\n",
    "\\end{cases}\n",
    "$$\n",
    "\n",
    "where $ t $ is the timestep, $ d $ is the embedding dimension, and $ i $ indexes embedding components.\n",
    "\n",
    " \n",
    "These embeddings are typically projected through a linear layer, passed through a non-linear activation, and added or concatenated to intermediate feature maps, often at the bottleneck, enabling the U-Net to condition its behavior on the noise level at each step.\n"
   ]
  },
  {
   "cell_type": "code",
   "execution_count": 5,
   "metadata": {},
   "outputs": [],
   "source": [
    "# Positional embedding for timestep\n",
    "class TimeEmbedding(nn.Module):\n",
    "    def __init__(self, dim):\n",
    "        super().__init__()\n",
    "        self.dim = dim\n",
    "\n",
    "    def forward(self, t):\n",
    "        half_dim = self.dim // 2\n",
    "        emb = np.log(10000) / (half_dim - 1)\n",
    "        emb = torch.exp(torch.arange(half_dim, device=t.device) * -emb)\n",
    "        emb = t[:, None] * emb[None, :]\n",
    "        emb = torch.cat((emb.sin(), emb.cos()), dim=-1)\n",
    "        return emb\n",
    "\n",
    "# U-Net with time embedding\n",
    "class UNet(nn.Module):\n",
    "    def __init__(self, time_emb_dim=32):\n",
    "        super(UNet, self).__init__()\n",
    "\n",
    "        # Time embedding\n",
    "        self.time_embed = nn.Sequential(\n",
    "            TimeEmbedding(time_emb_dim),\n",
    "            nn.Linear(time_emb_dim, 32),\n",
    "            nn.ReLU()\n",
    "        )\n",
    "\n",
    "        # Encoder layers\n",
    "        self.enc1 = nn.Sequential(nn.Conv2d(1, 16, 3, padding=1), nn.ReLU())\n",
    "        self.pool1 = nn.MaxPool2d(2)\n",
    "\n",
    "        self.enc2 = nn.Sequential(nn.Conv2d(16, 32, 3, padding=1), nn.ReLU())\n",
    "        self.pool2 = nn.MaxPool2d(2)\n",
    "\n",
    "        # Bottleneck\n",
    "        self.bottleneck = nn.Sequential(nn.Conv2d(32, 64, 3, padding=1), nn.ReLU())\n",
    "\n",
    "        # Decoder layers\n",
    "        self.upconv2 = nn.ConvTranspose2d(64, 32, 2, stride=2)\n",
    "        self.dec2 = nn.Sequential(nn.Conv2d(64, 32, 3, padding=1), nn.ReLU())\n",
    "\n",
    "        self.upconv1 = nn.ConvTranspose2d(32, 16, 2, stride=2)\n",
    "        self.dec1 = nn.Sequential(nn.Conv2d(32, 16, 3, padding=1), nn.ReLU())\n",
    "\n",
    "        # Final Convolution\n",
    "        self.conv_final = nn.Conv2d(16, 1, kernel_size=1)\n",
    "\n",
    "    def forward(self, x, t):\n",
    "        t_emb = self.time_embed(t).unsqueeze(-1).unsqueeze(-1)  # (B, C, 1, 1)\n",
    "\n",
    "        enc1 = self.enc1(x)\n",
    "        enc2 = self.enc2(self.pool1(enc1))\n",
    "\n",
    "        bottleneck = self.bottleneck(self.pool2(enc2) + t_emb)\n",
    "\n",
    "        dec2 = self.upconv2(bottleneck)\n",
    "        dec2 = self.dec2(torch.cat((dec2, enc2), dim=1))\n",
    "\n",
    "        dec1 = self.upconv1(dec2)\n",
    "        dec1 = self.dec1(torch.cat((dec1, enc1), dim=1))\n",
    "\n",
    "        return self.conv_final(dec1)"
   ]
  },
  {
   "cell_type": "markdown",
   "metadata": {},
   "source": [
    "## Training Loop\n",
    "\n",
    "For each training step:\n",
    "- Sample a batch of images.\n",
    "- Randomly choose a timestep $ t $ for each image.\n",
    "- Compute the noised image using our forward diffusion function.\n",
    "- Have the model predict the noise given the noised image and the timestep.\n",
    "- Compute the loss (MSE) between the true noise and the model’s prediction.\n",
    "- Log training loss to wandb.\n"
   ]
  },
  {
   "cell_type": "code",
   "execution_count": null,
   "metadata": {},
   "outputs": [
    {
     "data": {
      "application/vnd.jupyter.widget-view+json": {
       "model_id": "417184b4386543d09af651e7552b723f",
       "version_major": 2,
       "version_minor": 0
      },
      "text/plain": [
       "Epoch 1/5:   0%|          | 0/469 [00:00<?, ?batch/s]"
      ]
     },
     "metadata": {},
     "output_type": "display_data"
    },
    {
     "name": "stdout",
     "output_type": "stream",
     "text": [
      "Epoch 1/5, Loss: 0.2451\n"
     ]
    },
    {
     "data": {
      "application/vnd.jupyter.widget-view+json": {
       "model_id": "4cfae5bf81ed4f6080b9fb6693801c93",
       "version_major": 2,
       "version_minor": 0
      },
      "text/plain": [
       "Epoch 2/5:   0%|          | 0/469 [00:00<?, ?batch/s]"
      ]
     },
     "metadata": {},
     "output_type": "display_data"
    },
    {
     "name": "stdout",
     "output_type": "stream",
     "text": [
      "Epoch 2/5, Loss: 0.1452\n"
     ]
    },
    {
     "data": {
      "application/vnd.jupyter.widget-view+json": {
       "model_id": "0bdda68e370a4d3595b13facb3e0078e",
       "version_major": 2,
       "version_minor": 0
      },
      "text/plain": [
       "Epoch 3/5:   0%|          | 0/469 [00:00<?, ?batch/s]"
      ]
     },
     "metadata": {},
     "output_type": "display_data"
    },
    {
     "name": "stdout",
     "output_type": "stream",
     "text": [
      "Epoch 3/5, Loss: 0.1305\n"
     ]
    },
    {
     "data": {
      "application/vnd.jupyter.widget-view+json": {
       "model_id": "88517e89e4494bc6b1a05828f722a7b2",
       "version_major": 2,
       "version_minor": 0
      },
      "text/plain": [
       "Epoch 4/5:   0%|          | 0/469 [00:00<?, ?batch/s]"
      ]
     },
     "metadata": {},
     "output_type": "display_data"
    },
    {
     "name": "stdout",
     "output_type": "stream",
     "text": [
      "Epoch 4/5, Loss: 0.1209\n"
     ]
    },
    {
     "data": {
      "application/vnd.jupyter.widget-view+json": {
       "model_id": "797d1514defb436ab43f250b081f0d99",
       "version_major": 2,
       "version_minor": 0
      },
      "text/plain": [
       "Epoch 5/5:   0%|          | 0/469 [00:00<?, ?batch/s]"
      ]
     },
     "metadata": {},
     "output_type": "display_data"
    },
    {
     "name": "stdout",
     "output_type": "stream",
     "text": [
      "Epoch 5/5, Loss: 0.1146\n"
     ]
    }
   ],
   "source": [
    "model = UNet(time_emb_dim=32).to(device)\n",
    "optimizer = optim.Adam(model.parameters(), lr=1e-3)\n",
    "criterion = nn.MSELoss()\n",
    "epochs = 5\n",
    "\n",
    "for epoch in range(epochs):\n",
    "    model.train()\n",
    "    epoch_loss = 0\n",
    "\n",
    "    # Initialize tqdm progress bar\n",
    "    progress_bar = tqdm(train_loader, desc=f\"Epoch {epoch+1}/{epochs}\", unit=\"batch\", leave=True)\n",
    "    for imgs, _ in progress_bar:\n",
    "        imgs = imgs.to(device)\n",
    "        batch_size = imgs.size(0)\n",
    "        \n",
    "        # Sample random timesteps\n",
    "        t = torch.randint(0, T, (batch_size,), device=device).long()\n",
    "        xt, noise = add_noise(imgs, t)\n",
    "\n",
    "        # Normalize t to [0, 1]\n",
    "        t_norm = t.float() / (T - 1)\n",
    "\n",
    "        # Predict noise\n",
    "        noise_pred = model(xt, t_norm)\n",
    "        loss = criterion(noise_pred, noise)\n",
    "\n",
    "        optimizer.zero_grad()\n",
    "        loss.backward()\n",
    "        optimizer.step()\n",
    "\n",
    "        epoch_loss += loss.item()\n",
    "\n",
    "        # Update progress bar postfix with average epoch loss\n",
    "        progress_bar.set_postfix(avg_loss=epoch_loss / (progress_bar.n + 1))\n",
    "\n",
    "    print(f\"Epoch {epoch+1}/{epochs}, Loss: {epoch_loss / len(train_loader):.4f}\")\n"
   ]
  },
  {
   "cell_type": "markdown",
   "metadata": {},
   "source": [
    "## Sampling Process (Reverse Diffusion)\n",
    "\n",
    "To generate images, we perform the **reverse diffusion process**. Starting from pure noise $ x_T \\sim \\mathcal{N}(0, I) $, we iteratively remove noise to recover an image $ x_0 $:\n",
    "\n",
    "At each timestep $ t $ (from $ T $ down to $ 1 $):\n",
    "\n",
    "$$\n",
    "x_{t-1} = \\frac{1}{\\sqrt{\\alpha_t}}\\left(x_t - \\frac{\\beta_t}{\\sqrt{1-\\bar{\\alpha}_t}}\\epsilon_\\theta(x_t,t)\\right) + \\sigma_t z\n",
    "$$\n",
    "\n",
    "Where:\n",
    "\n",
    "- $\\epsilon_\\theta(x_t,t)$ is the predicted noise (from our trained U-Net).\n",
    "- $\\sigma_t = \\sqrt{\\beta_t}$ controls stochasticity.\n",
    "- $z\\sim\\mathcal{N}(0,I)$ is random Gaussian noise added to preserve stochasticity (not added at the last step).\n",
    "\n",
    "This iterative denoising gradually converts pure noise into a clear image.\n"
   ]
  },
  {
   "cell_type": "code",
   "execution_count": 17,
   "metadata": {},
   "outputs": [
    {
     "data": {
      "image/png": "[encoded data removed]",
      "text/plain": [
       "<Figure size 2000x500 with 11 Axes>"
      ]
     },
     "metadata": {},
     "output_type": "display_data"
    }
   ],
   "source": [
    "@torch.no_grad()\n",
    "def sample_image(model, img_shape=(1, 28, 28)):\n",
    "    model.eval()\n",
    "    x = torch.randn((1, *img_shape)).to(device)\n",
    "    images = []\n",
    "\n",
    "    for t in reversed(range(T)):\n",
    "        t_tensor = torch.tensor([t], device=device).float() / (T - 1)\n",
    "        predicted_noise = model(x, t_tensor)\n",
    "        \n",
    "        alpha_t = alphas[t]\n",
    "        alpha_cumprod_t = alphas_cumprod[t]\n",
    "        beta_t = betas[t]\n",
    "\n",
    "        scale = 1 / alpha_t.sqrt()\n",
    "        noise_ratio = beta_t / (1 - alpha_cumprod_t).sqrt()\n",
    "        x = scale * (x - noise_ratio * predicted_noise)\n",
    "        \n",
    "        if t > 0:\n",
    "            noise = torch.randn_like(x)\n",
    "            sigma_t = beta_t.sqrt()\n",
    "            x += sigma_t * noise\n",
    "\n",
    "        if t % 10 == 0 or t == T-1:\n",
    "            images.append(x.cpu().numpy()[0,0])\n",
    "\n",
    "    return images\n",
    "\n",
    "# Visualize the denoising steps\n",
    "sampled_images = sample_image(model)\n",
    "\n",
    "fig, axes = plt.subplots(1, len(sampled_images), figsize=(20, 5))\n",
    "for i, img in enumerate(sampled_images):\n",
    "    axes[i].imshow(img, cmap='gray')\n",
    "    axes[i].axis('off')\n",
    "    axes[i].set_title(f\"Step {i * (T // 10)}\")\n",
    "plt.tight_layout()\n",
    "plt.show()\n"
   ]
  },
  {
   "cell_type": "code",
   "execution_count": 19,
   "metadata": {},
   "outputs": [
    {
     "name": "stdout",
     "output_type": "stream",
     "text": [
      "Diffusion steps: 10\n"
     ]
    },
    {
     "data": {
      "image/png": "[encoded data removed]",
      "text/plain": [
       "<Figure size 640x480 with 1 Axes>"
      ]
     },
     "metadata": {},
     "output_type": "display_data"
    },
    {
     "name": "stdout",
     "output_type": "stream",
     "text": [
      "Diffusion steps: 30\n"
     ]
    },
    {
     "data": {
      "image/png": "[encoded data removed]",
      "text/plain": [
       "<Figure size 640x480 with 1 Axes>"
      ]
     },
     "metadata": {},
     "output_type": "display_data"
    },
    {
     "name": "stdout",
     "output_type": "stream",
     "text": [
      "Diffusion steps: 100\n"
     ]
    },
    {
     "data": {
      "image/png": "[encoded data removed]",
      "text/plain": [
       "<Figure size 640x480 with 1 Axes>"
      ]
     },
     "metadata": {},
     "output_type": "display_data"
    },
    {
     "name": "stdout",
     "output_type": "stream",
     "text": [
      "Diffusion steps: 500\n"
     ]
    },
    {
     "data": {
      "image/png": "[encoded data removed]",
      "text/plain": [
       "<Figure size 640x480 with 1 Axes>"
      ]
     },
     "metadata": {},
     "output_type": "display_data"
    }
   ],
   "source": [
    "def experiment_diffusion_steps(model, steps_list=[10, 50, 100]):\n",
    "    for steps in steps_list:\n",
    "        print(f\"Diffusion steps: {steps}\")\n",
    "        global T, betas, alphas, alphas_cumprod\n",
    "        T = steps\n",
    "        betas = torch.linspace(1e-4, 0.02, T).to(device)\n",
    "        alphas = 1 - betas\n",
    "        alphas_cumprod = torch.cumprod(alphas, dim=0)\n",
    "\n",
    "        sampled_images = sample_image(model)\n",
    "        plt.imshow(sampled_images[-1], cmap='gray')\n",
    "        plt.title(f\"Steps: {steps}\")\n",
    "        plt.axis('off')\n",
    "        plt.show()\n",
    "\n",
    "# Run experiment with different steps\n",
    "experiment_diffusion_steps(model, steps_list=[10, 30, 100, 500])\n"
   ]
  },
  {
   "cell_type": "markdown",
   "metadata": {},
   "source": [
    "## Advanced Practical Examples & Applications"
   ]
  },
  {
   "cell_type": "markdown",
   "metadata": {},
   "source": [
    "TODO"
   ]
  },
  {
   "cell_type": "markdown",
   "metadata": {},
   "source": [
    "## Conclusion and Next Steps\n",
    "\n",
    "In this notebook, we:\n",
    "\n",
    "- Introduced the basics of diffusion models.\n",
    "- Built a simplified diffusion model on MNIST.\n",
    "- Implemented the forward diffusion (noise addition) and reverse (denoising/sampling) processes.\n",
    "- Trained the model while tracking loss with wandb.\n",
    "- Sampled and visualized new images from our model.\n",
    "\n",
    "**Next Steps:**\n",
    "- Experiment with more complex architectures (e.g., U-Net) and datasets (CIFAR-10, CelebA).\n",
    "- Explore conditional diffusion models and latent diffusion methods.\n",
    "- Fine-tune hyperparameters and training strategies for improved sample quality.\n",
    "- Review state-of-the-art implementations using the Hugging Face diffusers library.\n",
    "\n",
    "Happy experimenting!\n"
   ]
  }
 ],
 "metadata": {
  "kernelspec": {
   "display_name": ".venv",
   "language": "python",
   "name": "python3"
  },
  "language_info": {
   "codemirror_mode": {
    "name": "ipython",
    "version": 3
   },
   "file_extension": ".py",
   "mimetype": "text/x-python",
   "name": "python",
   "nbconvert_exporter": "python",
   "pygments_lexer": "ipython3",
   "version": "3.13.2"
  }
 },
 "nbformat": 4,
 "nbformat_minor": 2
}
