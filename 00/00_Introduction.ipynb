{
 "cells": [
  {
   "cell_type": "markdown",
   "metadata": {},
   "source": [
    "# Introduction to Generative AI\n",
    "\n",
    "This course provides a practical introduction to Generative AI, blending hands-on implementation with foundational theory. While some mathematical concepts will be discussed to clarify underlying principles, the primary focus is on practical skills and real-world applications.\n",
    "\n",
    "Throughout the course, you will explore common generative models, essential concepts, best practices, and industry-standard tools to prepare you for building and deploying generative AI solutions professionally."
   ]
  },
  {
   "cell_type": "markdown",
   "metadata": {},
   "source": [
    "## Prerequisites\n",
    "\n",
    "It is assumed you have familiarity with core deep learning concepts, including neural networks, convolutional neural networks (CNNs), recurrent neural networks (RNNs), optimization techniques, and basic training loops.\n",
    "\n",
    "Before running the notebooks locally, ensure your environment is configured properly:\n",
    "\n",
    "```bash\n",
    "    # Create and activate a virtual environment\n",
    "    python -m venv genai-env\n",
    "    source genai-env/bin/activate  # On Windows use: genai-env\\Scripts\\activate\n",
    "\n",
    "    # Install required packages\n",
    "    pip install torch torchvision matplotlib numpy wandb scikit-learn\n",
    "```"
   ]
  },
  {
   "cell_type": "markdown",
   "metadata": {},
   "source": [
    "## Generative AI vs. Traditional Approaches"
   ]
  },
  {
   "cell_type": "markdown",
   "metadata": {},
   "source": [
    "\n",
    "In traditional (classical) machine learning, the primary objective is to learn how to **distinguish** or **classify** data points into specific categories or **predict** continuous values based on input data. These methods rely heavily on **labeled datasets** (supervised learning) and often optimize predictive accuracy. \n",
    "\n",
    "In contrast, Generative AI aims not only to recognize patterns but also to generate new, realistic data instances similar to those seen in training. Rather than merely predicting or classifying, generative models create entirely new samples, such as images, text, audio, or video."
   ]
  },
  {
   "cell_type": "markdown",
   "metadata": {},
   "source": [
    "For example, in image classification, given an image $x$ classify if it is a cat or dog.\n",
    "\n",
    "<img src=\"https://ambolt.io/wp-content/uploads/classification-object-detection.png\" width=\"600\" style=\"display: block; margin: auto;\">\n",
    "\n",
    "*Image Source: [ambolt.io](https://ambolt.io/en/image-classification-and-object-detection/)*  "
   ]
  },
  {
   "cell_type": "markdown",
   "metadata": {},
   "source": [
    "**Generative AI** models on the other hand learn the underlying data distribution  $p^{*}(x)$ so that we can generate new, synthetic data similar to the training examples by sampling from $ x \\sim p^{*}(x) $."
   ]
  },
  {
   "cell_type": "markdown",
   "metadata": {},
   "source": [
    "\n",
    "<img src=\"./images/AI_generated_kitten.webp\" width=\"300\" style=\"display: block; margin: auto;\">\n",
    "\n",
    "*Image Source: [Dall-E](https://openai.com/dall-e-3)*"
   ]
  },
  {
   "cell_type": "markdown",
   "metadata": {},
   "source": [
    "## Latent Spaces\n",
    "\n",
    "\n",
    "**Latent space** is a simplified, compressed representation of data where similar items are grouped closer together, capturing hidden patterns or features that define their structure. It's like a map that organizes complex data into meaningful, lower-dimensional coordinates."
   ]
  },
  {
   "cell_type": "markdown",
   "metadata": {},
   "source": [
    "<img src=\"./images/2D_latent_space.png\" width=\"500\" style=\"display: block; margin: auto;\">"
   ]
  }
 ],
 "metadata": {
  "language_info": {
   "name": "python"
  }
 },
 "nbformat": 4,
 "nbformat_minor": 2
}
