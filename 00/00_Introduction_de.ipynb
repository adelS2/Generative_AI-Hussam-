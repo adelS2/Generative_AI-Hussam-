{
 "cells": [
  {
   "cell_type": "markdown",
   "metadata": {},
   "source": [
    "# Einführung in Generative KI\n",
    "\n",
    "Dieser Kurs bietet eine praxisorientierte Einführung in Generative Künstliche Intelligenz (KI), bei der praktische Umsetzung mit grundlegender Theorie kombiniert wird. Einige mathematische Konzepte werden behandelt, um zentrale Prinzipien zu erläutern, jedoch liegt der Fokus klar auf praktischen Fähigkeiten und realitätsnahen Anwendungen.\n",
    "\n",
    "Im Verlauf des Kurses lernst du gängige generative Modelle, zentrale Konzepte, bewährte Vorgehensweisen und Industriestandards kennen, um dich auf die professionelle Entwicklung und Anwendung generativer KI-Lösungen vorzubereiten."
   ]
  },
  {
   "cell_type": "markdown",
   "metadata": {},
   "source": [
    "## Voraussetzungen\n",
    "\n",
    "Es wird vorausgesetzt, dass du mit grundlegenden Konzepten des Deep Learning vertraut bist, darunter neuronale Netze, Convolutional Neural Networks (CNNs), Recurrent Neural Networks (RNNs), Optimierungstechniken und Trainingsschleifen.\n",
    "\n",
    "Bevor du die Notebooks lokal ausführst, stelle sicher, dass deine Umgebung korrekt eingerichtet ist:\n",
    "\n",
    "```bash\n",
    "# Virtuelle Umgebung erstellen und aktivieren\n",
    "python -m venv genai-env\n",
    "source genai-env/bin/activate  # Unter Windows: genai-env\\Scripts\\activate\n",
    "\n",
    "# Benötigte Pakete installieren\n",
    "pip install torch torchvision matplotlib numpy wandb scikit-learn\n",
    "```"
   ]
  },
  {
   "cell_type": "markdown",
   "metadata": {},
   "source": [
    "## Generative KI vs. traditionelle Ansätze"
   ]
  },
  {
   "cell_type": "markdown",
   "metadata": {},
   "source": [
    "In der klassischen (traditionellen) maschinellen Lernmethodik besteht das Hauptziel darin, Datenpunkte in bestimmte Kategorien zu **klassifizieren** oder **vorherzusagen**, beispielsweise kontinuierliche Werte auf Basis von Eingabedaten. Solche Methoden beruhen oft auf **gelabelten Datensätzen** (überwachtes Lernen) und optimieren die Vorhersagegenauigkeit.\n",
    "\n",
    "Im Gegensatz dazu zielt Generative KI nicht nur darauf ab, Muster zu erkennen, sondern auch neue, realistische Daten zu erzeugen, die den Trainingsdaten ähneln. Statt nur zu klassifizieren oder vorherzusagen, erzeugen generative Modelle vollständig neue Beispiele – etwa Bilder, Texte, Audiodateien oder Videos."
   ]
  },
  {
   "cell_type": "markdown",
   "metadata": {},
   "source": [
    "Zum Beispiel soll bei der Bildklassifikation ein Bild $x$ als Katze oder Hund klassifiziert werden.\n",
    "\n",
    "<img src=\"https://ambolt.io/wp-content/uploads/classification-object-detection.png\" width=\"600\" style=\"display: block; margin: auto;\">\n",
    "\n",
    "*Bildquelle: [ambolt.io](https://ambolt.io/en/image-classification-and-object-detection/)*"
   ]
  },
  {
   "cell_type": "markdown",
   "metadata": {},
   "source": [
    "**Generative KI**-Modelle hingegen lernen die zugrunde liegende Wahrscheinlichkeitsverteilung $p^{*}(x)$ der Daten, sodass neue, synthetische Daten erzeugt werden können, die den Trainingsbeispielen ähneln — durch Ziehen von Stichproben aus $ x \\sim p^{*}(x) $."
   ]
  },
  {
   "cell_type": "markdown",
   "metadata": {},
   "source": [
    "<img src=\"./images/AI_generated_kitten.webp\" width=\"300\" style=\"display: block; margin: auto;\">\n",
    "\n",
    "*Bildquelle: [Dall-E](https://openai.com/dall-e-3)*"
   ]
  },
  {
   "cell_type": "markdown",
   "metadata": {},
   "source": [
    "## Latent Spaces (Latente Räume)\n",
    "\n",
    "Ein **latenter Raum** ist eine vereinfachte, komprimierte Darstellung von Daten, in der ähnliche Elemente näher beieinander liegen. Er fängt verborgene Muster oder Merkmale ein, die die Struktur der Daten definieren. Man kann ihn sich wie eine Landkarte vorstellen, die komplexe Informationen in bedeutungsvolle, niedrigdimensionale Koordinaten überführt."
   ]
  },
  {
   "cell_type": "markdown",
   "metadata": {},
   "source": [
    "<img src=\"./images/2D_latent_space.png\" width=\"500\" style=\"display: block; margin: auto;\">"
   ]
  }
 ],
 "metadata": {
  "language_info": {
   "name": "python"
  }
 },
 "nbformat": 4,
 "nbformat_minor": 2
}
