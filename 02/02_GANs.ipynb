{
 "cells": [
  {
   "cell_type": "markdown",
   "id": "intro",
   "metadata": {},
   "source": [
    "# Generative Adversarial Networks (GANs)\n",
    "\n",
    "In this notebook, we will:\n",
    "\n",
    "- Introduce the basic architecture of GANs, including the roles of the **Generator** and **Discriminator**\n",
    "- Explain the training process and key challenges\n",
    "- Implement a simple GAN on MNIST dataset.\n",
    "- Implement a simple DCGAN (Deep Convolutional GAN) on CelebA dataset.\n",
    "- Discuss common GAN variants such as Conditional GANs, CycleGANs, and others"
   ]
  },
  {
   "cell_type": "markdown",
   "id": "gan-overview",
   "metadata": {},
   "source": [
    "## Introduction to GANs\n",
    "\n",
    "Generative Adversarial Networks (GANs) were introduced by Ian Goodfellow in 2014 [paper](https://arxiv.org/abs/1406.2661). The core idea is to have two neural networks—a **Generator** and a **Discriminator**—competing against each other:\n",
    "\n",
    "- **Generator (G):** Takes in random noise (from a latent space) and attempts to generate realistic data (e.g., images).\n",
    "- **Discriminator (D):** Receives both real data (from the training set) and fake data (produced by the generator) and tries to distinguish between the two.\n",
    "\n",
    "During training, G improves at fooling D, while D gets better at detecting fakes. This adversarial process drives the generator to produce increasingly realistic outputs."
   ]
  },
  {
   "cell_type": "markdown",
   "id": "3264f992",
   "metadata": {},
   "source": [
    "<div style=\"text-align: center;\">\n",
    "    <img src=\"https://developers.google.com/static/machine-learning/gan/images/gan_diagram.svg\" alt=\"developers.google.com\" width=\"900\">\n",
    "</div>\n",
    "\n",
    "Image Source: [developers.google.com](https://developers.google.com/static/machine-learning/gan/images/gan_diagram.svg)"
   ]
  },
  {
   "cell_type": "markdown",
   "id": "71f0196d",
   "metadata": {},
   "source": [
    "### Key Points\n",
    "\n",
    "- **Adversarial Loss:** Both networks are trained with opposing objectives. The generator’s loss is designed to maximize the discriminator’s error, while the discriminator minimizes classification errors.\n",
    "$$\n",
    "\\min_{G} \\max_{D} V(D, G) = \\mathbb{E}_{x \\sim p_{\\text{data}}(x)} \\left[ \\log D(x) \\right] + \\mathbb{E}_{z \\sim p_{z}(z)} \\left[ \\log \\big(1 - D(G(z))\\big) \\right]\n",
    "$$\n",
    "\n",
    "- **Training Challenges:** GANs are notoriously difficult to train due to issues such as mode collapse, non-convergence, and delicate balance between the two networks."
   ]
  },
  {
   "cell_type": "markdown",
   "id": "a3cc2c7b",
   "metadata": {},
   "source": [
    "## Training a Simple GAN on MNIST"
   ]
  },
  {
   "cell_type": "markdown",
   "id": "19f3a39d",
   "metadata": {},
   "source": [
    "In the following we will import the Generator and Discriminator Networks from the [gan.py](./gan/gan.py) file. and import the nessisarly packages."
   ]
  },
  {
   "cell_type": "code",
   "execution_count": 1,
   "id": "import-libraries",
   "metadata": {},
   "outputs": [
    {
     "name": "stdout",
     "output_type": "stream",
     "text": [
      "Random Seed:  42\n",
      "Device: cuda\n"
     ]
    }
   ],
   "source": [
    "import inspect\n",
    "\n",
    "import matplotlib.pyplot as plt\n",
    "import torch\n",
    "import torchvision\n",
    "from IPython.display import Code, clear_output, display\n",
    "from rich.pretty import pprint\n",
    "from torch import nn, optim\n",
    "from torch.nn import functional as F\n",
    "from torch.utils.data import DataLoader\n",
    "from torchvision import datasets, transforms\n",
    "from tqdm.notebook import tqdm\n",
    "\n",
    "# Set manual seed for reproducibility\n",
    "seed = 42\n",
    "print(\"Random Seed: \", seed)\n",
    "torch.manual_seed(seed)\n",
    "\n",
    "# Decide which device we want to run on\n",
    "device = torch.device(\"cuda\" if torch.cuda.is_available() else \"cpu\")\n",
    "print(\"Device:\", device)"
   ]
  },
  {
   "cell_type": "markdown",
   "id": "data-loading",
   "metadata": {},
   "source": [
    "## Data Preparation\n",
    "\n",
    "For this demonstration, we will use the MNIST dataset. Later, we will train a DCGAN on CelebA to see how the model adapts to more complex images.\n",
    "\n",
    "We will normalize the images to the range [-1, 1] (a common practice for GANs) and load the data using PyTorch’s `DataLoader`."
   ]
  },
  {
   "cell_type": "code",
   "execution_count": 2,
   "id": "load-data",
   "metadata": {},
   "outputs": [
    {
     "data": {
      "text/html": [
       "<pre style=\"white-space:pre;overflow-x:auto;line-height:normal;font-family:Menlo,'DejaVu Sans Mono',consolas,'Courier New',monospace\"><span style=\"font-weight: bold\">{</span>\n",
       "<span style=\"color: #7fbf7f; text-decoration-color: #7fbf7f\">│   </span><span style=\"color: #008000; text-decoration-color: #008000\">'use_cuda'</span>: <span style=\"color: #00ff00; text-decoration-color: #00ff00; font-style: italic\">True</span>,\n",
       "<span style=\"color: #7fbf7f; text-decoration-color: #7fbf7f\">│   </span><span style=\"color: #008000; text-decoration-color: #008000\">'data_root'</span>: <span style=\"color: #008000; text-decoration-color: #008000\">'../../data'</span>,\n",
       "<span style=\"color: #7fbf7f; text-decoration-color: #7fbf7f\">│   </span><span style=\"color: #008000; text-decoration-color: #008000\">'batch_size'</span>: <span style=\"color: #008080; text-decoration-color: #008080; font-weight: bold\">64</span>,\n",
       "<span style=\"color: #7fbf7f; text-decoration-color: #7fbf7f\">│   </span><span style=\"color: #008000; text-decoration-color: #008000\">'epochs'</span>: <span style=\"color: #008080; text-decoration-color: #008080; font-weight: bold\">50</span>,\n",
       "<span style=\"color: #7fbf7f; text-decoration-color: #7fbf7f\">│   </span><span style=\"color: #008000; text-decoration-color: #008000\">'lr'</span>: <span style=\"color: #008080; text-decoration-color: #008080; font-weight: bold\">0.0001</span>,\n",
       "<span style=\"color: #7fbf7f; text-decoration-color: #7fbf7f\">│   </span><span style=\"color: #008000; text-decoration-color: #008000\">'beta1'</span>: <span style=\"color: #008080; text-decoration-color: #008080; font-weight: bold\">0.3</span>,\n",
       "<span style=\"color: #7fbf7f; text-decoration-color: #7fbf7f\">│   </span><span style=\"color: #008000; text-decoration-color: #008000\">'latent_dim'</span>: <span style=\"color: #008080; text-decoration-color: #008080; font-weight: bold\">100</span>,\n",
       "<span style=\"color: #7fbf7f; text-decoration-color: #7fbf7f\">│   </span><span style=\"color: #008000; text-decoration-color: #008000\">'log_interval'</span>: <span style=\"color: #008080; text-decoration-color: #008080; font-weight: bold\">100</span>,\n",
       "<span style=\"color: #7fbf7f; text-decoration-color: #7fbf7f\">│   </span><span style=\"color: #008000; text-decoration-color: #008000\">'checkpoint_interval'</span>: <span style=\"color: #008080; text-decoration-color: #008080; font-weight: bold\">10</span>,\n",
       "<span style=\"color: #7fbf7f; text-decoration-color: #7fbf7f\">│   </span><span style=\"color: #008000; text-decoration-color: #008000\">'checkpoint_path'</span>: <span style=\"color: #008000; text-decoration-color: #008000\">'./models/gan_checkpoint.pth'</span>,\n",
       "<span style=\"color: #7fbf7f; text-decoration-color: #7fbf7f\">│   </span><span style=\"color: #008000; text-decoration-color: #008000\">'wandb_project'</span>: <span style=\"color: #008000; text-decoration-color: #008000\">'GAN_MNIST'</span>,\n",
       "<span style=\"color: #7fbf7f; text-decoration-color: #7fbf7f\">│   </span><span style=\"color: #008000; text-decoration-color: #008000\">'num_eval_samples'</span>: <span style=\"color: #008080; text-decoration-color: #008080; font-weight: bold\">16</span>,\n",
       "<span style=\"color: #7fbf7f; text-decoration-color: #7fbf7f\">│   </span><span style=\"color: #008000; text-decoration-color: #008000\">'weight_decay'</span>: <span style=\"color: #008080; text-decoration-color: #008080; font-weight: bold\">1e-05</span>\n",
       "<span style=\"font-weight: bold\">}</span>\n",
       "</pre>\n"
      ],
      "text/plain": [
       "\u001b[1m{\u001b[0m\n",
       "\u001b[2;32m│   \u001b[0m\u001b[32m'use_cuda'\u001b[0m: \u001b[3;92mTrue\u001b[0m,\n",
       "\u001b[2;32m│   \u001b[0m\u001b[32m'data_root'\u001b[0m: \u001b[32m'../../data'\u001b[0m,\n",
       "\u001b[2;32m│   \u001b[0m\u001b[32m'batch_size'\u001b[0m: \u001b[1;36m64\u001b[0m,\n",
       "\u001b[2;32m│   \u001b[0m\u001b[32m'epochs'\u001b[0m: \u001b[1;36m50\u001b[0m,\n",
       "\u001b[2;32m│   \u001b[0m\u001b[32m'lr'\u001b[0m: \u001b[1;36m0.0001\u001b[0m,\n",
       "\u001b[2;32m│   \u001b[0m\u001b[32m'beta1'\u001b[0m: \u001b[1;36m0.3\u001b[0m,\n",
       "\u001b[2;32m│   \u001b[0m\u001b[32m'latent_dim'\u001b[0m: \u001b[1;36m100\u001b[0m,\n",
       "\u001b[2;32m│   \u001b[0m\u001b[32m'log_interval'\u001b[0m: \u001b[1;36m100\u001b[0m,\n",
       "\u001b[2;32m│   \u001b[0m\u001b[32m'checkpoint_interval'\u001b[0m: \u001b[1;36m10\u001b[0m,\n",
       "\u001b[2;32m│   \u001b[0m\u001b[32m'checkpoint_path'\u001b[0m: \u001b[32m'./models/gan_checkpoint.pth'\u001b[0m,\n",
       "\u001b[2;32m│   \u001b[0m\u001b[32m'wandb_project'\u001b[0m: \u001b[32m'GAN_MNIST'\u001b[0m,\n",
       "\u001b[2;32m│   \u001b[0m\u001b[32m'num_eval_samples'\u001b[0m: \u001b[1;36m16\u001b[0m,\n",
       "\u001b[2;32m│   \u001b[0m\u001b[32m'weight_decay'\u001b[0m: \u001b[1;36m1e-05\u001b[0m\n",
       "\u001b[1m}\u001b[0m\n"
      ]
     },
     "metadata": {},
     "output_type": "display_data"
    }
   ],
   "source": [
    "from gan.gan import get_config, get_dataloader\n",
    "\n",
    "# Configuration dictionary\n",
    "config = get_config('./gan/config.yaml')\n",
    "\n",
    "dataloader = get_dataloader(config)\n",
    "\n",
    "pprint(config)"
   ]
  },
  {
   "cell_type": "markdown",
   "id": "gan-models",
   "metadata": {},
   "source": [
    "## Defining the GAN Architecture"
   ]
  },
  {
   "cell_type": "markdown",
   "id": "8a690b13",
   "metadata": {},
   "source": [
    "### Generator\n",
    "\n",
    "The generator takes a latent vector (random noise) as input and produces an image. We use a series of fully connected (dense) layers to transform the latent space into the image dimensions.\n"
   ]
  },
  {
   "cell_type": "code",
   "execution_count": 3,
   "id": "06404f78",
   "metadata": {},
   "outputs": [
    {
     "data": {
      "text/html": [
       "<style>pre { line-height: 125%; }\n",
       "td.linenos .normal { color: inherit; background-color: transparent; padding-left: 5px; padding-right: 5px; }\n",
       "span.linenos { color: inherit; background-color: transparent; padding-left: 5px; padding-right: 5px; }\n",
       "td.linenos .special { color: #000000; background-color: #ffffc0; padding-left: 5px; padding-right: 5px; }\n",
       "span.linenos.special { color: #000000; background-color: #ffffc0; padding-left: 5px; padding-right: 5px; }\n",
       ".output_html .hll { background-color: #ffffcc }\n",
       ".output_html { background: #f8f8f8; }\n",
       ".output_html .c { color: #3D7B7B; font-style: italic } /* Comment */\n",
       ".output_html .err { border: 1px solid #F00 } /* Error */\n",
       ".output_html .k { color: #008000; font-weight: bold } /* Keyword */\n",
       ".output_html .o { color: #666 } /* Operator */\n",
       ".output_html .ch { color: #3D7B7B; font-style: italic } /* Comment.Hashbang */\n",
       ".output_html .cm { color: #3D7B7B; font-style: italic } /* Comment.Multiline */\n",
       ".output_html .cp { color: #9C6500 } /* Comment.Preproc */\n",
       ".output_html .cpf { color: #3D7B7B; font-style: italic } /* Comment.PreprocFile */\n",
       ".output_html .c1 { color: #3D7B7B; font-style: italic } /* Comment.Single */\n",
       ".output_html .cs { color: #3D7B7B; font-style: italic } /* Comment.Special */\n",
       ".output_html .gd { color: #A00000 } /* Generic.Deleted */\n",
       ".output_html .ge { font-style: italic } /* Generic.Emph */\n",
       ".output_html .ges { font-weight: bold; font-style: italic } /* Generic.EmphStrong */\n",
       ".output_html .gr { color: #E40000 } /* Generic.Error */\n",
       ".output_html .gh { color: #000080; font-weight: bold } /* Generic.Heading */\n",
       ".output_html .gi { color: #008400 } /* Generic.Inserted */\n",
       ".output_html .go { color: #717171 } /* Generic.Output */\n",
       ".output_html .gp { color: #000080; font-weight: bold } /* Generic.Prompt */\n",
       ".output_html .gs { font-weight: bold } /* Generic.Strong */\n",
       ".output_html .gu { color: #800080; font-weight: bold } /* Generic.Subheading */\n",
       ".output_html .gt { color: #04D } /* Generic.Traceback */\n",
       ".output_html .kc { color: #008000; font-weight: bold } /* Keyword.Constant */\n",
       ".output_html .kd { color: #008000; font-weight: bold } /* Keyword.Declaration */\n",
       ".output_html .kn { color: #008000; font-weight: bold } /* Keyword.Namespace */\n",
       ".output_html .kp { color: #008000 } /* Keyword.Pseudo */\n",
       ".output_html .kr { color: #008000; font-weight: bold } /* Keyword.Reserved */\n",
       ".output_html .kt { color: #B00040 } /* Keyword.Type */\n",
       ".output_html .m { color: #666 } /* Literal.Number */\n",
       ".output_html .s { color: #BA2121 } /* Literal.String */\n",
       ".output_html .na { color: #687822 } /* Name.Attribute */\n",
       ".output_html .nb { color: #008000 } /* Name.Builtin */\n",
       ".output_html .nc { color: #00F; font-weight: bold } /* Name.Class */\n",
       ".output_html .no { color: #800 } /* Name.Constant */\n",
       ".output_html .nd { color: #A2F } /* Name.Decorator */\n",
       ".output_html .ni { color: #717171; font-weight: bold } /* Name.Entity */\n",
       ".output_html .ne { color: #CB3F38; font-weight: bold } /* Name.Exception */\n",
       ".output_html .nf { color: #00F } /* Name.Function */\n",
       ".output_html .nl { color: #767600 } /* Name.Label */\n",
       ".output_html .nn { color: #00F; font-weight: bold } /* Name.Namespace */\n",
       ".output_html .nt { color: #008000; font-weight: bold } /* Name.Tag */\n",
       ".output_html .nv { color: #19177C } /* Name.Variable */\n",
       ".output_html .ow { color: #A2F; font-weight: bold } /* Operator.Word */\n",
       ".output_html .w { color: #BBB } /* Text.Whitespace */\n",
       ".output_html .mb { color: #666 } /* Literal.Number.Bin */\n",
       ".output_html .mf { color: #666 } /* Literal.Number.Float */\n",
       ".output_html .mh { color: #666 } /* Literal.Number.Hex */\n",
       ".output_html .mi { color: #666 } /* Literal.Number.Integer */\n",
       ".output_html .mo { color: #666 } /* Literal.Number.Oct */\n",
       ".output_html .sa { color: #BA2121 } /* Literal.String.Affix */\n",
       ".output_html .sb { color: #BA2121 } /* Literal.String.Backtick */\n",
       ".output_html .sc { color: #BA2121 } /* Literal.String.Char */\n",
       ".output_html .dl { color: #BA2121 } /* Literal.String.Delimiter */\n",
       ".output_html .sd { color: #BA2121; font-style: italic } /* Literal.String.Doc */\n",
       ".output_html .s2 { color: #BA2121 } /* Literal.String.Double */\n",
       ".output_html .se { color: #AA5D1F; font-weight: bold } /* Literal.String.Escape */\n",
       ".output_html .sh { color: #BA2121 } /* Literal.String.Heredoc */\n",
       ".output_html .si { color: #A45A77; font-weight: bold } /* Literal.String.Interpol */\n",
       ".output_html .sx { color: #008000 } /* Literal.String.Other */\n",
       ".output_html .sr { color: #A45A77 } /* Literal.String.Regex */\n",
       ".output_html .s1 { color: #BA2121 } /* Literal.String.Single */\n",
       ".output_html .ss { color: #19177C } /* Literal.String.Symbol */\n",
       ".output_html .bp { color: #008000 } /* Name.Builtin.Pseudo */\n",
       ".output_html .fm { color: #00F } /* Name.Function.Magic */\n",
       ".output_html .vc { color: #19177C } /* Name.Variable.Class */\n",
       ".output_html .vg { color: #19177C } /* Name.Variable.Global */\n",
       ".output_html .vi { color: #19177C } /* Name.Variable.Instance */\n",
       ".output_html .vm { color: #19177C } /* Name.Variable.Magic */\n",
       ".output_html .il { color: #666 } /* Literal.Number.Integer.Long */</style><div class=\"highlight\"><pre><span></span><span class=\"k\">class</span><span class=\"w\"> </span><span class=\"nc\">Generator</span><span class=\"p\">(</span><span class=\"n\">nn</span><span class=\"o\">.</span><span class=\"n\">Module</span><span class=\"p\">):</span>\n",
       "    <span class=\"k\">def</span><span class=\"w\"> </span><span class=\"fm\">__init__</span><span class=\"p\">(</span><span class=\"bp\">self</span><span class=\"p\">,</span> <span class=\"n\">latent_dim</span><span class=\"p\">):</span>\n",
       "        <span class=\"nb\">super</span><span class=\"p\">(</span><span class=\"n\">Generator</span><span class=\"p\">,</span> <span class=\"bp\">self</span><span class=\"p\">)</span><span class=\"o\">.</span><span class=\"fm\">__init__</span><span class=\"p\">()</span>\n",
       "        <span class=\"bp\">self</span><span class=\"o\">.</span><span class=\"n\">latent_dim</span> <span class=\"o\">=</span> <span class=\"n\">latent_dim</span>\n",
       "        <span class=\"bp\">self</span><span class=\"o\">.</span><span class=\"n\">net</span> <span class=\"o\">=</span> <span class=\"n\">nn</span><span class=\"o\">.</span><span class=\"n\">Sequential</span><span class=\"p\">(</span>\n",
       "            <span class=\"n\">nn</span><span class=\"o\">.</span><span class=\"n\">Linear</span><span class=\"p\">(</span><span class=\"bp\">self</span><span class=\"o\">.</span><span class=\"n\">latent_dim</span><span class=\"p\">,</span> <span class=\"mi\">128</span><span class=\"p\">),</span>\n",
       "            <span class=\"n\">nn</span><span class=\"o\">.</span><span class=\"n\">ReLU</span><span class=\"p\">(),</span>\n",
       "\n",
       "            <span class=\"n\">nn</span><span class=\"o\">.</span><span class=\"n\">Linear</span><span class=\"p\">(</span><span class=\"mi\">128</span><span class=\"p\">,</span> <span class=\"mi\">256</span><span class=\"p\">),</span>\n",
       "            <span class=\"n\">nn</span><span class=\"o\">.</span><span class=\"n\">BatchNorm1d</span><span class=\"p\">(</span><span class=\"mi\">256</span><span class=\"p\">),</span>\n",
       "            <span class=\"n\">nn</span><span class=\"o\">.</span><span class=\"n\">ReLU</span><span class=\"p\">(),</span>\n",
       "\n",
       "            <span class=\"n\">nn</span><span class=\"o\">.</span><span class=\"n\">Linear</span><span class=\"p\">(</span><span class=\"mi\">256</span><span class=\"p\">,</span> <span class=\"mi\">512</span><span class=\"p\">),</span>\n",
       "            <span class=\"n\">nn</span><span class=\"o\">.</span><span class=\"n\">BatchNorm1d</span><span class=\"p\">(</span><span class=\"mi\">512</span><span class=\"p\">),</span>\n",
       "            <span class=\"n\">nn</span><span class=\"o\">.</span><span class=\"n\">ReLU</span><span class=\"p\">(),</span>\n",
       "\n",
       "            <span class=\"n\">nn</span><span class=\"o\">.</span><span class=\"n\">Linear</span><span class=\"p\">(</span><span class=\"mi\">512</span><span class=\"p\">,</span> <span class=\"mi\">28</span><span class=\"o\">*</span><span class=\"mi\">28</span><span class=\"p\">),</span>\n",
       "            <span class=\"n\">nn</span><span class=\"o\">.</span><span class=\"n\">Tanh</span><span class=\"p\">()</span>\n",
       "        <span class=\"p\">)</span>\n",
       "\n",
       "    <span class=\"k\">def</span><span class=\"w\"> </span><span class=\"nf\">forward</span><span class=\"p\">(</span><span class=\"bp\">self</span><span class=\"p\">,</span> <span class=\"n\">z</span><span class=\"p\">):</span>\n",
       "        <span class=\"n\">img</span> <span class=\"o\">=</span> <span class=\"bp\">self</span><span class=\"o\">.</span><span class=\"n\">net</span><span class=\"p\">(</span><span class=\"n\">z</span><span class=\"p\">)</span>\n",
       "        <span class=\"n\">img</span> <span class=\"o\">=</span> <span class=\"n\">img</span><span class=\"o\">.</span><span class=\"n\">view</span><span class=\"p\">(</span><span class=\"n\">z</span><span class=\"o\">.</span><span class=\"n\">size</span><span class=\"p\">(</span><span class=\"mi\">0</span><span class=\"p\">),</span> <span class=\"mi\">1</span><span class=\"p\">,</span> <span class=\"mi\">28</span><span class=\"p\">,</span> <span class=\"mi\">28</span><span class=\"p\">)</span>\n",
       "        <span class=\"k\">return</span> <span class=\"n\">img</span>\n",
       "</pre></div>\n"
      ],
      "text/latex": [
       "\\begin{Verbatim}[commandchars=\\\\\\{\\}]\n",
       "\\PY{k}{class}\\PY{+w}{ }\\PY{n+nc}{Generator}\\PY{p}{(}\\PY{n}{nn}\\PY{o}{.}\\PY{n}{Module}\\PY{p}{)}\\PY{p}{:}\n",
       "    \\PY{k}{def}\\PY{+w}{ }\\PY{n+nf+fm}{\\PYZus{}\\PYZus{}init\\PYZus{}\\PYZus{}}\\PY{p}{(}\\PY{n+nb+bp}{self}\\PY{p}{,} \\PY{n}{latent\\PYZus{}dim}\\PY{p}{)}\\PY{p}{:}\n",
       "        \\PY{n+nb}{super}\\PY{p}{(}\\PY{n}{Generator}\\PY{p}{,} \\PY{n+nb+bp}{self}\\PY{p}{)}\\PY{o}{.}\\PY{n+nf+fm}{\\PYZus{}\\PYZus{}init\\PYZus{}\\PYZus{}}\\PY{p}{(}\\PY{p}{)}\n",
       "        \\PY{n+nb+bp}{self}\\PY{o}{.}\\PY{n}{latent\\PYZus{}dim} \\PY{o}{=} \\PY{n}{latent\\PYZus{}dim}\n",
       "        \\PY{n+nb+bp}{self}\\PY{o}{.}\\PY{n}{net} \\PY{o}{=} \\PY{n}{nn}\\PY{o}{.}\\PY{n}{Sequential}\\PY{p}{(}\n",
       "            \\PY{n}{nn}\\PY{o}{.}\\PY{n}{Linear}\\PY{p}{(}\\PY{n+nb+bp}{self}\\PY{o}{.}\\PY{n}{latent\\PYZus{}dim}\\PY{p}{,} \\PY{l+m+mi}{128}\\PY{p}{)}\\PY{p}{,}\n",
       "            \\PY{n}{nn}\\PY{o}{.}\\PY{n}{ReLU}\\PY{p}{(}\\PY{p}{)}\\PY{p}{,}\n",
       "\n",
       "            \\PY{n}{nn}\\PY{o}{.}\\PY{n}{Linear}\\PY{p}{(}\\PY{l+m+mi}{128}\\PY{p}{,} \\PY{l+m+mi}{256}\\PY{p}{)}\\PY{p}{,}\n",
       "            \\PY{n}{nn}\\PY{o}{.}\\PY{n}{BatchNorm1d}\\PY{p}{(}\\PY{l+m+mi}{256}\\PY{p}{)}\\PY{p}{,}\n",
       "            \\PY{n}{nn}\\PY{o}{.}\\PY{n}{ReLU}\\PY{p}{(}\\PY{p}{)}\\PY{p}{,}\n",
       "\n",
       "            \\PY{n}{nn}\\PY{o}{.}\\PY{n}{Linear}\\PY{p}{(}\\PY{l+m+mi}{256}\\PY{p}{,} \\PY{l+m+mi}{512}\\PY{p}{)}\\PY{p}{,}\n",
       "            \\PY{n}{nn}\\PY{o}{.}\\PY{n}{BatchNorm1d}\\PY{p}{(}\\PY{l+m+mi}{512}\\PY{p}{)}\\PY{p}{,}\n",
       "            \\PY{n}{nn}\\PY{o}{.}\\PY{n}{ReLU}\\PY{p}{(}\\PY{p}{)}\\PY{p}{,}\n",
       "\n",
       "            \\PY{n}{nn}\\PY{o}{.}\\PY{n}{Linear}\\PY{p}{(}\\PY{l+m+mi}{512}\\PY{p}{,} \\PY{l+m+mi}{28}\\PY{o}{*}\\PY{l+m+mi}{28}\\PY{p}{)}\\PY{p}{,}\n",
       "            \\PY{n}{nn}\\PY{o}{.}\\PY{n}{Tanh}\\PY{p}{(}\\PY{p}{)}\n",
       "        \\PY{p}{)}\n",
       "\n",
       "    \\PY{k}{def}\\PY{+w}{ }\\PY{n+nf}{forward}\\PY{p}{(}\\PY{n+nb+bp}{self}\\PY{p}{,} \\PY{n}{z}\\PY{p}{)}\\PY{p}{:}\n",
       "        \\PY{n}{img} \\PY{o}{=} \\PY{n+nb+bp}{self}\\PY{o}{.}\\PY{n}{net}\\PY{p}{(}\\PY{n}{z}\\PY{p}{)}\n",
       "        \\PY{n}{img} \\PY{o}{=} \\PY{n}{img}\\PY{o}{.}\\PY{n}{view}\\PY{p}{(}\\PY{n}{z}\\PY{o}{.}\\PY{n}{size}\\PY{p}{(}\\PY{l+m+mi}{0}\\PY{p}{)}\\PY{p}{,} \\PY{l+m+mi}{1}\\PY{p}{,} \\PY{l+m+mi}{28}\\PY{p}{,} \\PY{l+m+mi}{28}\\PY{p}{)}\n",
       "        \\PY{k}{return} \\PY{n}{img}\n",
       "\\end{Verbatim}\n"
      ],
      "text/plain": [
       "class Generator(nn.Module):\n",
       "    def __init__(self, latent_dim):\n",
       "        super(Generator, self).__init__()\n",
       "        self.latent_dim = latent_dim\n",
       "        self.net = nn.Sequential(\n",
       "            nn.Linear(self.latent_dim, 128),\n",
       "            nn.ReLU(),\n",
       "\n",
       "            nn.Linear(128, 256),\n",
       "            nn.BatchNorm1d(256),\n",
       "            nn.ReLU(),\n",
       "\n",
       "            nn.Linear(256, 512),\n",
       "            nn.BatchNorm1d(512),\n",
       "            nn.ReLU(),\n",
       "\n",
       "            nn.Linear(512, 28*28),\n",
       "            nn.Tanh()\n",
       "        )\n",
       "\n",
       "    def forward(self, z):\n",
       "        img = self.net(z)\n",
       "        img = img.view(z.size(0), 1, 28, 28)\n",
       "        return img"
      ]
     },
     "metadata": {},
     "output_type": "display_data"
    }
   ],
   "source": [
    "from gan.gan import Generator\n",
    "\n",
    "generator = Generator(config['latent_dim']).to(device)\n",
    "\n",
    "display(Code(inspect.getsource(Generator), language=\"python\"))"
   ]
  },
  {
   "cell_type": "markdown",
   "id": "94aa9612",
   "metadata": {},
   "source": [
    "### Discriminator\n",
    "\n",
    "The discriminator is a convolutional network that takes an image as input and outputs a single scalar representing the probability that the input is real."
   ]
  },
  {
   "cell_type": "code",
   "execution_count": 4,
   "id": "eeb7fdf7",
   "metadata": {},
   "outputs": [
    {
     "data": {
      "text/html": [
       "<style>pre { line-height: 125%; }\n",
       "td.linenos .normal { color: inherit; background-color: transparent; padding-left: 5px; padding-right: 5px; }\n",
       "span.linenos { color: inherit; background-color: transparent; padding-left: 5px; padding-right: 5px; }\n",
       "td.linenos .special { color: #000000; background-color: #ffffc0; padding-left: 5px; padding-right: 5px; }\n",
       "span.linenos.special { color: #000000; background-color: #ffffc0; padding-left: 5px; padding-right: 5px; }\n",
       ".output_html .hll { background-color: #ffffcc }\n",
       ".output_html { background: #f8f8f8; }\n",
       ".output_html .c { color: #3D7B7B; font-style: italic } /* Comment */\n",
       ".output_html .err { border: 1px solid #F00 } /* Error */\n",
       ".output_html .k { color: #008000; font-weight: bold } /* Keyword */\n",
       ".output_html .o { color: #666 } /* Operator */\n",
       ".output_html .ch { color: #3D7B7B; font-style: italic } /* Comment.Hashbang */\n",
       ".output_html .cm { color: #3D7B7B; font-style: italic } /* Comment.Multiline */\n",
       ".output_html .cp { color: #9C6500 } /* Comment.Preproc */\n",
       ".output_html .cpf { color: #3D7B7B; font-style: italic } /* Comment.PreprocFile */\n",
       ".output_html .c1 { color: #3D7B7B; font-style: italic } /* Comment.Single */\n",
       ".output_html .cs { color: #3D7B7B; font-style: italic } /* Comment.Special */\n",
       ".output_html .gd { color: #A00000 } /* Generic.Deleted */\n",
       ".output_html .ge { font-style: italic } /* Generic.Emph */\n",
       ".output_html .ges { font-weight: bold; font-style: italic } /* Generic.EmphStrong */\n",
       ".output_html .gr { color: #E40000 } /* Generic.Error */\n",
       ".output_html .gh { color: #000080; font-weight: bold } /* Generic.Heading */\n",
       ".output_html .gi { color: #008400 } /* Generic.Inserted */\n",
       ".output_html .go { color: #717171 } /* Generic.Output */\n",
       ".output_html .gp { color: #000080; font-weight: bold } /* Generic.Prompt */\n",
       ".output_html .gs { font-weight: bold } /* Generic.Strong */\n",
       ".output_html .gu { color: #800080; font-weight: bold } /* Generic.Subheading */\n",
       ".output_html .gt { color: #04D } /* Generic.Traceback */\n",
       ".output_html .kc { color: #008000; font-weight: bold } /* Keyword.Constant */\n",
       ".output_html .kd { color: #008000; font-weight: bold } /* Keyword.Declaration */\n",
       ".output_html .kn { color: #008000; font-weight: bold } /* Keyword.Namespace */\n",
       ".output_html .kp { color: #008000 } /* Keyword.Pseudo */\n",
       ".output_html .kr { color: #008000; font-weight: bold } /* Keyword.Reserved */\n",
       ".output_html .kt { color: #B00040 } /* Keyword.Type */\n",
       ".output_html .m { color: #666 } /* Literal.Number */\n",
       ".output_html .s { color: #BA2121 } /* Literal.String */\n",
       ".output_html .na { color: #687822 } /* Name.Attribute */\n",
       ".output_html .nb { color: #008000 } /* Name.Builtin */\n",
       ".output_html .nc { color: #00F; font-weight: bold } /* Name.Class */\n",
       ".output_html .no { color: #800 } /* Name.Constant */\n",
       ".output_html .nd { color: #A2F } /* Name.Decorator */\n",
       ".output_html .ni { color: #717171; font-weight: bold } /* Name.Entity */\n",
       ".output_html .ne { color: #CB3F38; font-weight: bold } /* Name.Exception */\n",
       ".output_html .nf { color: #00F } /* Name.Function */\n",
       ".output_html .nl { color: #767600 } /* Name.Label */\n",
       ".output_html .nn { color: #00F; font-weight: bold } /* Name.Namespace */\n",
       ".output_html .nt { color: #008000; font-weight: bold } /* Name.Tag */\n",
       ".output_html .nv { color: #19177C } /* Name.Variable */\n",
       ".output_html .ow { color: #A2F; font-weight: bold } /* Operator.Word */\n",
       ".output_html .w { color: #BBB } /* Text.Whitespace */\n",
       ".output_html .mb { color: #666 } /* Literal.Number.Bin */\n",
       ".output_html .mf { color: #666 } /* Literal.Number.Float */\n",
       ".output_html .mh { color: #666 } /* Literal.Number.Hex */\n",
       ".output_html .mi { color: #666 } /* Literal.Number.Integer */\n",
       ".output_html .mo { color: #666 } /* Literal.Number.Oct */\n",
       ".output_html .sa { color: #BA2121 } /* Literal.String.Affix */\n",
       ".output_html .sb { color: #BA2121 } /* Literal.String.Backtick */\n",
       ".output_html .sc { color: #BA2121 } /* Literal.String.Char */\n",
       ".output_html .dl { color: #BA2121 } /* Literal.String.Delimiter */\n",
       ".output_html .sd { color: #BA2121; font-style: italic } /* Literal.String.Doc */\n",
       ".output_html .s2 { color: #BA2121 } /* Literal.String.Double */\n",
       ".output_html .se { color: #AA5D1F; font-weight: bold } /* Literal.String.Escape */\n",
       ".output_html .sh { color: #BA2121 } /* Literal.String.Heredoc */\n",
       ".output_html .si { color: #A45A77; font-weight: bold } /* Literal.String.Interpol */\n",
       ".output_html .sx { color: #008000 } /* Literal.String.Other */\n",
       ".output_html .sr { color: #A45A77 } /* Literal.String.Regex */\n",
       ".output_html .s1 { color: #BA2121 } /* Literal.String.Single */\n",
       ".output_html .ss { color: #19177C } /* Literal.String.Symbol */\n",
       ".output_html .bp { color: #008000 } /* Name.Builtin.Pseudo */\n",
       ".output_html .fm { color: #00F } /* Name.Function.Magic */\n",
       ".output_html .vc { color: #19177C } /* Name.Variable.Class */\n",
       ".output_html .vg { color: #19177C } /* Name.Variable.Global */\n",
       ".output_html .vi { color: #19177C } /* Name.Variable.Instance */\n",
       ".output_html .vm { color: #19177C } /* Name.Variable.Magic */\n",
       ".output_html .il { color: #666 } /* Literal.Number.Integer.Long */</style><div class=\"highlight\"><pre><span></span><span class=\"k\">class</span><span class=\"w\"> </span><span class=\"nc\">Discriminator</span><span class=\"p\">(</span><span class=\"n\">nn</span><span class=\"o\">.</span><span class=\"n\">Module</span><span class=\"p\">):</span>\n",
       "    <span class=\"k\">def</span><span class=\"w\"> </span><span class=\"fm\">__init__</span><span class=\"p\">(</span><span class=\"bp\">self</span><span class=\"p\">):</span>\n",
       "        <span class=\"nb\">super</span><span class=\"p\">(</span><span class=\"n\">Discriminator</span><span class=\"p\">,</span> <span class=\"bp\">self</span><span class=\"p\">)</span><span class=\"o\">.</span><span class=\"fm\">__init__</span><span class=\"p\">()</span>\n",
       "        <span class=\"bp\">self</span><span class=\"o\">.</span><span class=\"n\">net</span> <span class=\"o\">=</span> <span class=\"n\">nn</span><span class=\"o\">.</span><span class=\"n\">Sequential</span><span class=\"p\">(</span>\n",
       "            <span class=\"n\">nn</span><span class=\"o\">.</span><span class=\"n\">Linear</span><span class=\"p\">(</span><span class=\"mi\">28</span><span class=\"o\">*</span><span class=\"mi\">28</span><span class=\"p\">,</span> <span class=\"mi\">512</span><span class=\"p\">),</span>\n",
       "            <span class=\"n\">nn</span><span class=\"o\">.</span><span class=\"n\">LeakyReLU</span><span class=\"p\">(</span><span class=\"mf\">0.2</span><span class=\"p\">),</span>\n",
       "\n",
       "            <span class=\"n\">nn</span><span class=\"o\">.</span><span class=\"n\">Linear</span><span class=\"p\">(</span><span class=\"mi\">512</span><span class=\"p\">,</span> <span class=\"mi\">256</span><span class=\"p\">),</span>\n",
       "            <span class=\"n\">nn</span><span class=\"o\">.</span><span class=\"n\">LeakyReLU</span><span class=\"p\">(</span><span class=\"mf\">0.2</span><span class=\"p\">),</span>\n",
       "            \n",
       "            <span class=\"n\">nn</span><span class=\"o\">.</span><span class=\"n\">Linear</span><span class=\"p\">(</span><span class=\"mi\">256</span><span class=\"p\">,</span> <span class=\"mi\">1</span><span class=\"p\">),</span>\n",
       "            <span class=\"n\">nn</span><span class=\"o\">.</span><span class=\"n\">Sigmoid</span><span class=\"p\">()</span>\n",
       "        <span class=\"p\">)</span>\n",
       "\n",
       "    <span class=\"k\">def</span><span class=\"w\"> </span><span class=\"nf\">forward</span><span class=\"p\">(</span><span class=\"bp\">self</span><span class=\"p\">,</span> <span class=\"n\">img</span><span class=\"p\">):</span>\n",
       "        <span class=\"n\">img_flat</span> <span class=\"o\">=</span> <span class=\"n\">img</span><span class=\"o\">.</span><span class=\"n\">view</span><span class=\"p\">(</span><span class=\"n\">img</span><span class=\"o\">.</span><span class=\"n\">size</span><span class=\"p\">(</span><span class=\"mi\">0</span><span class=\"p\">),</span> <span class=\"o\">-</span><span class=\"mi\">1</span><span class=\"p\">)</span>\n",
       "        <span class=\"n\">validity</span> <span class=\"o\">=</span> <span class=\"bp\">self</span><span class=\"o\">.</span><span class=\"n\">net</span><span class=\"p\">(</span><span class=\"n\">img_flat</span><span class=\"p\">)</span>\n",
       "        <span class=\"k\">return</span> <span class=\"n\">validity</span>\n",
       "</pre></div>\n"
      ],
      "text/latex": [
       "\\begin{Verbatim}[commandchars=\\\\\\{\\}]\n",
       "\\PY{k}{class}\\PY{+w}{ }\\PY{n+nc}{Discriminator}\\PY{p}{(}\\PY{n}{nn}\\PY{o}{.}\\PY{n}{Module}\\PY{p}{)}\\PY{p}{:}\n",
       "    \\PY{k}{def}\\PY{+w}{ }\\PY{n+nf+fm}{\\PYZus{}\\PYZus{}init\\PYZus{}\\PYZus{}}\\PY{p}{(}\\PY{n+nb+bp}{self}\\PY{p}{)}\\PY{p}{:}\n",
       "        \\PY{n+nb}{super}\\PY{p}{(}\\PY{n}{Discriminator}\\PY{p}{,} \\PY{n+nb+bp}{self}\\PY{p}{)}\\PY{o}{.}\\PY{n+nf+fm}{\\PYZus{}\\PYZus{}init\\PYZus{}\\PYZus{}}\\PY{p}{(}\\PY{p}{)}\n",
       "        \\PY{n+nb+bp}{self}\\PY{o}{.}\\PY{n}{net} \\PY{o}{=} \\PY{n}{nn}\\PY{o}{.}\\PY{n}{Sequential}\\PY{p}{(}\n",
       "            \\PY{n}{nn}\\PY{o}{.}\\PY{n}{Linear}\\PY{p}{(}\\PY{l+m+mi}{28}\\PY{o}{*}\\PY{l+m+mi}{28}\\PY{p}{,} \\PY{l+m+mi}{512}\\PY{p}{)}\\PY{p}{,}\n",
       "            \\PY{n}{nn}\\PY{o}{.}\\PY{n}{LeakyReLU}\\PY{p}{(}\\PY{l+m+mf}{0.2}\\PY{p}{)}\\PY{p}{,}\n",
       "\n",
       "            \\PY{n}{nn}\\PY{o}{.}\\PY{n}{Linear}\\PY{p}{(}\\PY{l+m+mi}{512}\\PY{p}{,} \\PY{l+m+mi}{256}\\PY{p}{)}\\PY{p}{,}\n",
       "            \\PY{n}{nn}\\PY{o}{.}\\PY{n}{LeakyReLU}\\PY{p}{(}\\PY{l+m+mf}{0.2}\\PY{p}{)}\\PY{p}{,}\n",
       "            \n",
       "            \\PY{n}{nn}\\PY{o}{.}\\PY{n}{Linear}\\PY{p}{(}\\PY{l+m+mi}{256}\\PY{p}{,} \\PY{l+m+mi}{1}\\PY{p}{)}\\PY{p}{,}\n",
       "            \\PY{n}{nn}\\PY{o}{.}\\PY{n}{Sigmoid}\\PY{p}{(}\\PY{p}{)}\n",
       "        \\PY{p}{)}\n",
       "\n",
       "    \\PY{k}{def}\\PY{+w}{ }\\PY{n+nf}{forward}\\PY{p}{(}\\PY{n+nb+bp}{self}\\PY{p}{,} \\PY{n}{img}\\PY{p}{)}\\PY{p}{:}\n",
       "        \\PY{n}{img\\PYZus{}flat} \\PY{o}{=} \\PY{n}{img}\\PY{o}{.}\\PY{n}{view}\\PY{p}{(}\\PY{n}{img}\\PY{o}{.}\\PY{n}{size}\\PY{p}{(}\\PY{l+m+mi}{0}\\PY{p}{)}\\PY{p}{,} \\PY{o}{\\PYZhy{}}\\PY{l+m+mi}{1}\\PY{p}{)}\n",
       "        \\PY{n}{validity} \\PY{o}{=} \\PY{n+nb+bp}{self}\\PY{o}{.}\\PY{n}{net}\\PY{p}{(}\\PY{n}{img\\PYZus{}flat}\\PY{p}{)}\n",
       "        \\PY{k}{return} \\PY{n}{validity}\n",
       "\\end{Verbatim}\n"
      ],
      "text/plain": [
       "class Discriminator(nn.Module):\n",
       "    def __init__(self):\n",
       "        super(Discriminator, self).__init__()\n",
       "        self.net = nn.Sequential(\n",
       "            nn.Linear(28*28, 512),\n",
       "            nn.LeakyReLU(0.2),\n",
       "\n",
       "            nn.Linear(512, 256),\n",
       "            nn.LeakyReLU(0.2),\n",
       "            \n",
       "            nn.Linear(256, 1),\n",
       "            nn.Sigmoid()\n",
       "        )\n",
       "\n",
       "    def forward(self, img):\n",
       "        img_flat = img.view(img.size(0), -1)\n",
       "        validity = self.net(img_flat)\n",
       "        return validity"
      ]
     },
     "metadata": {},
     "output_type": "display_data"
    }
   ],
   "source": [
    "from gan.gan import Discriminator\n",
    "\n",
    "discriminator = Discriminator().to(device)\n",
    "\n",
    "display(Code(inspect.getsource(Discriminator), language=\"python\"))"
   ]
  },
  {
   "cell_type": "markdown",
   "id": "dd0d1797",
   "metadata": {},
   "source": [
    "### Visualizing the Results"
   ]
  },
  {
   "cell_type": "code",
   "execution_count": 5,
   "id": "8ba0b5a5",
   "metadata": {},
   "outputs": [],
   "source": [
    "def visualize_generated_images(generator, discriminator, config, device, epoch=None):\n",
    "    \"\"\"\n",
    "    Visualize generated images and their discriminator labels.\n",
    "\n",
    "    Args:\n",
    "        generator (torch.nn.Module): The generator model.\n",
    "        discriminator (torch.nn.Module): The discriminator model.\n",
    "        config (dict): Configuration dictionary containing latent_dim and epochs.\n",
    "        device (torch.device): The device to run the models on.\n",
    "        epoch (int, optional): Current epoch number for the title. Defaults to None.\n",
    "    \"\"\"\n",
    "    generator.eval()\n",
    "    discriminator.eval()\n",
    "\n",
    "    noise = torch.randn(5, config[\"latent_dim\"], device=device)\n",
    "\n",
    "    with torch.no_grad():\n",
    "        fake_imgs = generator(noise)\n",
    "        labels = discriminator(fake_imgs)\n",
    "\n",
    "    fake_imgs = fake_imgs.cpu().detach()\n",
    "    labels = labels.cpu().detach()\n",
    "\n",
    "    fig, axes = plt.subplots(1, 5, figsize=(15, 3))\n",
    "    for idx, ax in enumerate(axes):\n",
    "        ax.imshow(fake_imgs[idx].squeeze().numpy(), cmap='gray')\n",
    "        ax.axis('off')\n",
    "        ax.set_title(f\"Label: {labels[idx].item():.2f}\")\n",
    "    title = f\"Epoch {epoch+1}/{config['epochs']}\" if epoch is not None else \"Generated Images\"\n",
    "    plt.suptitle(title)\n",
    "    plt.tight_layout()\n",
    "    plt.show()\n",
    "    plt.close(fig)"
   ]
  },
  {
   "cell_type": "markdown",
   "id": "training",
   "metadata": {},
   "source": [
    "## Training the GAN\n",
    "\n",
    "We now define the training loop. In each iteration:\n",
    "\n",
    "1. **Discriminator Training:**\n",
    "   - Use a batch of real images and label them as 1.\n",
    "   - Generate a batch of fake images from noise and label them as 0.\n",
    "2. **Generator Training:**\n",
    "   - Generate a batch of fake images.\n",
    "   - Compute the loss against a target label of 1 (i.e., tricking the discriminator).\n",
    "\n",
    "For simplicity, we use the Binary Cross Entropy loss. You may explore other loss functions in advanced exercises."
   ]
  },
  {
   "cell_type": "markdown",
   "id": "a94f8b69",
   "metadata": {},
   "source": [
    "### Breaking Down the Minimax Loss\n",
    "\n",
    "$$\n",
    "\\min_{G} \\max_{D} V(D, G) = \\mathbb{E}_{x \\sim p_{\\text{data}}(x)} \\left[ \\log D(x) \\right] + \\mathbb{E}_{z \\sim p_{z}(z)} \\left[ \\log \\big(1 - D(G(z))\\big) \\right]\n",
    "$$\n",
    "\n",
    "- **Discriminator’s Role:**  \n",
    "  The discriminator aims to correctly classify real and fake data:\n",
    "  - For real data $ x $, it wants $ D(x) $ (the probability of being real) to be close to 1, maximizing $\\log D(x)$.\n",
    "  - For generated (fake) data $ G(z) $, it wants $ D(G(z)) $ to be close to 0, maximizing $\\log\\big(1 - D(G(z))\\big)$.\n",
    "\n",
    "- **Generator’s Role:**  \n",
    "  The generator aims to \"fool\" the discriminator. Although its objective can be written as minimizing $\\log\\big(1 - D(G(z))\\big)$, this often leads to vanishing gradients. Therefore, a common alternative is for the generator to maximize $\\log D(G(z))$ (or equivalently, minimize $-\\log D(G(z))$)."
   ]
  },
  {
   "cell_type": "markdown",
   "id": "0e001c04",
   "metadata": {},
   "source": [
    "#### Connection to Binary Cross Entropy (BCE)\n",
    "\n",
    "The Binary Cross Entropy loss for a single sample is defined as:\n",
    "\n",
    "$$\n",
    "\\text{BCE}(p, y) = -\\Big[ y \\log(p) + (1 - y) \\log\\big(1 - p\\big) \\Big]\n",
    "$$\n",
    "\n",
    "where:\n",
    "- $ p $ is the predicted probability (e.g., $ D(x) $).\n",
    "- $ y $ is the true label (1 for real data, 0 for fake data)."
   ]
  },
  {
   "cell_type": "markdown",
   "id": "c811703b",
   "metadata": {},
   "source": [
    "##### **Derivation for Real Data ($ y = 1 $)**\n",
    "\n",
    "Substitute $ y = 1 $ into the BCE formula:\n",
    "\n",
    "$$\n",
    "\\text{BCE}(D(x), 1) = -\\Big[ 1 \\cdot \\log(D(x)) + 0 \\cdot \\log\\big(1-D(x)\\big) \\Big] = -\\log\\big(D(x)\\big)\n",
    "$$\n",
    "\n",
    "This directly corresponds to the term $\\log D(x)$ in the GAN minimax loss."
   ]
  },
  {
   "cell_type": "markdown",
   "id": "d31c6f93",
   "metadata": {},
   "source": [
    "##### **Derivation for Fake Data ($ y = 0 $)**\n",
    "\n",
    "Substitute $ y = 0 $:\n",
    "\n",
    "$$\n",
    "\\text{BCE}(D(G(z)), 0) = -\\Big[ 0 \\cdot \\log(D(G(z))) + 1 \\cdot \\log\\big(1-D(G(z))\\big) \\Big] = -\\log\\big(1-D(G(z))\\big)\n",
    "$$\n",
    "\n",
    "This matches the term $\\log\\big(1-D(G(z))\\big)$ in the minimax loss."
   ]
  },
  {
   "cell_type": "markdown",
   "id": "109e7e74",
   "metadata": {},
   "source": [
    "### Loss Functions\n",
    "\n",
    "- The **discriminator’s loss** can be seen as the sum of two BCE losses:\n",
    "  $$\n",
    "  L_D = -\\log\\big(D(x)\\big) - \\log\\big(1-D(G(z))\\big) = \\boxed{\\text{BCE}(D(x), 1) + \\text{BCE}(D(G(z)), 0)}\n",
    "  $$\n",
    "- The **generator’s loss** (using the non-saturating version) becomes:\n",
    "  $$\n",
    "  L_G = -\\log\\big(D(G(z))\\big) = \\boxed{\\text{BCE}(D(G(z)), 1)}\n",
    "  $$"
   ]
  },
  {
   "cell_type": "code",
   "execution_count": 6,
   "id": "training-loop",
   "metadata": {},
   "outputs": [
    {
     "data": {
      "image/png": "[encoded data removed]",
      "text/plain": [
       "<Figure size 1500x300 with 5 Axes>"
      ]
     },
     "metadata": {},
     "output_type": "display_data"
    },
    {
     "data": {
      "application/vnd.jupyter.widget-view+json": {
       "model_id": "dc0d547af36148d49da072e0e63eb937",
       "version_major": 2,
       "version_minor": 0
      },
      "text/plain": [
       "Epoch 5/50:   0%|          | 0/938 [00:00<?, ?it/s]"
      ]
     },
     "metadata": {},
     "output_type": "display_data"
    },
    {
     "data": {
      "image/png": "[encoded data removed]",
      "text/plain": [
       "<Figure size 1500x300 with 5 Axes>"
      ]
     },
     "metadata": {},
     "output_type": "display_data"
    }
   ],
   "source": [
    "# Setup optimizers for both G and D\n",
    "optimizerG = optim.Adam(generator.parameters(), lr=config[\"lr\"], betas=(config['beta1'], 0.9), weight_decay=config['weight_decay'])\n",
    "optimizerD = optim.Adam(discriminator.parameters(), lr=config[\"lr\"], betas=(config['beta1'], 0.9), weight_decay=config['weight_decay'])\n",
    "\n",
    "\n",
    "print(\"Starting Training Loop...\")\n",
    "for epoch in range(5):\n",
    "    generator.train()\n",
    "    discriminator.train()\n",
    "    for i, (imgs, _) in enumerate(tqdm(dataloader, desc=f\"Epoch {epoch+1}/{config['epochs']}\", leave=False)):\n",
    "        batch_size = imgs.size(0)\n",
    "        imgs = imgs.to(device)\n",
    "\n",
    "        # Define adversarial ground truths\n",
    "        valid = torch.ones(batch_size, 1, device=device)\n",
    "        fake = torch.zeros(batch_size, 1, device=device)\n",
    "\n",
    "        # -----------------\n",
    "        #  Train Generator\n",
    "        # -----------------\n",
    "        optimizerG.zero_grad()\n",
    "\n",
    "        # Generate a batch of images\n",
    "        z = torch.randn(batch_size, config[\"latent_dim\"], device=device)\n",
    "        fake_imgs = generator(z)\n",
    "\n",
    "        # Loss: generator tries to fool the discriminator\n",
    "        g_loss = F.binary_cross_entropy(discriminator(fake_imgs), valid)\n",
    "        g_loss.backward()\n",
    "        optimizerG.step()\n",
    "\n",
    "        # ---------------------\n",
    "        #  Train Discriminator\n",
    "        # ---------------------\n",
    "        optimizerD.zero_grad()\n",
    "\n",
    "        real_loss = F.binary_cross_entropy(discriminator(imgs), valid)\n",
    "        fake_loss = F.binary_cross_entropy(discriminator(fake_imgs.detach()), fake)\n",
    "\n",
    "        d_loss = (real_loss + fake_loss) / 2\n",
    "        d_loss.backward()\n",
    "        optimizerD.step()\n",
    "\n",
    "    # Clear the output to keep the notebook clean\n",
    "    if epoch % 3 == 0:\n",
    "        clear_output(wait=True)\n",
    "\n",
    "    # Plot 5 generated images after each epoch to show the generator's training progress\n",
    "    visualize_generated_images(generator, discriminator, config, device, epoch)"
   ]
  },
  {
   "cell_type": "markdown",
   "id": "d026c4bf",
   "metadata": {},
   "source": [
    "Since training a GAN can be time-consuming before the generator produces plausible images, we can directly load pre-trained model weights from [huggingface.co](https://huggingface.co/hussamalafandi/GAN_MNIST) to expedite the process."
   ]
  },
  {
   "cell_type": "code",
   "execution_count": 7,
   "id": "c671ea7d",
   "metadata": {},
   "outputs": [],
   "source": [
    "from huggingface_hub import hf_hub_download\n",
    "\n",
    "# Download the state dicts from Hugging Face Hub\n",
    "gen_weights_path = hf_hub_download(repo_id=\"hussamalafandi/GAN_MNIST\", filename=\"generator.pth\")\n",
    "disc_weights_path = hf_hub_download(repo_id=\"hussamalafandi/GAN_MNIST\", filename=\"discriminator.pth\")\n",
    "\n",
    "# Load the state dicts into the models\n",
    "generator.load_state_dict(torch.load(gen_weights_path, map_location=device))\n",
    "discriminator.load_state_dict(torch.load(disc_weights_path, map_location=device))\n",
    "\n",
    "# Set the models to evaluation mode\n",
    "generator.eval()\n",
    "generator = generator.to(device)"
   ]
  },
  {
   "cell_type": "code",
   "execution_count": 9,
   "id": "633d5048",
   "metadata": {},
   "outputs": [
    {
     "data": {
      "image/png": "[encoded data removed]",
      "text/plain": [
       "<Figure size 1500x300 with 5 Axes>"
      ]
     },
     "metadata": {},
     "output_type": "display_data"
    }
   ],
   "source": [
    "visualize_generated_images(generator, discriminator, config, device)\n"
   ]
  },
  {
   "cell_type": "markdown",
   "id": "cbdfbbef",
   "metadata": {},
   "source": [
    "# Deep Convolutional GANs (DCGANs)"
   ]
  },
  {
   "cell_type": "markdown",
   "id": "030c7fa2",
   "metadata": {},
   "source": [
    "While simple GAN architectures perform reasonably well on small grayscale images, they often struggle to effectively capture local and global structures due to the flattening of input images.\n",
    "\n",
    "To address this limitation, we can utilize convolutional layers, which are particularly effective at preserving spatial hierarchies and capturing intricate image features. Incorporating convolutional layers significantly enhances the performance of GAN models, leading to improved quality in generated images."
   ]
  },
  {
   "cell_type": "markdown",
   "id": "0ff41d90",
   "metadata": {},
   "source": [
    "![alt text](https://sthalles.github.io/assets/dcgan/GANs.png)\n",
    "\n",
    "Image source: [sthalles.github.io](https://sthalles.github.io/intro-to-gans/)"
   ]
  },
  {
   "cell_type": "markdown",
   "id": "e9964f82",
   "metadata": {},
   "source": [
    "In the following example, we import basic generator and discriminator network architectures from [dcgan/models.py](./dcgan/models.py)"
   ]
  },
  {
   "cell_type": "code",
   "execution_count": null,
   "id": "8b5c9696",
   "metadata": {},
   "outputs": [],
   "source": [
    "import torch\n",
    "from dcgan.models import Generator\n",
    "\n",
    "# Decide which device we want to run on\n",
    "device = torch.device(\"cuda\" if torch.cuda.is_available() else \"cpu\")\n",
    "print(\"Device:\", device)\n",
    "\n",
    "inference_config = {\n",
    "    \"latent_dim\": 100,\n",
    "    \"image_size\": 64,     # output image size (64x64)\n",
    "    \"nc\": 3,              # number of channels (3 for RGB)\n",
    "    \"ngf\": 64,            # generator feature map size\n",
    "    \"ndf\": 64,            # discriminator feature map size\n",
    "}\n"
   ]
  },
  {
   "cell_type": "markdown",
   "id": "84899fcc",
   "metadata": {
    "vscode": {
     "languageId": "markdown"
    }
   },
   "source": [
    "### Visualizing the Generator and Discriminator Architectures\n",
    "\n",
    "In this section, we will inspect the source code and architecture of the Generator and Discriminator models used in the DCGAN implementation. This will help us understand the structure and design choices made for these networks."
   ]
  },
  {
   "cell_type": "code",
   "execution_count": null,
   "id": "9868ad05",
   "metadata": {},
   "outputs": [],
   "source": [
    "\n",
    "\n",
    "generator_source = inspect.getsource(Generator)\n",
    "display(Code(generator_source, language='python'))\n"
   ]
  },
  {
   "cell_type": "markdown",
   "id": "fc209627",
   "metadata": {},
   "source": [
    "We can also use the `torchinfo` library to get a summary of the generator model."
   ]
  },
  {
   "cell_type": "code",
   "execution_count": null,
   "id": "2e043c64",
   "metadata": {},
   "outputs": [],
   "source": [
    "import torchinfo\n",
    "\n",
    "generator = Generator(inference_config)\n",
    "\n",
    "torchinfo.summary(generator,\n",
    "                  input_size=(16, inference_config[\"latent_dim\"], 1, 1),\n",
    "                  col_names=[\"input_size\", \"output_size\"],\n",
    "                  row_settings=[\"var_names\"])"
   ]
  },
  {
   "cell_type": "markdown",
   "id": "526147db",
   "metadata": {},
   "source": [
    "Since training a GAN model on the CelebA dataset can be time-consuming, we can download the pretrained model from the HuggingFace [repository](https://huggingface.co/hussamalafandi/DCGAN_CelebA)"
   ]
  },
  {
   "cell_type": "code",
   "execution_count": null,
   "id": "aeefd5c7",
   "metadata": {},
   "outputs": [],
   "source": [
    "from huggingface_hub import hf_hub_download\n",
    "\n",
    "# Download the state dicts from Hugging Face Hub\n",
    "gen_weights_path = hf_hub_download(repo_id=\"hussamalafandi/DCGAN_CelebA\", filename=\"generator.pth\")\n",
    "\n",
    "# Load the state dicts into the models\n",
    "generator.load_state_dict(torch.load(gen_weights_path, map_location=device))\n",
    "generator.eval()\n",
    "generator = generator.to(device)"
   ]
  },
  {
   "cell_type": "markdown",
   "id": "1ed5ad7e",
   "metadata": {},
   "source": [
    "Create random noise as input for the generator (latent vector)"
   ]
  },
  {
   "cell_type": "code",
   "execution_count": null,
   "id": "708893ab",
   "metadata": {},
   "outputs": [],
   "source": [
    "# Create a random noise vector for inference\n",
    "noise = torch.randn(1, inference_config[\"latent_dim\"], 1, 1).to(device)  # shape should match what the generator expects\n",
    "\n",
    "# Run inference: generate an image\n",
    "with torch.no_grad():\n",
    "    generated_image = generator(noise)"
   ]
  },
  {
   "cell_type": "code",
   "execution_count": null,
   "id": "9eedef2a",
   "metadata": {},
   "outputs": [],
   "source": [
    "import matplotlib.pyplot as plt\n",
    "\n",
    "\n",
    "img = generated_image.squeeze(0).detach().cpu()\n",
    "\n",
    "# Normalize the image to [0, 1] for visualization\n",
    "img = (img + 1) / 2\n",
    "\n",
    "plt.imshow(img.permute(1, 2, 0).clamp(0, 1))\n",
    "plt.axis(\"off\")\n",
    "plt.show()\n"
   ]
  },
  {
   "cell_type": "markdown",
   "id": "a19979d3",
   "metadata": {},
   "source": [
    "# Conditional GAN"
   ]
  },
  {
   "cell_type": "markdown",
   "id": "variants",
   "metadata": {},
   "source": [
    "# Exploring GAN Variants\n",
    "\n",
    "Once you are comfortable with the basic GAN, you may explore the following variants:\n",
    "\n",
    "- **CycleGAN:** Used for image-to-image translation without paired examples (e.g., converting horses to zebras). \n",
    "- **StyleGAN:** Generates ultra-realistic images by controlling high-level features (e.g., pose, style) and fine details separately through style-based layers."
   ]
  },
  {
   "cell_type": "markdown",
   "id": "999643a5",
   "metadata": {},
   "source": [
    "## Exercise\n",
    "- Experiment with different loss functions or network architectures to see how the output quality changes.\n",
    "- Try using a different dataset (such as fashion mnist) and adjust the network layers accordingly."
   ]
  }
 ],
 "metadata": {
  "kernelspec": {
   "display_name": ".venv",
   "language": "python",
   "name": "python3"
  },
  "language_info": {
   "codemirror_mode": {
    "name": "ipython",
    "version": 3
   },
   "file_extension": ".py",
   "mimetype": "text/x-python",
   "name": "python",
   "nbconvert_exporter": "python",
   "pygments_lexer": "ipython3",
   "version": "3.13.2"
  }
 },
 "nbformat": 4,
 "nbformat_minor": 5
}
