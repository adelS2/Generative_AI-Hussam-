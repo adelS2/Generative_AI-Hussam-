{
 "cells": [
  {
   "cell_type": "markdown",
   "id": "1fd4ff3f",
   "metadata": {},
   "source": [
    "# Tokens, Word Embeddings & Language Representation\n",
    "\n",
    "## Learning Objectives:\n",
    "- Understand what tokens are.\n",
    "- Learn how to tokenize text using the Hugging Face Transformers library.\n",
    "- Explore what embeddings are, their role in representing meaning, and how to extract them from a pretrained neural network model.\n",
    "- Work with a real dataset to see these ideas in action."
   ]
  },
  {
   "cell_type": "markdown",
   "id": "e60f2a27",
   "metadata": {},
   "source": [
    "## Tokens and Tokenization\n",
    "\n",
    "In Natural Language Processing (NLP), **tokens** are the basic units into which text is split. They can be words, subwords, or characters. Tokenization is essential because:\n",
    "- **Standardization:** It converts raw text into a standardized form.\n",
    "- **Input for Models:** Neural networks process fixed units (tokens), not raw text.\n",
    "- **Handling Vocabulary:** It helps in building a vocabulary and managing out-of-vocabulary words.\n",
    "\n",
    "Below, we will see how to tokenize text using a pretrained tokenizer."
   ]
  },
  {
   "cell_type": "code",
   "execution_count": 1,
   "id": "1ef07cf6",
   "metadata": {},
   "outputs": [
    {
     "name": "stdout",
     "output_type": "stream",
     "text": [
      "Original Text:\n",
      " Generative AI is transforming the way we work with data.\n",
      "\n",
      "Tokens:\n",
      " ['genera', '##tive', 'ai', 'is', 'transforming', 'the', 'way', 'we', 'work', 'with', 'data', '.']\n",
      "\n",
      "Token IDs:\n",
      " [101, 11416, 6024, 9932, 2003, 17903, 1996, 2126, 2057, 2147, 2007, 2951, 1012, 102]\n",
      "\n",
      "Decoded Text:\n",
      " [CLS] generative ai is transforming the way we work with data. [SEP]\n"
     ]
    }
   ],
   "source": [
    "import matplotlib.pyplot as plt\n",
    "import numpy as np\n",
    "import pandas as pd\n",
    "import torch\n",
    "from transformers import AutoModel, AutoTokenizer\n",
    "import seaborn as sns\n",
    "from sklearn.decomposition import PCA\n",
    "from sklearn.manifold import TSNE\n",
    "from torch.nn.functional import cosine_similarity\n",
    "\n",
    "from datasets import load_dataset\n",
    "\n",
    "# Load a pretrained tokenizer (we'll use 'bert-base-uncased' as an example).\n",
    "tokenizer = AutoTokenizer.from_pretrained(\"bert-base-uncased\")\n",
    "\n",
    "# Example text for tokenization\n",
    "example_text = \"Generative AI is transforming the way we work with data.\"\n",
    "\n",
    "# Tokenize the text\n",
    "tokens = tokenizer.tokenize(example_text)\n",
    "token_ids = tokenizer(example_text)[\"input_ids\"]\n",
    "\n",
    "print(\"Original Text:\\n\", example_text)\n",
    "print(\"\\nTokens:\\n\", tokens)\n",
    "print(\"\\nToken IDs:\\n\", token_ids)\n",
    "print(\"\\nDecoded Text:\\n\", tokenizer.decode(token_ids))"
   ]
  },
  {
   "cell_type": "markdown",
   "id": "7d7459b0",
   "metadata": {
    "vscode": {
     "languageId": "markdown"
    }
   },
   "source": [
    "### Main Tasks of a Tokenizer\n",
    "\n",
    "Tokenizers can be thought of as **lookup tables** that map text to numerical representations, enabling models to process and understand language.\n",
    "\n",
    "1. **Tokenization**: Splits text into tokens (e.g., words, subwords, or characters).\n",
    "2. **Token-to-ID Mapping**: Converts tokens into numerical IDs.\n",
    "3. **Special Tokens**: Adds tokens like `[CLS]` or `[SEP]` for specific models.\n",
    "4. **OOV Handling**: Replaces unknown words with `[UNK]`.\n",
    "5. **Padding/Truncation**: Adjusts sequence lengths with `[PAD]` or truncates.\n",
    "6. **Attention Masks**: Marks real tokens vs. padding (e.g., `[1, 1, 0, 0]`).\n"
   ]
  },
  {
   "cell_type": "code",
   "execution_count": 2,
   "id": "76daa3ad",
   "metadata": {},
   "outputs": [
    {
     "name": "stdout",
     "output_type": "stream",
     "text": [
      "Vocabulary Size: 30522\n",
      "\n",
      "Sample Vocabulary:\n"
     ]
    },
    {
     "data": {
      "text/html": [
       "<div>\n",
       "<style scoped>\n",
       "    .dataframe tbody tr th:only-of-type {\n",
       "        vertical-align: middle;\n",
       "    }\n",
       "\n",
       "    .dataframe tbody tr th {\n",
       "        vertical-align: top;\n",
       "    }\n",
       "\n",
       "    .dataframe thead th {\n",
       "        text-align: right;\n",
       "    }\n",
       "</style>\n",
       "<table border=\"1\" class=\"dataframe\">\n",
       "  <thead>\n",
       "    <tr style=\"text-align: right;\">\n",
       "      <th></th>\n",
       "      <th>Token</th>\n",
       "      <th>Index</th>\n",
       "    </tr>\n",
       "  </thead>\n",
       "  <tbody>\n",
       "    <tr>\n",
       "      <th>0</th>\n",
       "      <td>jalan</td>\n",
       "      <td>28410</td>\n",
       "    </tr>\n",
       "    <tr>\n",
       "      <th>1</th>\n",
       "      <td>paradox</td>\n",
       "      <td>20506</td>\n",
       "    </tr>\n",
       "    <tr>\n",
       "      <th>2</th>\n",
       "      <td>jammu</td>\n",
       "      <td>21433</td>\n",
       "    </tr>\n",
       "    <tr>\n",
       "      <th>3</th>\n",
       "      <td>##rates</td>\n",
       "      <td>20370</td>\n",
       "    </tr>\n",
       "    <tr>\n",
       "      <th>4</th>\n",
       "      <td>evangelical</td>\n",
       "      <td>11295</td>\n",
       "    </tr>\n",
       "    <tr>\n",
       "      <th>5</th>\n",
       "      <td>sculptors</td>\n",
       "      <td>28417</td>\n",
       "    </tr>\n",
       "    <tr>\n",
       "      <th>6</th>\n",
       "      <td>##drome</td>\n",
       "      <td>29171</td>\n",
       "    </tr>\n",
       "    <tr>\n",
       "      <th>7</th>\n",
       "      <td>buren</td>\n",
       "      <td>29470</td>\n",
       "    </tr>\n",
       "    <tr>\n",
       "      <th>8</th>\n",
       "      <td>remembers</td>\n",
       "      <td>17749</td>\n",
       "    </tr>\n",
       "    <tr>\n",
       "      <th>9</th>\n",
       "      <td>nations</td>\n",
       "      <td>3741</td>\n",
       "    </tr>\n",
       "  </tbody>\n",
       "</table>\n",
       "</div>"
      ],
      "text/plain": [
       "         Token  Index\n",
       "0        jalan  28410\n",
       "1      paradox  20506\n",
       "2        jammu  21433\n",
       "3      ##rates  20370\n",
       "4  evangelical  11295\n",
       "5    sculptors  28417\n",
       "6      ##drome  29171\n",
       "7        buren  29470\n",
       "8    remembers  17749\n",
       "9      nations   3741"
      ]
     },
     "execution_count": 2,
     "metadata": {},
     "output_type": "execute_result"
    }
   ],
   "source": [
    "# Display the vocabulary\n",
    "vocabulary = tokenizer.vocab\n",
    "\n",
    "# Convert the vocabulary dictionary to a DataFrame\n",
    "vocab_df = pd.DataFrame(list(vocabulary.items()), columns=[\"Token\", \"Index\"])\n",
    "\n",
    "# Display the first 20 tokens in a tabular format\n",
    "print(\"Vocabulary Size:\", len(vocabulary))\n",
    "print(\"\\nSample Vocabulary:\")\n",
    "vocab_df.head(10)\n"
   ]
  },
  {
   "cell_type": "markdown",
   "id": "0f9f2242",
   "metadata": {},
   "source": [
    "### Working with a Real Dataset\n",
    "\n",
    "For practical learning, we use a real dataset from Hugging Face. In this notebook, we load a small subset of the IMDb dataset, which is widely used for NLP tasks.\n"
   ]
  },
  {
   "cell_type": "code",
   "execution_count": 3,
   "id": "164efafc",
   "metadata": {},
   "outputs": [
    {
     "name": "stdout",
     "output_type": "stream",
     "text": [
      "Sample Review:\n",
      " I rented I AM CURIOUS-YELLOW from my video store because of all the controversy that surrounded it when it was first released in 1967. I also heard that at first it was seized by U.S. customs if it ever tried to enter this country, therefore being a fan of films considered \"controversial\" I really had to see this for myself.<br /><br />The plot is centered around a young Swedish drama student named Lena who wants to learn everything she can about life. In particular she wants to focus her attent ...\n",
      "\n"
     ]
    }
   ],
   "source": [
    "# Load a small subset of the IMDb dataset\n",
    "dataset = load_dataset(\"imdb\", split=\"train[:1000]\")\n",
    "\n",
    "# Inspect a sample review\n",
    "sample_review = dataset[0][\"text\"]\n",
    "print(\"Sample Review:\\n\", sample_review[:500], \"...\\n\")\n"
   ]
  },
  {
   "cell_type": "markdown",
   "id": "cd662e18",
   "metadata": {},
   "source": [
    "We can tokenize the entire dataset efficiently in batches."
   ]
  },
  {
   "cell_type": "code",
   "execution_count": 4,
   "id": "54eca91a",
   "metadata": {},
   "outputs": [
    {
     "name": "stdout",
     "output_type": "stream",
     "text": [
      "Dataset({\n",
      "    features: ['text', 'label', 'input_ids', 'token_type_ids', 'attention_mask'],\n",
      "    num_rows: 1000\n",
      "})\n"
     ]
    },
    {
     "data": {
      "text/html": [
       "<div>\n",
       "<style scoped>\n",
       "    .dataframe tbody tr th:only-of-type {\n",
       "        vertical-align: middle;\n",
       "    }\n",
       "\n",
       "    .dataframe tbody tr th {\n",
       "        vertical-align: top;\n",
       "    }\n",
       "\n",
       "    .dataframe thead th {\n",
       "        text-align: right;\n",
       "    }\n",
       "</style>\n",
       "<table border=\"1\" class=\"dataframe\">\n",
       "  <thead>\n",
       "    <tr style=\"text-align: right;\">\n",
       "      <th></th>\n",
       "      <th>text</th>\n",
       "      <th>input_ids</th>\n",
       "    </tr>\n",
       "  </thead>\n",
       "  <tbody>\n",
       "    <tr>\n",
       "      <th>0</th>\n",
       "      <td>I rented I AM CURIOUS-YELLOW from my video sto...</td>\n",
       "      <td>[101, 1045, 12524, 1045, 2572, 8025, 1011, 375...</td>\n",
       "    </tr>\n",
       "    <tr>\n",
       "      <th>1</th>\n",
       "      <td>\"I Am Curious: Yellow\" is a risible and preten...</td>\n",
       "      <td>[101, 1000, 1045, 2572, 8025, 1024, 3756, 1000...</td>\n",
       "    </tr>\n",
       "    <tr>\n",
       "      <th>2</th>\n",
       "      <td>If only to avoid making this type of film in t...</td>\n",
       "      <td>[101, 2065, 2069, 2000, 4468, 2437, 2023, 2828...</td>\n",
       "    </tr>\n",
       "    <tr>\n",
       "      <th>3</th>\n",
       "      <td>This film was probably inspired by Godard's Ma...</td>\n",
       "      <td>[101, 2023, 2143, 2001, 2763, 4427, 2011, 2643...</td>\n",
       "    </tr>\n",
       "    <tr>\n",
       "      <th>4</th>\n",
       "      <td>Oh, brother...after hearing about this ridicul...</td>\n",
       "      <td>[101, 2821, 1010, 2567, 1012, 1012, 1012, 2044...</td>\n",
       "    </tr>\n",
       "  </tbody>\n",
       "</table>\n",
       "</div>"
      ],
      "text/plain": [
       "                                                text  \\\n",
       "0  I rented I AM CURIOUS-YELLOW from my video sto...   \n",
       "1  \"I Am Curious: Yellow\" is a risible and preten...   \n",
       "2  If only to avoid making this type of film in t...   \n",
       "3  This film was probably inspired by Godard's Ma...   \n",
       "4  Oh, brother...after hearing about this ridicul...   \n",
       "\n",
       "                                           input_ids  \n",
       "0  [101, 1045, 12524, 1045, 2572, 8025, 1011, 375...  \n",
       "1  [101, 1000, 1045, 2572, 8025, 1024, 3756, 1000...  \n",
       "2  [101, 2065, 2069, 2000, 4468, 2437, 2023, 2828...  \n",
       "3  [101, 2023, 2143, 2001, 2763, 4427, 2011, 2643...  \n",
       "4  [101, 2821, 1010, 2567, 1012, 1012, 1012, 2044...  "
      ]
     },
     "execution_count": 4,
     "metadata": {},
     "output_type": "execute_result"
    }
   ],
   "source": [
    "# Tokenize the dataset\n",
    "tokenized_dataset = dataset.map(lambda x: tokenizer(x['text'], padding='max_length', truncation=True), batched=True)\n",
    "\n",
    "# Inspect the tokenized dataset\n",
    "print(tokenized_dataset)\n",
    "\n",
    "# Convert the tokenized dataset to a pandas DataFrame\n",
    "tokenized_df = tokenized_dataset.to_pandas()[[\"text\", \"input_ids\"]]\n",
    "\n",
    "# Display the DataFrame\n",
    "tokenized_df.head()"
   ]
  },
  {
   "cell_type": "markdown",
   "id": "d0f680ed",
   "metadata": {},
   "source": [
    "## Word Embeddings\n",
    "\n",
    "### What are Embeddings?\n",
    "Embeddings are dense vector representations of tokens. They capture semantic information about words, meaning that words with similar meanings will have similar embeddings. In modern NLP, embeddings are learned using neural networks, which allow models to understand context and nuance.\n",
    "\n",
    "### Why Are They Important?\n",
    "- **Semantic Similarity:** Embeddings help in measuring similarity between words.\n",
    "- **Downstream Tasks:** They serve as inputs to models for tasks like classification, translation, and text generation.\n",
    "- **Transfer Learning:** Pretrained embeddings can be used as a starting point for various NLP applications.\n",
    "\n",
    "Below, we will use a pretrained transformer model to extract learned embeddings."
   ]
  },
  {
   "cell_type": "code",
   "execution_count": 5,
   "id": "06f937fa",
   "metadata": {},
   "outputs": [
    {
     "name": "stdout",
     "output_type": "stream",
     "text": [
      "Shape of embeddings: torch.Size([1, 14, 768])\n"
     ]
    }
   ],
   "source": [
    "# Load a pretrained transformer model (BERT) to extract embeddings.\n",
    "# Note: The model returns contextual embeddings that adjust based on the input sentence.\n",
    "model = AutoModel.from_pretrained(\"bert-base-uncased\")\n",
    "\n",
    "# Encode the example text to get embeddings.\n",
    "# The tokenizer converts the text to input IDs and attention masks.\n",
    "inputs = tokenizer(example_text, return_tensors=\"pt\")\n",
    "outputs = model(**inputs)\n",
    "\n",
    "# Extract embeddings for all tokens\n",
    "# Here, we take the last hidden state (batch_size, sequence_length, hidden_size)\n",
    "embeddings = outputs.last_hidden_state\n",
    "\n",
    "print(\"Shape of embeddings:\", embeddings.shape)\n"
   ]
  },
  {
   "cell_type": "markdown",
   "id": "f10e1bb1",
   "metadata": {},
   "source": [
    "### Token Embedding Exploration\n",
    "\n",
    "Let's examine the embeddings of a few tokens from our example. We will look at the embeddings for a subset of tokens and visualize their values (truncated for brevity)."
   ]
  },
  {
   "cell_type": "code",
   "execution_count": 6,
   "id": "fa1a10e3",
   "metadata": {},
   "outputs": [
    {
     "name": "stdout",
     "output_type": "stream",
     "text": [
      "Tokens with their embeddings (first 5 dimensions):\n",
      "\n",
      "[CLS]       : [-0.11637579 -0.02889033 -0.26962504 -0.1374814  -0.49918202]\n",
      "genera      : [-0.43408194  0.42262033 -0.06637587  0.21109392  0.02033129]\n",
      "##tive      : [-0.9221342   0.08395163  0.27106875  0.38471085  0.5143331 ]\n",
      "ai          : [0.0743405  0.518764   0.3018257  0.18460913 0.8921068 ]\n",
      "is          : [-0.13791838  0.51696163 -0.40058678 -0.45129475  0.1828306 ]\n",
      "transforming: [-0.1145344  -0.35881957  0.01241033  0.17634293  0.23852278]\n",
      "the         : [-0.16604848 -0.01644552  0.00692202 -0.07304969  0.35772654]\n",
      "way         : [0.47490337 0.5972781  0.26706654 0.27936172 0.22679976]\n",
      "we          : [ 0.61885333  0.48982242 -0.17001584  0.48642236 -0.34666288]\n",
      "work        : [ 0.26317054  0.9425098  -0.45817497 -0.23169859  0.6479079 ]\n",
      "with        : [ 0.06112781  0.4268403   0.12077139  0.22314745 -0.16226739]\n",
      "data        : [ 0.3544978  -0.25741586  0.09655534  0.48360664  1.2270073 ]\n",
      ".           : [ 0.5529192   0.11830389 -0.3576432   0.27461335 -0.2502289 ]\n",
      "[SEP]       : [ 0.67031103  0.18397349 -0.22307408  0.28718278 -0.31198978]\n"
     ]
    }
   ],
   "source": [
    "# Convert the embeddings tensor to a NumPy array for easier handling.\n",
    "embeddings_np = embeddings.detach().numpy()\n",
    "\n",
    "# Get token strings from the tokenizer output\n",
    "tokenized_example = tokenizer.convert_ids_to_tokens(inputs[\"input_ids\"][0])\n",
    "print(\"Tokens with their embeddings (first 5 dimensions):\\n\")\n",
    "for token, emb in zip(tokenized_example, embeddings_np[0]):\n",
    "    print(f\"{token:12s}: {emb[:5]}\")\n"
   ]
  },
  {
   "cell_type": "markdown",
   "id": "d53a8263",
   "metadata": {},
   "source": [
    "### Embedding Arithmetic with Static Token Embeddings\n",
    "\n",
    "Contextual embeddings vary by sentence, so for arithmetic we use the static token embeddings from BERT’s input embedding layer. These embeddings—learned during pretraining—provide a fixed representation for each token.\n"
   ]
  },
  {
   "cell_type": "markdown",
   "id": "ca98f483",
   "metadata": {},
   "source": [
    "#### Measuring Similarity Between Words (Cosine Similarity)"
   ]
  },
  {
   "cell_type": "code",
   "execution_count": 7,
   "id": "cab9c127",
   "metadata": {},
   "outputs": [
    {
     "data": {
      "text/html": [
       "<style type=\"text/css\">\n",
       "#T_c27c2_row0_col0, #T_c27c2_row1_col1, #T_c27c2_row2_col2, #T_c27c2_row3_col3 {\n",
       "  background-color: #08306b;\n",
       "  color: #f1f1f1;\n",
       "}\n",
       "#T_c27c2_row0_col1 {\n",
       "  background-color: #519ccc;\n",
       "  color: #f1f1f1;\n",
       "}\n",
       "#T_c27c2_row0_col2 {\n",
       "  background-color: #aacfe5;\n",
       "  color: #000000;\n",
       "}\n",
       "#T_c27c2_row0_col3 {\n",
       "  background-color: #f3f8fe;\n",
       "  color: #000000;\n",
       "}\n",
       "#T_c27c2_row1_col0 {\n",
       "  background-color: #549fcd;\n",
       "  color: #f1f1f1;\n",
       "}\n",
       "#T_c27c2_row1_col2 {\n",
       "  background-color: #ccdff1;\n",
       "  color: #000000;\n",
       "}\n",
       "#T_c27c2_row1_col3, #T_c27c2_row3_col0, #T_c27c2_row3_col1, #T_c27c2_row3_col2 {\n",
       "  background-color: #f7fbff;\n",
       "  color: #000000;\n",
       "}\n",
       "#T_c27c2_row2_col0 {\n",
       "  background-color: #91c3de;\n",
       "  color: #000000;\n",
       "}\n",
       "#T_c27c2_row2_col1 {\n",
       "  background-color: #afd1e7;\n",
       "  color: #000000;\n",
       "}\n",
       "#T_c27c2_row2_col3 {\n",
       "  background-color: #ddeaf7;\n",
       "  color: #000000;\n",
       "}\n",
       "</style>\n",
       "<table id=\"T_c27c2\">\n",
       "  <thead>\n",
       "    <tr>\n",
       "      <th class=\"blank level0\" >&nbsp;</th>\n",
       "      <th id=\"T_c27c2_level0_col0\" class=\"col_heading level0 col0\" >good</th>\n",
       "      <th id=\"T_c27c2_level0_col1\" class=\"col_heading level0 col1\" >great</th>\n",
       "      <th id=\"T_c27c2_level0_col2\" class=\"col_heading level0 col2\" >bad</th>\n",
       "      <th id=\"T_c27c2_level0_col3\" class=\"col_heading level0 col3\" >terrible</th>\n",
       "    </tr>\n",
       "  </thead>\n",
       "  <tbody>\n",
       "    <tr>\n",
       "      <th id=\"T_c27c2_level0_row0\" class=\"row_heading level0 row0\" >good</th>\n",
       "      <td id=\"T_c27c2_row0_col0\" class=\"data row0 col0\" >1.000000</td>\n",
       "      <td id=\"T_c27c2_row0_col1\" class=\"data row0 col1\" >0.661057</td>\n",
       "      <td id=\"T_c27c2_row0_col2\" class=\"data row0 col2\" >0.534841</td>\n",
       "      <td id=\"T_c27c2_row0_col3\" class=\"data row0 col3\" >0.212155</td>\n",
       "    </tr>\n",
       "    <tr>\n",
       "      <th id=\"T_c27c2_level0_row1\" class=\"row_heading level0 row1\" >great</th>\n",
       "      <td id=\"T_c27c2_row1_col0\" class=\"data row1 col0\" >0.661057</td>\n",
       "      <td id=\"T_c27c2_row1_col1\" class=\"data row1 col1\" >1.000000</td>\n",
       "      <td id=\"T_c27c2_row1_col2\" class=\"data row1 col2\" >0.454080</td>\n",
       "      <td id=\"T_c27c2_row1_col3\" class=\"data row1 col3\" >0.194178</td>\n",
       "    </tr>\n",
       "    <tr>\n",
       "      <th id=\"T_c27c2_level0_row2\" class=\"row_heading level0 row2\" >bad</th>\n",
       "      <td id=\"T_c27c2_row2_col0\" class=\"data row2 col0\" >0.534841</td>\n",
       "      <td id=\"T_c27c2_row2_col1\" class=\"data row2 col1\" >0.454080</td>\n",
       "      <td id=\"T_c27c2_row2_col2\" class=\"data row2 col2\" >1.000000</td>\n",
       "      <td id=\"T_c27c2_row2_col3\" class=\"data row2 col3\" >0.298262</td>\n",
       "    </tr>\n",
       "    <tr>\n",
       "      <th id=\"T_c27c2_level0_row3\" class=\"row_heading level0 row3\" >terrible</th>\n",
       "      <td id=\"T_c27c2_row3_col0\" class=\"data row3 col0\" >0.212155</td>\n",
       "      <td id=\"T_c27c2_row3_col1\" class=\"data row3 col1\" >0.194178</td>\n",
       "      <td id=\"T_c27c2_row3_col2\" class=\"data row3 col2\" >0.298262</td>\n",
       "      <td id=\"T_c27c2_row3_col3\" class=\"data row3 col3\" >1.000000</td>\n",
       "    </tr>\n",
       "  </tbody>\n",
       "</table>\n"
      ],
      "text/plain": [
       "<pandas.io.formats.style.Styler at 0x73d31d2af8c0>"
      ]
     },
     "execution_count": 7,
     "metadata": {},
     "output_type": "execute_result"
    }
   ],
   "source": [
    "# Get embeddings for selected words (use tokens without subword prefixes)\n",
    "tokens = [\"good\", \"great\", \"bad\", \"terrible\"]\n",
    "token_ids = tokenizer(tokens, return_tensors=\"pt\", add_special_tokens=False)[\"input_ids\"]\n",
    "\n",
    "# Get embeddings from model\n",
    "with torch.no_grad():\n",
    "    word_outputs = model(**tokenizer(tokens, return_tensors=\"pt\", add_special_tokens=False))\n",
    "    word_embeddings = word_outputs.last_hidden_state.mean(dim=1)  # use average across tokens\n",
    "\n",
    "# Compute pairwise cosine similarity\n",
    "similarities = cosine_similarity(word_embeddings.unsqueeze(1), word_embeddings.unsqueeze(0), dim=-1)\n",
    "\n",
    "# Display as a matrix\n",
    "sim_df = pd.DataFrame(similarities.numpy(), index=tokens, columns=tokens)\n",
    "sim_df.style.background_gradient(cmap=\"Blues\")\n"
   ]
  },
  {
   "cell_type": "markdown",
   "id": "90d2d162",
   "metadata": {},
   "source": [
    "#### Finding a \"Semantic Direction\"\n",
    "We can perform simple arithmetic, for example:\n",
    "- **king - man + woman ≈ ?**\n",
    "\n",
    "We extract the static embeddings and then search for the nearest token to the computed vector."
   ]
  },
  {
   "cell_type": "code",
   "execution_count": 8,
   "id": "ba1c3493",
   "metadata": {},
   "outputs": [
    {
     "name": "stdout",
     "output_type": "stream",
     "text": [
      "Top 10 tokens similar to (king - man + woman):\n",
      "queen: 0.5128\n",
      "woman: 0.4967\n",
      "female: 0.4522\n",
      "king: 0.4440\n",
      "women: 0.4369\n",
      "females: 0.4037\n",
      "princess: 0.4030\n",
      "queens: 0.3894\n",
      "empress: 0.3850\n",
      "duchess: 0.3841\n"
     ]
    }
   ],
   "source": [
    "# Get the static token embeddings from the model's input embeddings\n",
    "static_embeddings = model.get_input_embeddings().weight.detach().numpy()\n",
    "\n",
    "# Function to get the embedding of a token from the static embeddings\n",
    "def get_token_embedding(token, tokenizer, static_embeddings):\n",
    "    token_id = tokenizer.convert_tokens_to_ids(token)\n",
    "    return static_embeddings[token_id]\n",
    "\n",
    "# Perform arithmetic: king - man + woman\n",
    "king_emb = get_token_embedding(\"king\", tokenizer, static_embeddings)\n",
    "man_emb = get_token_embedding(\"man\", tokenizer, static_embeddings)\n",
    "woman_emb = get_token_embedding(\"woman\", tokenizer, static_embeddings)\n",
    "\n",
    "# Compute the resulting vector\n",
    "result_vector = king_emb - 2 * man_emb + 2 * woman_emb\n",
    "\n",
    "# Function to compute cosine similarity between two vectors\n",
    "def cosine_similarity(a, b):\n",
    "    return np.dot(a, b) / (np.linalg.norm(a) * np.linalg.norm(b))\n",
    "\n",
    "# Find the top 5 closest tokens in the vocabulary to the result_vector\n",
    "all_tokens = list(tokenizer.get_vocab().keys())\n",
    "similarities = {}\n",
    "for tok in all_tokens:\n",
    "    # Get token embedding\n",
    "    try:\n",
    "        tok_emb = get_token_embedding(tok, tokenizer, static_embeddings)\n",
    "        sim = cosine_similarity(result_vector, tok_emb)\n",
    "        similarities[tok] = sim\n",
    "    except Exception as e:\n",
    "        continue\n",
    "\n",
    "# Sort tokens by similarity score in descending order\n",
    "sorted_similar_tokens = sorted(similarities.items(), key=lambda x: x[1], reverse=True)\n",
    "\n",
    "print(\"Top 10 tokens similar to (king - man + woman):\")\n",
    "for tok, score in sorted_similar_tokens[:10]:\n",
    "    print(f\"{tok}: {score:.4f}\")\n"
   ]
  },
  {
   "cell_type": "markdown",
   "id": "97a36e05",
   "metadata": {},
   "source": [
    "### Clustering Tokens from the Static Embedding Space\n",
    "\n",
    "We can also pick a set of semantically related tokens and visualize their static embeddings. For instance, consider tokens related to royalty and common adjectives.\n"
   ]
  },
  {
   "cell_type": "code",
   "execution_count": 9,
   "id": "b8223415",
   "metadata": {},
   "outputs": [],
   "source": [
    "def visualize_embeddings(embeddings_arr, tokens_list, method=\"pca\"):\n",
    "    \"\"\"\n",
    "    Visualizes token embeddings using PCA or t-SNE.\n",
    "    \n",
    "    Parameters:\n",
    "    - embeddings_arr: numpy array of shape (n_tokens, embedding_dim)\n",
    "    - tokens_list: list of token strings corresponding to the embeddings\n",
    "    - method: \"pca\" or \"tsne\"\n",
    "    \"\"\"\n",
    "    if method == \"pca\":\n",
    "        reduced = PCA(n_components=2).fit_transform(embeddings_arr)\n",
    "        title = \"PCA\"\n",
    "    elif method == \"tsne\":\n",
    "        reduced = TSNE(n_components=2, perplexity=5, random_state=42).fit_transform(embeddings_arr)\n",
    "        title = \"t-SNE\"\n",
    "    \n",
    "    plt.figure(figsize=(10, 8))\n",
    "    sns.scatterplot(x=reduced[:, 0], y=reduced[:, 1])\n",
    "    for i, token in enumerate(tokens_list):\n",
    "        plt.text(reduced[i, 0] + 0.01, reduced[i, 1] + 0.01, token, fontsize=10)\n",
    "    plt.title(f\"Token Embeddings Visualized with {title}\")\n",
    "    plt.xlabel(\"Component 1\")\n",
    "    plt.ylabel(\"Component 2\")\n",
    "    plt.show()\n",
    "\n"
   ]
  },
  {
   "cell_type": "code",
   "execution_count": 10,
   "id": "53bf4e04",
   "metadata": {},
   "outputs": [
    {
     "data": {
      "image/png": "[encoded data removed]",
      "text/plain": [
       "<Figure size 1000x800 with 1 Axes>"
      ]
     },
     "metadata": {},
     "output_type": "display_data"
    }
   ],
   "source": [
    "# Define a set of tokens of interest\n",
    "selected_tokens = [\"king\", \"queen\", \"prince\", \"princess\", \"man\", \"woman\", \"royal\", \"noble\", \"throne\", \"crown\", \"joker\", \"clown\", \"fool\", \"court\", \"kingdom\", \"empire\", \"reign\", \"rule\", \"scepter\", \"majesty\", \"thief\", \"gardner\"]\n",
    "\n",
    "# Get embeddings for these tokens\n",
    "selected_embeddings = []\n",
    "for token in selected_tokens:\n",
    "    try:\n",
    "        emb = get_token_embedding(token, tokenizer, static_embeddings)\n",
    "        selected_embeddings.append(emb)\n",
    "    except Exception as e:\n",
    "        print(f\"Token {token} not found.\")\n",
    "selected_embeddings = np.array(selected_embeddings)\n",
    "\n",
    "# Visualize these tokens using PCA\n",
    "visualize_embeddings(selected_embeddings, selected_tokens, method='pca')\n"
   ]
  },
  {
   "cell_type": "markdown",
   "id": "fb4aa43d",
   "metadata": {},
   "source": [
    "## Summary and Next Steps\n",
    "\n",
    "In this notebook, we have:\n",
    "- Introduced tokens and explained their role in NLP.\n",
    "- Tokenized text using the Hugging Face Transformers library.\n",
    "- Explained the concept of embeddings and their importance.\n",
    "- Loaded a real dataset (IMDb) for contextual learning.\n",
    "- Extracted learned embeddings from a pretrained BERT model.\n",
    "\n",
    "These foundational concepts and practical tools will support the rest of the course as we explore more advanced language models and generative techniques."
   ]
  }
 ],
 "metadata": {
  "kernelspec": {
   "display_name": ".venv",
   "language": "python",
   "name": "python3"
  },
  "language_info": {
   "codemirror_mode": {
    "name": "ipython",
    "version": 3
   },
   "file_extension": ".py",
   "mimetype": "text/x-python",
   "name": "python",
   "nbconvert_exporter": "python",
   "pygments_lexer": "ipython3",
   "version": "3.13.2"
  }
 },
 "nbformat": 4,
 "nbformat_minor": 5
}
