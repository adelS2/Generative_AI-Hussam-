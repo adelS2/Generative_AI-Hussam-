{
 "cells": [
  {
   "cell_type": "markdown",
   "id": "415d607c",
   "metadata": {},
   "source": [
    "# Efficient Fine-Tuning of Transformers: LoRA, QLoRA, and Unsloth"
   ]
  },
  {
   "cell_type": "markdown",
   "id": "e429d231",
   "metadata": {},
   "source": [
    "## Notebook Objective:\n",
    "\n",
    "Provide a hands-on guide to the most efficient methods for fine-tuning large language models using:\n",
    "\n",
    "* LoRA (Low-Rank Adaptation)\n",
    "* QLoRA (Quantized LoRA for 13B+ models)\n",
    "* Unsloth (Fast LoRA + quantization for LLaMA/Gemma)\n",
    "\n",
    "By the end, students will:\n",
    "\n",
    "* Understand each method’s purpose and trade-offs.\n",
    "* Fine-tune LLMs on real-world datasets using each method.\n",
    "* Compare results and decide which technique fits which scenario."
   ]
  },
  {
   "cell_type": "markdown",
   "id": "35327914",
   "metadata": {},
   "source": [
    "# Introduction to PEFT (Parameter-Efficient Fine-Tuning)"
   ]
  },
  {
   "cell_type": "markdown",
   "id": "2e4ace99",
   "metadata": {},
   "source": [
    "## Why Not Full Fine-Tuning?\n",
    "\n",
    "- **High compute cost**: updating all model weights requires storing gradients for every parameter, which scales memory usage by ~2–3× the model size.  \n",
    "- **Slow iteration**: large backprop passes on 100M+–parameter models take hours even on A100s.  \n",
    "- **Deployment complexity**: shipping full fine-tuned weights means re-serving the entire model, complicating version control and increasing storage.\n",
    "- **Memory-Intensive**: Full fine-tuning uses significant GPU VRAM, making it impossible on low-end or free-tier hardware.\n",
    "\n",
    "Instead, we turn to **Parameter-Efficient Fine-Tuning (PEFT)**."
   ]
  },
  {
   "cell_type": "markdown",
   "id": "d7f480f9",
   "metadata": {},
   "source": [
    "## What is PEFT?\n",
    "\n",
    "PEFT methods **fine-tune only a small portion of the model’s parameters**, while keeping the rest frozen. This drastically reduces:\n",
    "\n",
    "* Required memory\n",
    "* Training time\n",
    "* Overfitting risks (especially on small datasets)\n",
    "\n",
    "Popular PEFT methods include:\n",
    "\n",
    "* LoRA (Low-Rank Adaptation)\n",
    "* QLoRA (Quantized LoRA)\n",
    "* Adapters"
   ]
  },
  {
   "cell_type": "markdown",
   "id": "8fe7be12",
   "metadata": {},
   "source": [
    "# LoRA Fine-Tuning with Hugging Face\n",
    "\n",
    "**LoRA (Low-Rank Adaptation)** is a parameter-efficient fine-tuning technique that:\n",
    "\n",
    "* **Freezes the base model weights**.\n",
    "* Injects **small trainable matrices (low-rank)** into key components like attention layers.\n",
    "* Dramatically **reduces GPU memory and compute needs**, while maintaining performance.\n",
    "\n",
    "LoRA is supported via 🤗 Hugging Face’s **PEFT** (Parameter-Efficient Fine-Tuning) library, which makes integration seamless."
   ]
  },
  {
   "cell_type": "markdown",
   "id": "8efd9bbb",
   "metadata": {},
   "source": [
    "<img src=\"./Lora.png\" width=\"500\" style=\"display: block; margin: auto;\">\n",
    "\n",
    "*Image Source: [Hu, Edward J., et al.](https://arxiv.org/abs/2106.09685)*"
   ]
  },
  {
   "cell_type": "markdown",
   "id": "75c780bb",
   "metadata": {},
   "source": [
    "A basic LoRA wrapper\n",
    "\n",
    "\n",
    "```python\n",
    "class LoRALinear(nn.Module):\n",
    "    def __init__(self, original_layer, r=8, alpha=16):\n",
    "        super().__init__()\n",
    "        self.original = original_layer\n",
    "        self.r = r\n",
    "        self.alpha = alpha\n",
    "        self.lora_A = nn.Linear(original_layer.in_features, r, bias=False)\n",
    "        self.lora_B = nn.Linear(r, original_layer.out_features, bias=False)\n",
    "        self.scaling = alpha / r\n",
    "\n",
    "        # Initialize LoRA weights\n",
    "        nn.init.kaiming_uniform_(self.lora_A.weight, a=0.02)\n",
    "        nn.init.zeros_(self.lora_B.weight)\n",
    "\n",
    "        # Freeze original weights\n",
    "        for param in self.original.parameters():\n",
    "            param.requires_grad = False\n",
    "\n",
    "    def forward(self, x):\n",
    "        return self.original(x) + self.scaling * self.lora_B(self.lora_A(x))\n",
    "```"
   ]
  },
  {
   "cell_type": "markdown",
   "id": "b970cb98",
   "metadata": {},
   "source": [
    "### Load Base Model and Tokenizer"
   ]
  },
  {
   "cell_type": "code",
   "execution_count": null,
   "id": "bcc6a5ee",
   "metadata": {},
   "outputs": [],
   "source": [
    "from transformers import AutoModelForCausalLM, AutoTokenizer\n",
    "\n",
    "model_name = \"HuggingFaceTB/SmolLM2-135M\"\n",
    "tokenizer = AutoTokenizer.from_pretrained(model_name)\n",
    "model = AutoModelForCausalLM.from_pretrained(model_name)\n",
    "\n",
    "model.enable_input_require_grads()\n"
   ]
  },
  {
   "cell_type": "markdown",
   "id": "61872be7",
   "metadata": {},
   "source": [
    "### Set chat template"
   ]
  },
  {
   "cell_type": "code",
   "execution_count": null,
   "id": "40352e0d",
   "metadata": {},
   "outputs": [],
   "source": [
    "from trl import setup_chat_format\n",
    "\n",
    "model, tokenizer = setup_chat_format(model, tokenizer)"
   ]
  },
  {
   "cell_type": "markdown",
   "id": "d995b84d",
   "metadata": {},
   "source": [
    "### Define LoRA\n",
    "\n",
    "Here, we defince the LoRA hyperparameters and wrap our model. Note that doing so we get only a fraction of training parameters"
   ]
  },
  {
   "cell_type": "code",
   "execution_count": 57,
   "id": "c2781f85",
   "metadata": {},
   "outputs": [
    {
     "name": "stdout",
     "output_type": "stream",
     "text": [
      "trainable params: 745,472 || all params: 1,000,631,424 || trainable%: 0.0745\n"
     ]
    },
    {
     "name": "stderr",
     "output_type": "stream",
     "text": [
      "/home/hussam/Documents/Hochschule/Generative_AI/.venv/lib/python3.13/site-packages/peft/mapping_func.py:73: UserWarning: You are trying to modify a model with PEFT for a second time. If you want to reload the model with a different config, make sure to call `.unload()` before.\n",
      "  warnings.warn(\n",
      "/home/hussam/Documents/Hochschule/Generative_AI/.venv/lib/python3.13/site-packages/peft/tuners/tuners_utils.py:167: UserWarning: Already found a `peft_config` attribute in the model. This will lead to having multiple adapters in the model. Make sure to know what you are doing!\n",
      "  warnings.warn(\n"
     ]
    }
   ],
   "source": [
    "from peft import LoraConfig, get_peft_model, TaskType\n",
    "\n",
    "lora_config = LoraConfig(\n",
    "    r=8,\n",
    "    lora_alpha=16,\n",
    "    target_modules=[\"q_proj\", \"v_proj\"],  # adjust if needed for this model\n",
    "    lora_dropout=0.05,\n",
    "    bias=\"none\",\n",
    "    task_type=TaskType.CAUSAL_LM,\n",
    ")\n",
    "\n",
    "model = get_peft_model(model, lora_config)\n",
    "model.print_trainable_parameters()"
   ]
  },
  {
   "cell_type": "markdown",
   "id": "34997166",
   "metadata": {},
   "source": [
    "### Load The Dataset"
   ]
  },
  {
   "cell_type": "code",
   "execution_count": 58,
   "id": "289bbc62",
   "metadata": {},
   "outputs": [],
   "source": [
    "from datasets import load_dataset\n",
    "\n",
    "train_dataset = load_dataset(\"HuggingFaceTB/smoltalk\", \"smol-rewrite\", split=\"train\")\n",
    "eval_dataset = load_dataset(\"HuggingFaceTB/smoltalk\", \"smol-rewrite\", split=\"test\")"
   ]
  },
  {
   "cell_type": "markdown",
   "id": "c86d41c1",
   "metadata": {},
   "source": [
    "### Define the SFT Trainer"
   ]
  },
  {
   "cell_type": "code",
   "execution_count": null,
   "id": "38b0810b",
   "metadata": {},
   "outputs": [
    {
     "name": "stderr",
     "output_type": "stream",
     "text": [
      "No label_names provided for model class `PeftModelForCausalLM`. Since `PeftModel` hides base models input arguments, if label_names is not given, label_names can't be set automatically within `Trainer`. Note that empty label_names list will be used instead.\n"
     ]
    }
   ],
   "source": [
    "from trl import SFTTrainer, SFTConfig\n",
    "\n",
    "# Training configuration\n",
    "# Hyperparameters based on QLoRA paper recommendations\n",
    "args = SFTConfig(\n",
    "    # Output settings\n",
    "    output_dir='SmolLM2-LoRA-rewrite',  # Directory to save model checkpoints\n",
    "    # Training duration\n",
    "    num_train_epochs=1,  # Number of training epochs\n",
    "    # Batch size settings\n",
    "    per_device_train_batch_size=2,  # Batch size per GPU\n",
    "    gradient_accumulation_steps=2,  # Accumulate gradients for larger effective batch\n",
    "    # Memory optimization\n",
    "    gradient_checkpointing=True,  # Trade compute for memory savings\n",
    "    # Optimizer settings\n",
    "    optim=\"adamw_torch_fused\",  # Use fused AdamW for efficiency\n",
    "    learning_rate=2e-4,  # Learning rate (QLoRA paper)\n",
    "    max_grad_norm=0.3,  # Gradient clipping threshold\n",
    "    # Learning rate schedule\n",
    "    warmup_ratio=0.03,  # Portion of steps for warmup\n",
    "    lr_scheduler_type=\"constant\",  # Keep learning rate constant after warmup\n",
    "    # Logging and saving\n",
    "    logging_steps=10,  # Log metrics every N steps\n",
    "    save_strategy=\"epoch\",  # Save checkpoint every epoch\n",
    "    # Precision settings\n",
    "    bf16=True,  # Use bfloat16 precision\n",
    "    max_seq_length=1512,\n",
    "    packing=True,  # Enable input packing for efficiency\n",
    "    dataset_kwargs={\n",
    "        \"add_special_tokens\": False,  # Special tokens handled by template\n",
    "        \"append_concat_token\": False,  # No additional separator needed\n",
    "    },\n",
    ")\n",
    "\n",
    "max_seq_length = 1512  # max sequence length for model and packing of the dataset\n",
    "\n",
    "# Create SFTTrainer with LoRA configuration\n",
    "trainer = SFTTrainer(\n",
    "    model=model,\n",
    "    args=args,\n",
    "    train_dataset=train_dataset,\n",
    "    eval_dataset=eval_dataset,\n",
    "    peft_config=lora_config,  # LoRA configuration\n",
    "    processing_class=tokenizer,\n",
    "\n",
    ")"
   ]
  },
  {
   "cell_type": "code",
   "execution_count": null,
   "id": "f63d902b",
   "metadata": {},
   "outputs": [],
   "source": [
    "# start training, the model will be automatically saved to the hub and the output directory\n",
    "trainer.train()\n",
    "\n",
    "# save model\n",
    "trainer.save_model()"
   ]
  },
  {
   "cell_type": "markdown",
   "id": "7252bc37",
   "metadata": {},
   "source": [
    "# Quantization: Making Big Models Small(ish)"
   ]
  },
  {
   "cell_type": "markdown",
   "id": "2797da97",
   "metadata": {},
   "source": [
    "## What is Quantization?\n",
    "\n",
    "Quantization reduces the memory and compute cost of machine learning models by converting weights from high-precision (e.g., `float32`) to low-precision formats like `int8` or `int4`.\n",
    "\n",
    ">Instead of storing each number with 32 bits of precision, we store it with 8 or even 4 bits, saving space and making operations faster."
   ]
  },
  {
   "cell_type": "code",
   "execution_count": 43,
   "id": "e59b899f",
   "metadata": {},
   "outputs": [],
   "source": [
    "from transformers import AutoTokenizer, AutoModelForCausalLM\n",
    "\n",
    "model_name = \"HuggingFaceTB/SmolLM2-360M\"\n",
    "\n",
    "tokenizer = AutoTokenizer.from_pretrained(model_name)\n",
    "model_fp32 = AutoModelForCausalLM.from_pretrained(model_name)\n",
    "model_fp32.eval();\n"
   ]
  },
  {
   "cell_type": "markdown",
   "id": "2b345313",
   "metadata": {},
   "source": [
    "To quantize our model, we will use the `bitsandbytes` library. Ensure it is installed in your environment before proceeding."
   ]
  },
  {
   "cell_type": "code",
   "execution_count": 50,
   "id": "04f45acc",
   "metadata": {},
   "outputs": [
    {
     "name": "stderr",
     "output_type": "stream",
     "text": [
      "Setting `pad_token_id` to `eos_token_id`:0 for open-end generation.\n"
     ]
    },
    {
     "name": "stdout",
     "output_type": "stream",
     "text": [
      "Why is the ocean salty?\n",
      "\n",
      "The ocean is salty because it contains dissolved minerals. The ocean is salty because it contains dissolved minerals. The ocean is salty because it contains dissolved minerals. The ocean is salty because it contains dissolved minerals. The ocean is salty because it contains dissolved\n"
     ]
    }
   ],
   "source": [
    "from transformers import BitsAndBytesConfig\n",
    "import torch\n",
    "\n",
    "bnb_config = BitsAndBytesConfig(load_in_8bit=True)\n",
    "\n",
    "model_int8 = AutoModelForCausalLM.from_pretrained(\n",
    "    model_name,\n",
    "    device_map=\"auto\",\n",
    "    quantization_config=bnb_config)\n",
    "\n",
    "tokenizer = AutoTokenizer.from_pretrained(model_name)\n",
    "model_int8.eval()\n",
    "\n",
    "inputs = tokenizer(\"Why is the ocean salty?\", return_tensors=\"pt\").to(\"cuda\")\n",
    "with torch.no_grad():\n",
    "    outputs = model_int8.generate(**inputs, max_new_tokens=50)\n",
    "    print(tokenizer.decode(outputs[0], skip_special_tokens=True))\n"
   ]
  },
  {
   "cell_type": "markdown",
   "id": "7752c8b2",
   "metadata": {},
   "source": [
    "## Quantization Precision Levels\n",
    "\n",
    "Quantizing a model to different levels of precision allows for a trade-off between model performance and resource usage. In the following cell, we compare the VRAM usage of various quantized versions of our model."
   ]
  },
  {
   "cell_type": "code",
   "execution_count": 52,
   "id": "ec6ebf76",
   "metadata": {},
   "outputs": [
    {
     "name": "stdout",
     "output_type": "stream",
     "text": [
      "🔹 Loading FP32 model...\n",
      "📊 FP32 - Allocated: 1590.86 MB\n",
      "\n",
      "🔹 Loading FP16 model...\n",
      "📊 FP16 - Allocated: 872.21 MB\n",
      "\n",
      "🔹 Loading INT8 quantized model...\n",
      "📊 INT8 - Allocated: 548.29 MB\n",
      "\n",
      "🔹 Loading 4-bit NF4 quantized model...\n",
      "📊 4-bit NF4 - Allocated: 396.25 MB\n"
     ]
    }
   ],
   "source": [
    "import torch\n",
    "from transformers import AutoModelForCausalLM, AutoTokenizer, BitsAndBytesConfig\n",
    "import gc\n",
    "\n",
    "model_name = \"HuggingFaceTB/SmolLM2-360M\"\n",
    "\n",
    "def get_memory_usage():\n",
    "    torch.cuda.empty_cache()\n",
    "    gc.collect()\n",
    "    torch.cuda.reset_peak_memory_stats()\n",
    "    return torch.cuda.memory_allocated(), torch.cuda.max_memory_allocated()\n",
    "\n",
    "tokenizer = AutoTokenizer.from_pretrained(model_name)\n",
    "results = {}\n",
    "\n",
    "# --- FP32 ---\n",
    "torch.cuda.empty_cache(); gc.collect()\n",
    "print(\"🔹 Loading FP32 model...\")\n",
    "model_fp32 = AutoModelForCausalLM.from_pretrained(model_name).to(\"cuda\")\n",
    "fp32_alloc, _ = get_memory_usage()\n",
    "results[\"FP32\"] = fp32_alloc\n",
    "print(f\"📊 FP32 - Allocated: {fp32_alloc / 1e6:.2f} MB\")\n",
    "del model_fp32; torch.cuda.empty_cache(); gc.collect()\n",
    "\n",
    "# --- FP16 ---\n",
    "print(\"\\n🔹 Loading FP16 model...\")\n",
    "model_fp16 = AutoModelForCausalLM.from_pretrained(model_name).half().to(\"cuda\")\n",
    "fp16_alloc, _ = get_memory_usage()\n",
    "results[\"FP16\"] = fp16_alloc\n",
    "print(f\"📊 FP16 - Allocated: {fp16_alloc / 1e6:.2f} MB\")\n",
    "del model_fp16; torch.cuda.empty_cache(); gc.collect()\n",
    "\n",
    "# --- INT8 ---\n",
    "print(\"\\n🔹 Loading INT8 quantized model...\")\n",
    "bnb_config_8bit = BitsAndBytesConfig(load_in_8bit=True)\n",
    "model_int8 = AutoModelForCausalLM.from_pretrained(\n",
    "    model_name,\n",
    "    quantization_config=bnb_config_8bit,\n",
    "    device_map=\"auto\"\n",
    ")\n",
    "int8_alloc, _ = get_memory_usage()\n",
    "results[\"INT8\"] = int8_alloc\n",
    "print(f\"📊 INT8 - Allocated: {int8_alloc / 1e6:.2f} MB\")\n",
    "del model_int8; torch.cuda.empty_cache(); gc.collect()\n",
    "\n",
    "# --- 4-bit NF4 ---\n",
    "print(\"\\n🔹 Loading 4-bit NF4 quantized model...\")\n",
    "bnb_config_4bit = BitsAndBytesConfig(\n",
    "    load_in_4bit=True,\n",
    "    bnb_4bit_use_double_quant=True,\n",
    "    bnb_4bit_quant_type=\"nf4\",\n",
    "    bnb_4bit_compute_dtype=torch.float16,\n",
    ")\n",
    "model_4bit = AutoModelForCausalLM.from_pretrained(\n",
    "    model_name,\n",
    "    quantization_config=bnb_config_4bit,\n",
    "    device_map=\"auto\"\n",
    ")\n",
    "nf4_alloc, _ = get_memory_usage()\n",
    "results[\"4-bit NF4\"] = nf4_alloc\n",
    "print(f\"📊 4-bit NF4 - Allocated: {nf4_alloc / 1e6:.2f} MB\")\n",
    "del model_4bit; torch.cuda.empty_cache(); gc.collect();\n",
    "\n"
   ]
  },
  {
   "cell_type": "code",
   "execution_count": 30,
   "id": "f12680c3",
   "metadata": {},
   "outputs": [
    {
     "data": {
      "image/png": "[encoded data removed]",
      "text/plain": [
       "<Figure size 900x500 with 1 Axes>"
      ]
     },
     "metadata": {},
     "output_type": "display_data"
    }
   ],
   "source": [
    "import matplotlib.pyplot as plt\n",
    "\n",
    "labels = list(results.keys())\n",
    "allocated = [v / 1e6 for v in results.values()]\n",
    "\n",
    "x = range(len(labels))\n",
    "plt.figure(figsize=(9, 5))\n",
    "plt.bar(x, allocated, width=0.4, label='Allocated', align='center')\n",
    "plt.xticks(x, labels)\n",
    "\n",
    "plt.ylabel(\"Memory (MB)\")\n",
    "plt.title(\"Memory Usage: FP32 vs FP16 vs INT8 vs 4-bit NF4\")\n",
    "plt.legend()\n",
    "plt.grid(True, linestyle='--', alpha=0.5)\n",
    "plt.tight_layout()\n",
    "plt.show()\n"
   ]
  },
  {
   "cell_type": "markdown",
   "id": "e7f05119",
   "metadata": {},
   "source": [
    "### Summary\n",
    "\n",
    "* Quantization **shrinks LLMs dramatically**, enabling inference (and training, via QLoRA) on GPUs with limited memory.\n",
    "* Accuracy remains **comparable**, especially for tasks like text generation and classification.\n",
    "* **8-bit quantization** is ideal for inference.\n",
    "* **4-bit quantization + LoRA = QLoRA**, which enables full **training of 13B+ models** on a single A100!"
   ]
  },
  {
   "cell_type": "markdown",
   "id": "b4a20e0d",
   "metadata": {},
   "source": [
    "# QLoRA: Quantized LoRA\n",
    "\n",
    "**QLoRA** is a cutting-edge fine-tuning technique that enables training **very large models** (like LLaMA 13B/65B) on **consumer hardware** by combining:\n",
    "\n",
    "* 4-bit quantization (NF4) to reduce memory footprint\n",
    "* Double quantization to further compress weights\n",
    "* LoRA adapters applied after quantization to avoid touching the full model weights\n",
    "\n",
    "**QLoRA** works best with the following stack:\n",
    "\n",
    "* `transformers`\n",
    "* `bitsandbytes`\n",
    "* `peft`\n",
    "\n",
    "> 🧠 QLoRA = 4-bit Quantization + LoRA = Big Model Fine-Tuning on Small Hardware"
   ]
  },
  {
   "cell_type": "code",
   "execution_count": 1,
   "id": "aa1bf1a7",
   "metadata": {},
   "outputs": [],
   "source": [
    "from datasets import load_dataset\n",
    "\n",
    "train_dataset = load_dataset(\"HuggingFaceTB/smoltalk\", \"smol-rewrite\", split=\"train\")\n",
    "eval_dataset = load_dataset(\"HuggingFaceTB/smoltalk\", \"smol-rewrite\", split=\"test\")"
   ]
  },
  {
   "cell_type": "markdown",
   "id": "f571c907",
   "metadata": {},
   "source": [
    "#### Setup BitsAndBytesConfig for 4-bit loading"
   ]
  },
  {
   "cell_type": "code",
   "execution_count": 2,
   "id": "5c06f0ed",
   "metadata": {},
   "outputs": [],
   "source": [
    "from transformers import BitsAndBytesConfig\n",
    "import torch\n",
    "\n",
    "bnb_config = BitsAndBytesConfig(\n",
    "    load_in_4bit=True,\n",
    "    bnb_4bit_quant_type=\"nf4\",             # Use NormalFloat4 quantization\n",
    "    bnb_4bit_use_double_quant=True,        # Compress the quantization constants\n",
    "    bnb_4bit_compute_dtype=torch.float16   # Efficient compute dtype\n",
    ")\n"
   ]
  },
  {
   "cell_type": "markdown",
   "id": "bed3cab1",
   "metadata": {},
   "source": [
    "#### Load Quantized Model (e.g., gemma-3-1b)"
   ]
  },
  {
   "cell_type": "code",
   "execution_count": 3,
   "id": "ddd86a48",
   "metadata": {},
   "outputs": [],
   "source": [
    "from transformers import AutoModelForCausalLM, AutoTokenizer\n",
    "\n",
    "model_name = \"HuggingFaceTB/SmolLM2-360M\"\n",
    "tokenizer = AutoTokenizer.from_pretrained(model_name)\n",
    "\n",
    "model = AutoModelForCausalLM.from_pretrained(\n",
    "    model_name,\n",
    "    quantization_config=bnb_config,\n",
    "    device_map=\"auto\"  # Auto-distributes across available devices\n",
    ")\n"
   ]
  },
  {
   "cell_type": "markdown",
   "id": "2ba62c43",
   "metadata": {},
   "source": [
    "set chat template"
   ]
  },
  {
   "cell_type": "code",
   "execution_count": 4,
   "id": "b9b57b2f",
   "metadata": {},
   "outputs": [],
   "source": [
    "from trl import setup_chat_format\n",
    "\n",
    "model, tokenizer = setup_chat_format(model, tokenizer)"
   ]
  },
  {
   "cell_type": "markdown",
   "id": "dd52d8da",
   "metadata": {},
   "source": [
    "#### Add LoRA Adapters via PEFT"
   ]
  },
  {
   "cell_type": "code",
   "execution_count": 5,
   "id": "97fc9ff6",
   "metadata": {},
   "outputs": [
    {
     "name": "stdout",
     "output_type": "stream",
     "text": [
      "trainable params: 819,200 || all params: 362,640,320 || trainable%: 0.2259\n"
     ]
    }
   ],
   "source": [
    "from peft import prepare_model_for_kbit_training, LoraConfig, get_peft_model, TaskType\n",
    "\n",
    "# Prepare model for QLoRA (adds input cast hooks etc.)\n",
    "model = prepare_model_for_kbit_training(model)\n",
    "\n",
    "lora_config = LoraConfig(\n",
    "    r=8,\n",
    "    lora_alpha=16,\n",
    "    target_modules=[\"q_proj\", \"v_proj\"],\n",
    "    lora_dropout=0.05,\n",
    "    bias=\"none\",\n",
    "    task_type=TaskType.CAUSAL_LM,\n",
    ")\n",
    "\n",
    "model = get_peft_model(model, lora_config)\n",
    "model.print_trainable_parameters()\n"
   ]
  },
  {
   "cell_type": "code",
   "execution_count": 6,
   "id": "b762e2c8",
   "metadata": {},
   "outputs": [
    {
     "data": {
      "application/vnd.jupyter.widget-view+json": {
       "model_id": "884768f9bf85462fb02e11aa660cf632",
       "version_major": 2,
       "version_minor": 0
      },
      "text/plain": [
       "Applying chat template to train dataset:   0%|          | 0/53342 [00:00<?, ? examples/s]"
      ]
     },
     "metadata": {},
     "output_type": "display_data"
    },
    {
     "data": {
      "application/vnd.jupyter.widget-view+json": {
       "model_id": "ec7b178246b14a429564ef5bcb79dc39",
       "version_major": 2,
       "version_minor": 0
      },
      "text/plain": [
       "Tokenizing train dataset:   0%|          | 0/53342 [00:00<?, ? examples/s]"
      ]
     },
     "metadata": {},
     "output_type": "display_data"
    },
    {
     "data": {
      "application/vnd.jupyter.widget-view+json": {
       "model_id": "533c236853a5456fac40df66c508516e",
       "version_major": 2,
       "version_minor": 0
      },
      "text/plain": [
       "Packing train dataset:   0%|          | 0/53342 [00:00<?, ? examples/s]"
      ]
     },
     "metadata": {},
     "output_type": "display_data"
    },
    {
     "data": {
      "application/vnd.jupyter.widget-view+json": {
       "model_id": "c799bbd852e54264836eb7987bbb3277",
       "version_major": 2,
       "version_minor": 0
      },
      "text/plain": [
       "Applying chat template to eval dataset:   0%|          | 0/2808 [00:00<?, ? examples/s]"
      ]
     },
     "metadata": {},
     "output_type": "display_data"
    },
    {
     "data": {
      "application/vnd.jupyter.widget-view+json": {
       "model_id": "a15f102c851e4eed8731790947f162ff",
       "version_major": 2,
       "version_minor": 0
      },
      "text/plain": [
       "Tokenizing eval dataset:   0%|          | 0/2808 [00:00<?, ? examples/s]"
      ]
     },
     "metadata": {},
     "output_type": "display_data"
    },
    {
     "data": {
      "application/vnd.jupyter.widget-view+json": {
       "model_id": "c201bee23ca1429cbf04785b36b7125b",
       "version_major": 2,
       "version_minor": 0
      },
      "text/plain": [
       "Packing eval dataset:   0%|          | 0/2808 [00:00<?, ? examples/s]"
      ]
     },
     "metadata": {},
     "output_type": "display_data"
    },
    {
     "name": "stderr",
     "output_type": "stream",
     "text": [
      "No label_names provided for model class `PeftModelForCausalLM`. Since `PeftModel` hides base models input arguments, if label_names is not given, label_names can't be set automatically within `Trainer`. Note that empty label_names list will be used instead.\n"
     ]
    }
   ],
   "source": [
    "from trl import SFTTrainer, SFTConfig\n",
    "\n",
    "# Training configuration\n",
    "# Hyperparameters based on QLoRA paper recommendations\n",
    "args = SFTConfig(\n",
    "    # Output settings\n",
    "    output_dir='SmolLM2-LoRA-rewrite',  # Directory to save model checkpoints\n",
    "    # Training duration\n",
    "    num_train_epochs=1,  # Number of training epochs\n",
    "    # Batch size settings\n",
    "    per_device_train_batch_size=2,  # Batch size per GPU\n",
    "    gradient_accumulation_steps=2,  # Accumulate gradients for larger effective batch\n",
    "    # Memory optimization\n",
    "    gradient_checkpointing=True,  # Trade compute for memory savings\n",
    "    # Optimizer settings\n",
    "    optim=\"adamw_torch_fused\",  # Use fused AdamW for efficiency\n",
    "    learning_rate=2e-4,  # Learning rate (QLoRA paper)\n",
    "    max_grad_norm=0.3,  # Gradient clipping threshold\n",
    "    # Learning rate schedule\n",
    "    warmup_ratio=0.03,  # Portion of steps for warmup\n",
    "    lr_scheduler_type=\"constant\",  # Keep learning rate constant after warmup\n",
    "    # Logging and saving\n",
    "    logging_steps=10,  # Log metrics every N steps\n",
    "    save_strategy=\"epoch\",  # Save checkpoint every epoch\n",
    "    # Precision settings\n",
    "    bf16=True,  # Use bfloat16 precision\n",
    "    max_seq_length=1512,\n",
    "    packing=True,  # Enable input packing for efficiency\n",
    "    dataset_kwargs={\n",
    "        \"add_special_tokens\": False,  # Special tokens handled by template\n",
    "        \"append_concat_token\": False,  # No additional separator needed\n",
    "    },\n",
    ")\n",
    "\n",
    "# Create SFTTrainer with LoRA configuration\n",
    "trainer = SFTTrainer(\n",
    "    model=model,\n",
    "    args=args,\n",
    "    train_dataset=train_dataset,\n",
    "    eval_dataset=eval_dataset,\n",
    "    peft_config=lora_config,  # LoRA configuration\n",
    "    processing_class=tokenizer,\n",
    "\n",
    ")"
   ]
  },
  {
   "cell_type": "code",
   "execution_count": null,
   "id": "f08172d6",
   "metadata": {},
   "outputs": [],
   "source": [
    "trainer.train()\n",
    "# save model\n",
    "trainer.save_model()"
   ]
  },
  {
   "cell_type": "code",
   "execution_count": null,
   "id": "401e9d22",
   "metadata": {},
   "outputs": [],
   "source": [
    "import torch\n",
    "# 1️⃣ Memory usage\n",
    "print(\"▶ Peak VRAM (MB):\", torch.cuda.max_memory_allocated() / 1e6)\n",
    "\n",
    "# 2️⃣ Generate a sample\n",
    "prompt = \"### Instruction:\\nExplain transfer learning in simple terms.\\n\\n### Response:\\n\"\n",
    "inputs = tokenizer(prompt, return_tensors=\"pt\").to(model.device)\n",
    "out = model.generate(**inputs, max_new_tokens=60)\n",
    "print(tokenizer.decode(out[0], skip_special_tokens=True))\n"
   ]
  },
  {
   "cell_type": "markdown",
   "id": "fec4db86",
   "metadata": {},
   "source": [
    "# Fast Fine-Tuning with Unsloth\n",
    "\n",
    "Why **Unsloth**?\n",
    "\n",
    "Unsloth is a powerful toolkit that:\n",
    "\n",
    "* **Speeds up LoRA fine-tuning** of language models (5–10x faster).\n",
    "* **Uses 4-bit quantized weights** out-of-the-box with LoRA.\n",
    "* Works on many open source models (**SmolLM2**, **LLaMA**, **Mistral**, etc.)\n",
    "* Compatible with Hugging Face 🤗 `Trainer` or custom loops.\n",
    "\n",
    "For our notebook, we’ll fine-tune the `unsloth/SmolLM2-135M-bnb-4bit` model on the `smoltalk` dataset."
   ]
  },
  {
   "cell_type": "markdown",
   "id": "a2ddcf87",
   "metadata": {},
   "source": [
    "> Make sure to install `unsloth` to your environment"
   ]
  },
  {
   "cell_type": "markdown",
   "id": "b108b2de",
   "metadata": {},
   "source": [
    "## Load Model via Unsloth"
   ]
  },
  {
   "cell_type": "code",
   "execution_count": null,
   "id": "2b43b8af",
   "metadata": {},
   "outputs": [],
   "source": [
    "from unsloth import FastLanguageModel\n",
    "model, tokenizer = FastLanguageModel.from_pretrained(\n",
    "    model_name = \"unsloth/smolllm2-135m-bnb-4bit\",  # 4-bit quantized version\n",
    "    max_seq_length = 512,\n",
    "    dtype = torch.float16,\n",
    ")"
   ]
  },
  {
   "cell_type": "code",
   "execution_count": null,
   "id": "9f86dcee",
   "metadata": {},
   "outputs": [],
   "source": [
    "from trl import setup_chat_format\n",
    "model, tokenizer = setup_chat_format(model, tokenizer)"
   ]
  },
  {
   "cell_type": "markdown",
   "id": "42931f24",
   "metadata": {},
   "source": [
    "## Attach LoRA Adapters (Unsloth-Optimized)"
   ]
  },
  {
   "cell_type": "code",
   "execution_count": null,
   "id": "6ab0f9e3",
   "metadata": {},
   "outputs": [],
   "source": [
    "model = FastLanguageModel.get_peft_model(\n",
    "    model,\n",
    "    r = 8,\n",
    "    target_modules = [\"q_proj\", \"v_proj\"],\n",
    "    lora_alpha = 16,\n",
    "    lora_dropout = 0.05,\n",
    "    bias = \"none\",\n",
    "    task_type = \"CAUSAL_LM\",\n",
    ")\n",
    "model.print_trainable_parameters()"
   ]
  },
  {
   "cell_type": "markdown",
   "id": "fb5bf5dc",
   "metadata": {},
   "source": [
    "## Fine-Tune Using Hugging Face Trainer"
   ]
  },
  {
   "cell_type": "code",
   "execution_count": null,
   "id": "90aa2eee",
   "metadata": {},
   "outputs": [],
   "source": [
    "from trl import SFTTrainer, SFTConfig\n",
    "\n",
    "# Training configuration\n",
    "# Hyperparameters based on QLoRA paper recommendations\n",
    "args = SFTConfig(\n",
    "    # Output settings\n",
    "    output_dir='SmolLM2-LoRA-rewrite',  # Directory to save model checkpoints\n",
    "    # Training duration\n",
    "    num_train_epochs=1,  # Number of training epochs\n",
    "    # Batch size settings\n",
    "    per_device_train_batch_size=2,  # Batch size per GPU\n",
    "    gradient_accumulation_steps=2,  # Accumulate gradients for larger effective batch\n",
    "    # Memory optimization\n",
    "    gradient_checkpointing=True,  # Trade compute for memory savings\n",
    "    # Optimizer settings\n",
    "    optim=\"adamw_torch_fused\",  # Use fused AdamW for efficiency\n",
    "    learning_rate=2e-4,  # Learning rate (QLoRA paper)\n",
    "    max_grad_norm=0.3,  # Gradient clipping threshold\n",
    "    # Learning rate schedule\n",
    "    warmup_ratio=0.03,  # Portion of steps for warmup\n",
    "    lr_scheduler_type=\"constant\",  # Keep learning rate constant after warmup\n",
    "    # Logging and saving\n",
    "    logging_steps=10,  # Log metrics every N steps\n",
    "    save_strategy=\"epoch\",  # Save checkpoint every epoch\n",
    "    # Precision settings\n",
    "    bf16=True,  # Use bfloat16 precision\n",
    "    max_seq_length=1512,\n",
    "    packing=True,  # Enable input packing for efficiency\n",
    "    dataset_kwargs={\n",
    "        \"add_special_tokens\": False,  # Special tokens handled by template\n",
    "        \"append_concat_token\": False,  # No additional separator needed\n",
    "    },\n",
    ")\n",
    "\n",
    "# Create SFTTrainer with LoRA configuration\n",
    "trainer = SFTTrainer(\n",
    "    model=model,\n",
    "    args=args,\n",
    "    train_dataset=train_dataset,\n",
    "    eval_dataset=eval_dataset,\n",
    "    peft_config=lora_config,  # LoRA configuration\n",
    "    processing_class=tokenizer,\n",
    "\n",
    ")"
   ]
  },
  {
   "cell_type": "code",
   "execution_count": null,
   "id": "ea78b0ec",
   "metadata": {},
   "outputs": [],
   "source": [
    "trainer.train()\n",
    "# save model\n",
    "trainer.save_model()"
   ]
  },
  {
   "cell_type": "markdown",
   "id": "59311c73",
   "metadata": {},
   "source": [
    "# Resources\n",
    "\n",
    "* [HF Quantization](https://huggingface.co/docs/optimum/en/concept_guides/quantization)\n",
    "* [HF LLM Course](https://huggingface.co/learn/llm-course/chapter11/4)\n",
    "* [unsloth.ai](https://docs.unsloth.ai/)"
   ]
  }
 ],
 "metadata": {
  "kernelspec": {
   "display_name": ".venv",
   "language": "python",
   "name": "python3"
  },
  "language_info": {
   "codemirror_mode": {
    "name": "ipython",
    "version": 3
   },
   "file_extension": ".py",
   "mimetype": "text/x-python",
   "name": "python",
   "nbconvert_exporter": "python",
   "pygments_lexer": "ipython3",
   "version": "3.13.2"
  }
 },
 "nbformat": 4,
 "nbformat_minor": 5
}
