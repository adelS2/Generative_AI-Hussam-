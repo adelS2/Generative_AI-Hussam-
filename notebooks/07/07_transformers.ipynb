{
 "cells": [
  {
   "cell_type": "markdown",
   "id": "58725783",
   "metadata": {},
   "source": [
    "# Transformers for Language Modeling\n",
    "\n",
    "Welcome to the Transformers module! In this notebook, we’ll explore the core concepts of transformer architectures, learn how they work, and implement and fine-tune them using both Hugging Face and PyTorch.\n",
    "\n",
    "\n",
    "### Learning Objectives\n",
    "\n",
    "- Understand the motivation behind transformers.\n",
    "- Implement self-attention and positional encoding.\n",
    "- Explore the transformer architecture in detail.\n",
    "- Use Hugging Face to fine-tune transformer models.\n",
    "- Implement a mini transformer (NanoTransformer) from scratch.\n"
   ]
  },
  {
   "cell_type": "markdown",
   "id": "7b0bd89d",
   "metadata": {},
   "source": [
    "# Self-Attention: Recap & Deeper Dive"
   ]
  },
  {
   "cell_type": "markdown",
   "id": "7fa23d89",
   "metadata": {},
   "source": [
    "## Why Attention?\n",
    "\n",
    "In the last session, we saw how **attention mechanisms** help models **focus on relevant parts** of the input sequence. Unlike RNNs, which compress everything into a hidden state, attention allows dynamic interaction between tokens.\n",
    "\n",
    "Example problem RNNs struggle with:\n",
    "\n",
    ">\"*The dog, which was barking loudly, ran after the mailman.*\"\n",
    ">\n",
    ">An RNN may forget \"the dog\" by the time it needs to decide \"ran\".\n",
    "\n",
    "**Attention solves this** by letting each word look at the **entire sequence** when generating an output."
   ]
  },
  {
   "cell_type": "markdown",
   "id": "91959ba9",
   "metadata": {},
   "source": [
    "### Self-Attention Intuition\n",
    "\n",
    "Self-attention computes **relationships between all tokens** in a sequence. Each word decides *how much attention* to pay to other words.\n",
    "\n",
    "Every token becomes:\n",
    "\n",
    "* a **Query**: What am I looking for?\n",
    "* a **Key**: What do I offer?\n",
    "* a **Value**: What do I contribute if selected?"
   ]
  },
  {
   "cell_type": "markdown",
   "id": "75b7ad34",
   "metadata": {},
   "source": [
    "## Step-by-Step Example:\n",
    "\n",
    "Let’s say we have 3 tokens in a sentence: `\"The\"`, `\"cat\"`, `\"sat\"`.\n",
    "\n",
    "Assume their embeddings are:"
   ]
  },
  {
   "cell_type": "code",
   "execution_count": 1,
   "id": "91b2ce11",
   "metadata": {},
   "outputs": [],
   "source": [
    "import torch\n",
    "\n",
    "# Each word represented by a 4D embedding\n",
    "x = torch.tensor([\n",
    "    [1.0, 0.0, 1.0, 0.0],  # \"The\"\n",
    "    [0.0, 1.0, 0.0, 1.0],  # \"cat\"\n",
    "    [1.0, 1.0, 1.0, 1.0],  # \"sat\"\n",
    "])  # shape: (3, 4)\n"
   ]
  },
  {
   "cell_type": "markdown",
   "id": "e878bae0",
   "metadata": {},
   "source": [
    "Define **Q**, **K**, **V** matrices (random small weights):"
   ]
  },
  {
   "cell_type": "code",
   "execution_count": 2,
   "id": "d94e589f",
   "metadata": {},
   "outputs": [],
   "source": [
    "import torch.nn.functional as F\n",
    "\n",
    "# Weight matrices (4 -> 2)\n",
    "W_Q = torch.randn(4, 2)\n",
    "W_K = torch.randn(4, 2)\n",
    "W_V = torch.randn(4, 2)\n",
    "\n",
    "Q = x @ W_Q  # shape: (3, 2)\n",
    "K = x @ W_K\n",
    "V = x @ W_V"
   ]
  },
  {
   "cell_type": "markdown",
   "id": "add96ede",
   "metadata": {},
   "source": [
    "Compute Attention Scores:"
   ]
  },
  {
   "cell_type": "code",
   "execution_count": 3,
   "id": "19207265",
   "metadata": {},
   "outputs": [],
   "source": [
    "# Scaled dot-product attention\n",
    "scores = Q @ K.T  # shape: (3, 3)\n",
    "scaled_scores = scores / torch.sqrt(torch.tensor(Q.shape[-1], dtype=torch.float32))\n",
    "weights = F.softmax(scaled_scores, dim=-1)"
   ]
  },
  {
   "cell_type": "markdown",
   "id": "baf0771e",
   "metadata": {},
   "source": [
    "Get Final Output:"
   ]
  },
  {
   "cell_type": "code",
   "execution_count": 4,
   "id": "dc809db0",
   "metadata": {},
   "outputs": [
    {
     "data": {
      "text/plain": [
       "tensor([[-1.6961,  1.6867],\n",
       "        [-1.5373,  2.5149],\n",
       "        [-1.6177,  2.4915]])"
      ]
     },
     "execution_count": 4,
     "metadata": {},
     "output_type": "execute_result"
    }
   ],
   "source": [
    "# Weighted sum of values\n",
    "attn_output = weights @ V  # shape: (3, 2)\n",
    "attn_output"
   ]
  },
  {
   "cell_type": "markdown",
   "id": "4427809e",
   "metadata": {},
   "source": [
    "#### Visualization: Token-to-Token Attention Heatmap"
   ]
  },
  {
   "cell_type": "code",
   "execution_count": 5,
   "id": "f6b93c1a",
   "metadata": {},
   "outputs": [
    {
     "data": {
      "image/png": "[encoded data removed]",
      "text/plain": [
       "<Figure size 640x480 with 2 Axes>"
      ]
     },
     "metadata": {},
     "output_type": "display_data"
    }
   ],
   "source": [
    "import matplotlib.pyplot as plt\n",
    "import seaborn as sns\n",
    "\n",
    "sns.heatmap(weights.detach().numpy(), annot=True, cmap=\"Blues\", xticklabels=[\"The\", \"cat\", \"sat\"], yticklabels=[\"The\", \"cat\", \"sat\"])\n",
    "plt.title(\"Self-Attention Weights\")\n",
    "plt.xlabel(\"Key Tokens\")\n",
    "plt.ylabel(\"Query Tokens\")\n",
    "plt.show()\n"
   ]
  },
  {
   "cell_type": "markdown",
   "id": "739f7b2f",
   "metadata": {},
   "source": [
    "This heatmap shows how each token attends to the others. Diagonal dominance means the token mostly attends to itself."
   ]
  },
  {
   "cell_type": "markdown",
   "id": "d814fe79",
   "metadata": {},
   "source": [
    "## Resource: BertViz\n",
    "\n",
    "Explore attention weights visualization with this interactive tutorial notebook: [BertViz Interactive Tutorial](https://colab.research.google.com/drive/1hXIQ77A4TYS4y3UthWF-Ci7V7vVUoxmQ?usp=sharing#scrollTo=T3H0qUZvPOP4)"
   ]
  },
  {
   "cell_type": "markdown",
   "id": "0de05da0",
   "metadata": {},
   "source": [
    "# Positional Encoding\n",
    "\n",
    "Transformers do **not process input tokens sequentially** (like RNNs do), so they **don’t know the order** of the input unless we explicitly tell them.\n",
    "\n",
    "To fix this, we add **positional encodings** to token embeddings to inject information about a token’s position in the sequence."
   ]
  },
  {
   "cell_type": "markdown",
   "id": "c0ff5a44",
   "metadata": {},
   "source": [
    "## Basic Integer-Based Positions\n",
    "\n",
    "We start with a very simple idea — just give each token a number representing its position:"
   ]
  },
  {
   "cell_type": "code",
   "execution_count": 6,
   "id": "c165d4d5",
   "metadata": {},
   "outputs": [
    {
     "name": "stdout",
     "output_type": "stream",
     "text": [
      "Positions: tensor([0, 1, 2, 3, 4, 5, 6, 7, 8, 9])\n"
     ]
    }
   ],
   "source": [
    "import torch\n",
    "\n",
    "seq_len = 10  # e.g., sentence with 10 tokens\n",
    "positions = torch.arange(seq_len)\n",
    "print(\"Positions:\", positions)"
   ]
  },
  {
   "cell_type": "markdown",
   "id": "d2e2d415",
   "metadata": {},
   "source": [
    "We can then turn this into an embedding:"
   ]
  },
  {
   "cell_type": "code",
   "execution_count": 7,
   "id": "e28aa5ec",
   "metadata": {},
   "outputs": [
    {
     "name": "stdout",
     "output_type": "stream",
     "text": [
      "Position Embeddings Shape: torch.Size([10, 16])\n"
     ]
    }
   ],
   "source": [
    "import torch.nn as nn\n",
    "\n",
    "position_embedding = nn.Embedding(num_embeddings=seq_len, embedding_dim=16)\n",
    "pos_embed = position_embedding(positions)\n",
    "print(\"Position Embeddings Shape:\", pos_embed.shape)"
   ]
  },
  {
   "cell_type": "markdown",
   "id": "a6ea9a7a",
   "metadata": {},
   "source": [
    "While effective, **original Transformers used sinusoidal encodings**, which we’ll implement next."
   ]
  },
  {
   "cell_type": "markdown",
   "id": "90032340",
   "metadata": {},
   "source": [
    "## Sinusoidal Positional Encodings\n",
    "\n",
    "Let’s implement the **sinusoidal encoding** as described in [Vaswani et al. 2017](https://arxiv.org/abs/1706.03762).\n",
    "\n",
    "$$\n",
    "PE_{(pos, 2i)} = \\sin\\left(\\frac{pos}{10000^{\\frac{2i}{d}}}\\right), \\quad PE_{(pos, 2i+1)} = \\cos\\left(\\frac{pos}{10000^{\\frac{2i}{d}}}\\right)\n",
    "$$"
   ]
  },
  {
   "cell_type": "code",
   "execution_count": 8,
   "id": "dbab2bb6",
   "metadata": {},
   "outputs": [
    {
     "name": "stdout",
     "output_type": "stream",
     "text": [
      "Sinusoidal Positional Encoding Shape: torch.Size([100, 64])\n"
     ]
    }
   ],
   "source": [
    "import math\n",
    "import torch\n",
    "\n",
    "def get_sinusoidal_positional_encoding(seq_len, d_model):\n",
    "    pe = torch.zeros(seq_len, d_model)\n",
    "    position = torch.arange(0, seq_len, dtype=torch.float32).unsqueeze(1)\n",
    "    div_term = torch.exp(torch.arange(0, d_model, 2).float() * (-math.log(10000.0) / d_model))\n",
    "    \n",
    "    pe[:, 0::2] = torch.sin(position * div_term)\n",
    "    pe[:, 1::2] = torch.cos(position * div_term)\n",
    "    \n",
    "    return pe\n",
    "\n",
    "# Example\n",
    "pos_encoding = get_sinusoidal_positional_encoding(seq_len=100, d_model=64)\n",
    "print(\"Sinusoidal Positional Encoding Shape:\", pos_encoding.shape)\n"
   ]
  },
  {
   "cell_type": "markdown",
   "id": "ccfd9093",
   "metadata": {},
   "source": [
    "#### Visualize Positional Encodings\n",
    "\n",
    "Let’s plot some dimensions across different positions to see the wave patterns."
   ]
  },
  {
   "cell_type": "code",
   "execution_count": 9,
   "id": "38764f35",
   "metadata": {},
   "outputs": [
    {
     "data": {
      "image/png": "[encoded data removed]",
      "text/plain": [
       "<Figure size 640x480 with 2 Axes>"
      ]
     },
     "metadata": {},
     "output_type": "display_data"
    }
   ],
   "source": [
    "import matplotlib.pyplot as plt\n",
    "\n",
    "plt.imshow(pos_encoding.T, cmap=\"viridis\", aspect=\"auto\")\n",
    "plt.title(\"Positional Encoding\")\n",
    "plt.xlabel(\"Token Position\")\n",
    "plt.ylabel(\"Embedding Dimension\")\n",
    "plt.colorbar()\n",
    "plt.show()\n"
   ]
  },
  {
   "cell_type": "markdown",
   "id": "0cddc00a",
   "metadata": {},
   "source": [
    "# Transformer Architecture Overview\n",
    "\n",
    "Transformer models are a type of neural network architecture designed to handle sequential data by leveraging self-attention mechanisms. They excel in tasks like natural language processing and machine translation by capturing long-range dependencies and contextual relationships between tokens. The architecture was introduced in the paper [\"Attention Is All You Need\"](https://arxiv.org/abs/1706.03762) by Vaswani et al. (2017)."
   ]
  },
  {
   "cell_type": "markdown",
   "id": "92ee9c86",
   "metadata": {},
   "source": [
    "<div style=\"text-align: center;\">\n",
    "    <img src=\"https://machinelearningmastery.com/wp-content/uploads/2021/08/attention_research_1.png\" alt=\"Attention Research\" style=\"max-width: 50%; height: auto;\">\n",
    "</div>\n",
    "\n",
    "Source: [machinelearningmastery.com](https://machinelearningmastery.com/wp-content/uploads/2021/08/attention_research_1.png)"
   ]
  },
  {
   "cell_type": "markdown",
   "id": "5ded5fa2",
   "metadata": {},
   "source": [
    "## Decoder-Only Transformer\n",
    "\n",
    "In generative AI, we often use decoder-only architectures (e.g., GPT models) to generate text one token at a time. This section walks through the key components of such a model."
   ]
  },
  {
   "cell_type": "markdown",
   "id": "289983d7",
   "metadata": {},
   "source": [
    "### Core Components"
   ]
  },
  {
   "cell_type": "markdown",
   "id": "ba37851a",
   "metadata": {},
   "source": [
    "#### 1. Embedding + Positional Encoding\n",
    "\n",
    "Each input token is mapped to an embedding vector. Positional encoding is added to incorporate word order."
   ]
  },
  {
   "cell_type": "code",
   "execution_count": 10,
   "id": "5479977c",
   "metadata": {},
   "outputs": [],
   "source": [
    "class TokenAndPositionalEmbedding(nn.Module):\n",
    "    def __init__(self, vocab_size, d_model, max_len):\n",
    "        super().__init__()\n",
    "        self.token_embed = nn.Embedding(vocab_size, d_model)\n",
    "        self.pos_encoding = get_sinusoidal_positional_encoding(max_len, d_model)\n",
    "\n",
    "    def forward(self, x):\n",
    "        seq_len = x.size(1)\n",
    "        token_emb = self.token_embed(x)\n",
    "        pos_emb = self.pos_encoding[:seq_len, :].to(x.device)\n",
    "        return token_emb + pos_emb"
   ]
  },
  {
   "cell_type": "markdown",
   "id": "ac4d8a97",
   "metadata": {},
   "source": [
    "#### 2. Masked Multi-Head Self-Attention\n",
    "\n",
    "Each token can only attend to earlier tokens (causal masking), enabling autoregressive generation."
   ]
  },
  {
   "cell_type": "code",
   "execution_count": 11,
   "id": "b76e8b60",
   "metadata": {},
   "outputs": [],
   "source": [
    "class MaskedSelfAttention(nn.Module):\n",
    "    def __init__(self, d_model, n_heads):\n",
    "        super().__init__()\n",
    "        # Ensure the model dimension is divisible by the number of heads\n",
    "        assert d_model % n_heads == 0\n",
    "        self.head_dim = d_model // n_heads  # Dimension per attention head\n",
    "        self.n_heads = n_heads  # Number of attention heads\n",
    "\n",
    "        # Linear layers for query, key, and value transformations\n",
    "        self.query = nn.Linear(d_model, d_model)\n",
    "        self.key = nn.Linear(d_model, d_model)\n",
    "        self.value = nn.Linear(d_model, d_model)\n",
    "        \n",
    "        # Linear layer for the output transformation\n",
    "        self.out = nn.Linear(d_model, d_model)\n",
    "\n",
    "    def forward(self, x):\n",
    "        B, T, C = x.shape  # Batch size, sequence length, and model dimension\n",
    "\n",
    "        # Compute query, key, and value matrices and reshape for multi-head attention\n",
    "        q = self.query(x).view(B, T, self.n_heads, self.head_dim).transpose(1, 2)\n",
    "        k = self.key(x).view(B, T, self.n_heads, self.head_dim).transpose(1, 2)\n",
    "        v = self.value(x).view(B, T, self.n_heads, self.head_dim).transpose(1, 2)\n",
    "\n",
    "        # Compute scaled dot-product attention scores\n",
    "        attn_weights = (q @ k.transpose(-2, -1)) / self.head_dim**0.5\n",
    "\n",
    "        # Create a lower triangular mask to enforce causal masking\n",
    "        mask = torch.tril(torch.ones(T, T)).to(x.device)\n",
    "        attn_weights = attn_weights.masked_fill(mask == 0, float('-inf'))  # Apply mask\n",
    "\n",
    "        # Apply softmax to get attention probabilities\n",
    "        attn_probs = F.softmax(attn_weights, dim=-1)\n",
    "\n",
    "        # Compute the weighted sum of values\n",
    "        attn_out = attn_probs @ v  # Shape: (B, n_heads, T, head_dim)\n",
    "\n",
    "        # Reshape and combine the heads\n",
    "        attn_out = attn_out.transpose(1, 2).contiguous().view(B, T, C)\n",
    "\n",
    "        # Apply the output linear transformation\n",
    "        return self.out(attn_out)"
   ]
  },
  {
   "cell_type": "markdown",
   "id": "b2f6e370",
   "metadata": {},
   "source": [
    "#### 3. Add & Norm\n",
    "\n",
    "Standard practice: add the input back to the output (residual) and apply layer normalization."
   ]
  },
  {
   "cell_type": "code",
   "execution_count": 12,
   "id": "aef11fb3",
   "metadata": {},
   "outputs": [],
   "source": [
    "class AddNorm(nn.Module):\n",
    "    def __init__(self, d_model):\n",
    "        super().__init__()\n",
    "        self.norm = nn.LayerNorm(d_model)\n",
    "\n",
    "    def forward(self, x, sublayer_output):\n",
    "        return self.norm(x + sublayer_output)"
   ]
  },
  {
   "cell_type": "markdown",
   "id": "cf776da4",
   "metadata": {},
   "source": [
    "#### 4. Feedforward Layer\n",
    "\n",
    "A simple 2-layer fully connected network with non-linearity, applied to each token position independently."
   ]
  },
  {
   "cell_type": "code",
   "execution_count": 13,
   "id": "a2184fe4",
   "metadata": {},
   "outputs": [],
   "source": [
    "class FeedForward(nn.Module):\n",
    "    def __init__(self, d_model, d_ff):\n",
    "        super().__init__()\n",
    "        self.net = nn.Sequential(\n",
    "            nn.Linear(d_model, d_ff),\n",
    "            nn.ReLU(),\n",
    "            nn.Linear(d_ff, d_model)\n",
    "        )\n",
    "\n",
    "    def forward(self, x):\n",
    "        return self.net(x)"
   ]
  },
  {
   "cell_type": "markdown",
   "id": "64dc253d",
   "metadata": {},
   "source": [
    "#### 5. Putting It All Together: Transformer Decoder Block"
   ]
  },
  {
   "cell_type": "markdown",
   "id": "6411125a",
   "metadata": {},
   "source": [
    "<div style=\"text-align: center;\">\n",
    "    <img src=\"https://substackcdn.com/image/fetch/f_auto,q_auto:good,fl_progressive:steep/https%3A%2F%2Fsubstack-post-media.s3.amazonaws.com%2Fpublic%2Fimages%2F5024bcc5-33c9-4d53-9bd7-56cbcf9c4627_874x1108.png\" alt=\"Transformer Decoder Block\" style=\"max-width: 40%; height: auto;\">\n",
    "</div>"
   ]
  },
  {
   "cell_type": "code",
   "execution_count": 14,
   "id": "a0db5c0d",
   "metadata": {},
   "outputs": [],
   "source": [
    "class TransformerBlock(nn.Module):\n",
    "    def __init__(self, d_model, n_heads, d_ff):\n",
    "        super().__init__()\n",
    "        self.attn = MaskedSelfAttention(d_model, n_heads)\n",
    "        self.addnorm1 = AddNorm(d_model)\n",
    "        self.ff = FeedForward(d_model, d_ff)\n",
    "        self.addnorm2 = AddNorm(d_model)\n",
    "\n",
    "    def forward(self, x):\n",
    "        x = self.addnorm1(x, self.attn(x))\n",
    "        x = self.addnorm2(x, self.ff(x))\n",
    "        return x"
   ]
  },
  {
   "cell_type": "markdown",
   "id": "c9ce7405",
   "metadata": {},
   "source": [
    "#### 6. Assembling the NanoTransformer (Decoder-Only)\n",
    "\n",
    "Now we combine the embedding, positional encoding, and multiple transformer blocks into a complete **NanoTransformer** — a minimal generative language model like GPT."
   ]
  },
  {
   "cell_type": "code",
   "execution_count": 15,
   "id": "983f59e4",
   "metadata": {},
   "outputs": [],
   "source": [
    "class NanoTransformer(nn.Module):\n",
    "    def __init__(self, vocab_size, d_model, n_heads, d_ff, max_len, num_layers):\n",
    "        super().__init__()\n",
    "        self.embed = TokenAndPositionalEmbedding(vocab_size, d_model, max_len)\n",
    "        self.blocks = nn.ModuleList([\n",
    "            TransformerBlock(d_model, n_heads, d_ff) for _ in range(num_layers)\n",
    "        ])\n",
    "        self.norm = nn.LayerNorm(d_model)\n",
    "        self.output_proj = nn.Linear(d_model, vocab_size)\n",
    "\n",
    "    def forward(self, x):\n",
    "        x = self.embed(x)\n",
    "        for block in self.blocks:\n",
    "            x = block(x)\n",
    "        x = self.norm(x)\n",
    "        logits = self.output_proj(x)\n",
    "        return logits"
   ]
  },
  {
   "cell_type": "markdown",
   "id": "3a347406",
   "metadata": {},
   "source": [
    "### Training the Model\n",
    "\n",
    "We'll now train the model on a small dataset (WikiText-2) using a basic next-token prediction setup."
   ]
  },
  {
   "cell_type": "code",
   "execution_count": 21,
   "id": "44d492c8",
   "metadata": {},
   "outputs": [],
   "source": [
    "from tqdm.notebook import tqdm\n",
    "\n",
    "import torch.optim as optim\n",
    "\n",
    "def train(model, dataloader, vocab_size, device, epochs=5, lr=1e-4):\n",
    "    model = model.to(device)\n",
    "    optimizer = optim.Adam(model.parameters(), lr=lr)\n",
    "    loss_fn = nn.CrossEntropyLoss()\n",
    "\n",
    "    model.train()\n",
    "    for epoch in range(epochs):\n",
    "        total_loss = 0\n",
    "        for batch in tqdm(dataloader, desc=\"Training Progress\"):\n",
    "            inputs = batch[:, :-1].to(device)\n",
    "            targets = batch[:, 1:].to(device)\n",
    "\n",
    "            logits = model(inputs)\n",
    "            logits = logits.view(-1, vocab_size)\n",
    "            targets = targets.view(-1)\n",
    "\n",
    "            loss = loss_fn(logits, targets)\n",
    "\n",
    "            optimizer.zero_grad()\n",
    "            loss.backward()\n",
    "            optimizer.step()\n",
    "\n",
    "            total_loss += loss.item()\n",
    "\n",
    "        avg_loss = total_loss / len(dataloader)\n",
    "        print(f\"Epoch {epoch+1}: Loss = {avg_loss:.4f}\")\n"
   ]
  },
  {
   "cell_type": "markdown",
   "id": "807d2ce9",
   "metadata": {},
   "source": [
    "####  Dataset Integration with Hugging Face\n",
    "\n",
    "We'll use a GPT-2 tokenizer and the WikiText-2 dataset for fast experimentation"
   ]
  },
  {
   "cell_type": "code",
   "execution_count": 22,
   "id": "6eb2860c",
   "metadata": {},
   "outputs": [],
   "source": [
    "from datasets import load_dataset\n",
    "from transformers import AutoTokenizer\n",
    "\n",
    "tokenizer = AutoTokenizer.from_pretrained(\"gpt2\")\n",
    "tokenizer.pad_token = tokenizer.eos_token\n",
    "\n",
    "dataset = load_dataset(\"wikitext\", \"wikitext-2-raw-v1\", split=\"train\")\n",
    "texts = [tokenizer.encode(x[\"text\"], truncation=True, max_length=64, padding=\"max_length\") for x in dataset if len(x[\"text\"]) > 0]\n",
    "\n",
    "import torch.utils.data as data\n",
    "\n",
    "batch_size = 32\n",
    "dataloader = data.DataLoader(torch.tensor(texts), batch_size=batch_size, shuffle=True)\n"
   ]
  },
  {
   "cell_type": "markdown",
   "id": "5640f835",
   "metadata": {},
   "source": [
    "#### Model Hyperparameters"
   ]
  },
  {
   "cell_type": "code",
   "execution_count": 23,
   "id": "f34324a5",
   "metadata": {},
   "outputs": [],
   "source": [
    "vocab_size = tokenizer.vocab_size\n",
    "d_model = 32\n",
    "n_heads = 1\n",
    "d_ff = 256\n",
    "max_len = 64\n",
    "num_layers = 1\n",
    "\n",
    "model = NanoTransformer(vocab_size, d_model, n_heads, d_ff, max_len, num_layers)"
   ]
  },
  {
   "cell_type": "markdown",
   "id": "a71b1176",
   "metadata": {},
   "source": [
    "#### Training the Model"
   ]
  },
  {
   "cell_type": "code",
   "execution_count": 24,
   "id": "e42ff29a",
   "metadata": {},
   "outputs": [
    {
     "data": {
      "application/vnd.jupyter.widget-view+json": {
       "model_id": "70415f0eb61d45189f6bf270bda99bfe",
       "version_major": 2,
       "version_minor": 0
      },
      "text/plain": [
       "Training Progress:   0%|          | 0/743 [00:00<?, ?it/s]"
      ]
     },
     "metadata": {},
     "output_type": "display_data"
    },
    {
     "name": "stdout",
     "output_type": "stream",
     "text": [
      "Epoch 1: Loss = 6.4201\n"
     ]
    },
    {
     "data": {
      "application/vnd.jupyter.widget-view+json": {
       "model_id": "c086c8bca98b4198af6968abaf133aa7",
       "version_major": 2,
       "version_minor": 0
      },
      "text/plain": [
       "Training Progress:   0%|          | 0/743 [00:00<?, ?it/s]"
      ]
     },
     "metadata": {},
     "output_type": "display_data"
    },
    {
     "name": "stdout",
     "output_type": "stream",
     "text": [
      "Epoch 2: Loss = 4.7955\n"
     ]
    },
    {
     "data": {
      "application/vnd.jupyter.widget-view+json": {
       "model_id": "b7186a8ea5564c54b50950810b246769",
       "version_major": 2,
       "version_minor": 0
      },
      "text/plain": [
       "Training Progress:   0%|          | 0/743 [00:00<?, ?it/s]"
      ]
     },
     "metadata": {},
     "output_type": "display_data"
    },
    {
     "name": "stdout",
     "output_type": "stream",
     "text": [
      "Epoch 3: Loss = 4.6173\n"
     ]
    },
    {
     "data": {
      "application/vnd.jupyter.widget-view+json": {
       "model_id": "98879e2ec18d41afa2c85b4a4b45f8e1",
       "version_major": 2,
       "version_minor": 0
      },
      "text/plain": [
       "Training Progress:   0%|          | 0/743 [00:00<?, ?it/s]"
      ]
     },
     "metadata": {},
     "output_type": "display_data"
    },
    {
     "name": "stdout",
     "output_type": "stream",
     "text": [
      "Epoch 4: Loss = 4.5034\n"
     ]
    },
    {
     "data": {
      "application/vnd.jupyter.widget-view+json": {
       "model_id": "2cc96a6a7cdf4311b15afc6468bb529e",
       "version_major": 2,
       "version_minor": 0
      },
      "text/plain": [
       "Training Progress:   0%|          | 0/743 [00:00<?, ?it/s]"
      ]
     },
     "metadata": {},
     "output_type": "display_data"
    },
    {
     "name": "stdout",
     "output_type": "stream",
     "text": [
      "Epoch 5: Loss = 4.4073\n"
     ]
    }
   ],
   "source": [
    "device = torch.device(\"cuda\" if torch.cuda.is_available() else \"cpu\")\n",
    "train(model, dataloader, vocab_size, device, epochs=5, lr=3e-4)"
   ]
  },
  {
   "cell_type": "markdown",
   "id": "3d7fc130",
   "metadata": {},
   "source": [
    "### Text Generation"
   ]
  },
  {
   "cell_type": "code",
   "execution_count": 32,
   "id": "da481e62",
   "metadata": {},
   "outputs": [],
   "source": [
    "def generate(model, start_token, max_len=50, temperature=1.0):\n",
    "    model.eval()\n",
    "    input_ids = start_token.to(device)\n",
    "\n",
    "    for _ in range(max_len):\n",
    "        logits = model(input_ids)\n",
    "        next_token_logits = logits[:, -1, :] / temperature\n",
    "        probs = torch.softmax(next_token_logits, dim=-1)\n",
    "        next_token = torch.multinomial(probs, num_samples=1)\n",
    "        input_ids = torch.cat([input_ids, next_token], dim=1)\n",
    "\n",
    "    return input_ids.squeeze().tolist()"
   ]
  },
  {
   "cell_type": "code",
   "execution_count": 33,
   "id": "5f122dbe",
   "metadata": {},
   "outputs": [
    {
     "name": "stdout",
     "output_type": "stream",
     "text": [
      "Input IDs: torch.Size([1, 4])\n",
      "The future of AI was that� being a completelyary to become not Battle Alec , and , A for changed foundation Varg be America and republic Ha prominent @-@iam 's broadcast estimated who is confirmed himth century , who Britishgy shootingbledon Sword using RegimentAA\n"
     ]
    }
   ],
   "source": [
    "start_text = \"The future of AI\"\n",
    "input_ids = tokenizer.encode(start_text, return_tensors=\"pt\").to(device)\n",
    "print(\"Input IDs:\", input_ids.shape)\n",
    "\n",
    "output_ids = generate(model, input_ids, max_len=50, temperature=1.0)\n",
    "output_text = tokenizer.decode(output_ids)\n",
    "print(output_text)"
   ]
  },
  {
   "cell_type": "markdown",
   "id": "dfa0f24b",
   "metadata": {},
   "source": [
    "## Resources\n",
    "\n",
    "\n",
    "[NanoGPT](https://github.com/karpathy/nanoGPT) by Andrej Karpathy is a tiny but powerful GPT implementation that mirrors real GPT architectures, suitable for training on real-world data.\n",
    "\n",
    "\n",
    "[Transformer Explainer](https://poloclub.github.io/transformer-explainer/) an interactive visualization tool that helps users understand how transformers work.\n"
   ]
  },
  {
   "cell_type": "markdown",
   "id": "54c9a7f5",
   "metadata": {},
   "source": [
    "# Hugging Face Transformers\n",
    "\n",
    "While building transformer models from scratch provides invaluable insight, training state-of-the-art models such as GPT-2, GPT-3, or BERT from the ground up presents significant challenges:\n",
    "\n",
    "* **Scale**: These models contain hundreds of millions to billions of parameters.\n",
    "* **Compute Requirements**: Training typically demands access to multiple high-end GPUs or TPUs.\n",
    "* **Optimization Complexity**: Careful tuning of learning rates, optimizers, and distributed strategies is necessary.\n",
    "* **Instability**: Training large models is prone to issues such as divergence, overfitting, or slow convergence."
   ]
  },
  {
   "cell_type": "markdown",
   "id": "f8b63dff",
   "metadata": {},
   "source": [
    "The Hugging Face Transformers library offers a high-level, standardized interface to work with modern transformer-based models.\n",
    "\n",
    "**Key Advantages**\n",
    "* **Pretrained Models**: Easily load models trained on massive corpora (e.g., GPT-2, BERT, T5).\n",
    "* **Tokenizer Integration**: Consistent preprocessing with AutoTokenizer.\n",
    "* **Unified Interfaces**: Standard APIs for training (Trainer), evaluation, and inference.\n",
    "* **Scalability**: Supports distributed training, mixed precision, and integration with 🤗 Accelerate."
   ]
  },
  {
   "cell_type": "markdown",
   "id": "f7d5ac70",
   "metadata": {},
   "source": [
    "## Text Generation with GPT-2"
   ]
  },
  {
   "cell_type": "markdown",
   "id": "990e3659",
   "metadata": {},
   "source": [
    "### Load a Pretrained Model and Tokenizer"
   ]
  },
  {
   "cell_type": "code",
   "execution_count": 34,
   "id": "32000c81",
   "metadata": {},
   "outputs": [
    {
     "data": {
      "application/vnd.jupyter.widget-view+json": {
       "model_id": "11341fb57c45438ebbf5ef2e2cc60bd6",
       "version_major": 2,
       "version_minor": 0
      },
      "text/plain": [
       "tokenizer_config.json:   0%|          | 0.00/26.0 [00:00<?, ?B/s]"
      ]
     },
     "metadata": {},
     "output_type": "display_data"
    },
    {
     "data": {
      "application/vnd.jupyter.widget-view+json": {
       "model_id": "652d64ffe1794eb3ad4f9fd7a461bc6c",
       "version_major": 2,
       "version_minor": 0
      },
      "text/plain": [
       "config.json:   0%|          | 0.00/762 [00:00<?, ?B/s]"
      ]
     },
     "metadata": {},
     "output_type": "display_data"
    },
    {
     "data": {
      "application/vnd.jupyter.widget-view+json": {
       "model_id": "e43fd337770d469a8fc08745d0370f4e",
       "version_major": 2,
       "version_minor": 0
      },
      "text/plain": [
       "vocab.json:   0%|          | 0.00/1.04M [00:00<?, ?B/s]"
      ]
     },
     "metadata": {},
     "output_type": "display_data"
    },
    {
     "data": {
      "application/vnd.jupyter.widget-view+json": {
       "model_id": "93d4eb4e10284e538545ddc6c9967f3d",
       "version_major": 2,
       "version_minor": 0
      },
      "text/plain": [
       "merges.txt:   0%|          | 0.00/456k [00:00<?, ?B/s]"
      ]
     },
     "metadata": {},
     "output_type": "display_data"
    },
    {
     "data": {
      "application/vnd.jupyter.widget-view+json": {
       "model_id": "c89c2d0473174ef69c2d59e164fcae5a",
       "version_major": 2,
       "version_minor": 0
      },
      "text/plain": [
       "tokenizer.json:   0%|          | 0.00/1.36M [00:00<?, ?B/s]"
      ]
     },
     "metadata": {},
     "output_type": "display_data"
    },
    {
     "name": "stderr",
     "output_type": "stream",
     "text": [
      "Xet Storage is enabled for this repo, but the 'hf_xet' package is not installed. Falling back to regular HTTP download. For better performance, install the package with: `pip install huggingface_hub[hf_xet]` or `pip install hf_xet`\n"
     ]
    },
    {
     "data": {
      "application/vnd.jupyter.widget-view+json": {
       "model_id": "e79be97eebe94682a9ffe3db8e31cabe",
       "version_major": 2,
       "version_minor": 0
      },
      "text/plain": [
       "model.safetensors:   0%|          | 0.00/353M [00:00<?, ?B/s]"
      ]
     },
     "metadata": {},
     "output_type": "display_data"
    },
    {
     "data": {
      "application/vnd.jupyter.widget-view+json": {
       "model_id": "12c329ed2b17438eb8e03710e0f0cf30",
       "version_major": 2,
       "version_minor": 0
      },
      "text/plain": [
       "generation_config.json:   0%|          | 0.00/124 [00:00<?, ?B/s]"
      ]
     },
     "metadata": {},
     "output_type": "display_data"
    }
   ],
   "source": [
    "from transformers import AutoTokenizer, AutoModelForCausalLM\n",
    "\n",
    "model_name = \"distilgpt2\"\n",
    "tokenizer = AutoTokenizer.from_pretrained(model_name)\n",
    "model = AutoModelForCausalLM.from_pretrained(model_name)\n"
   ]
  },
  {
   "cell_type": "markdown",
   "id": "4d89cb9f",
   "metadata": {},
   "source": [
    "### Generate Text from a Prompt"
   ]
  },
  {
   "cell_type": "code",
   "execution_count": 38,
   "id": "960523d1",
   "metadata": {},
   "outputs": [
    {
     "name": "stdout",
     "output_type": "stream",
     "text": [
      "In the future, AI will also be responsible for some other things too. If you want to understand and contribute to the future, you can find it in the \"Unifying Knowledge\" section.\n"
     ]
    }
   ],
   "source": [
    "import torch\n",
    "\n",
    "prompt = \"In the future, AI will\"\n",
    "inputs = tokenizer(prompt, return_tensors=\"pt\")\n",
    "\n",
    "# Generate text\n",
    "outputs = model.generate(\n",
    "    inputs[\"input_ids\"],\n",
    "    attention_mask=inputs[\"attention_mask\"],\n",
    "    pad_token_id=tokenizer.eos_token_id,\n",
    "    max_length=50,\n",
    "    temperature=1.0,\n",
    "    top_k=50,\n",
    "    top_p=0.95,\n",
    "    do_sample=True,\n",
    "    num_return_sequences=1\n",
    ")\n",
    "\n",
    "# Decode and print\n",
    "print(tokenizer.decode(outputs[0], skip_special_tokens=True))"
   ]
  },
  {
   "cell_type": "markdown",
   "id": "7f8e8582",
   "metadata": {},
   "source": [
    "**Note**: `temperature`, `top_k`, and `top_p` control the creativity and diversity of the output."
   ]
  },
  {
   "cell_type": "markdown",
   "id": "08a762dd",
   "metadata": {},
   "source": [
    "# Resources\n",
    "\n",
    "[NanoGPT](https://github.com/karpathy/nanoGPT/blob/master/model.py)\n",
    "\n",
    "[Let's build GPT: from scratch, in code, spelled out.](https://www.youtube.com/watch?v=kCc8FmEb1nY)\n",
    "\n",
    "[The Illustrated Transformer](https://jalammar.github.io/illustrated-transformer/)"
   ]
  }
 ],
 "metadata": {
  "kernelspec": {
   "display_name": ".venv",
   "language": "python",
   "name": "python3"
  },
  "language_info": {
   "codemirror_mode": {
    "name": "ipython",
    "version": 3
   },
   "file_extension": ".py",
   "mimetype": "text/x-python",
   "name": "python",
   "nbconvert_exporter": "python",
   "pygments_lexer": "ipython3",
   "version": "3.13.2"
  }
 },
 "nbformat": 4,
 "nbformat_minor": 5
}
