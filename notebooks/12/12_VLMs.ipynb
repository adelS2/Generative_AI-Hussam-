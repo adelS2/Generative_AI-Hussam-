{
 "cells": [
  {
   "cell_type": "markdown",
   "id": "ce1901a6",
   "metadata": {},
   "source": [
    "# Additional Resources\n",
    "\n",
    "* HF Community CV Course [Unit 3](https://huggingface.co/learn/computer-vision-course/unit3) and [Unit 4](https://huggingface.co/learn/computer-vision-course/unit4)\n",
    "* [HF SmolVLM](https://huggingface.co/blog/smolvlm)\n",
    "* [nanoVLM](https://github.com/huggingface/nanoVLM)"
   ]
  }
 ],
 "metadata": {
  "language_info": {
   "name": "python"
  }
 },
 "nbformat": 4,
 "nbformat_minor": 5
}
