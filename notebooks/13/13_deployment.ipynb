{
 "cells": [
  {
   "cell_type": "code",
   "execution_count": 1,
   "id": "94e6f7d5",
   "metadata": {},
   "outputs": [],
   "source": [
    "import gradio as gr\n",
    "from langchain.chat_models import init_chat_model\n",
    "from langchain_core.messages import AIMessage, HumanMessage, SystemMessage"
   ]
  },
  {
   "cell_type": "code",
   "execution_count": 2,
   "id": "925d754d",
   "metadata": {},
   "outputs": [],
   "source": [
    "model = init_chat_model(\"gemini-2.0-flash\", model_provider=\"google_genai\")"
   ]
  },
  {
   "cell_type": "code",
   "execution_count": 3,
   "id": "5203230f",
   "metadata": {},
   "outputs": [],
   "source": [
    "def respond(\n",
    "    user_input: str,\n",
    "    dialog_history: list[dict],\n",
    "    system_message: str,\n",
    "    max_new_tokens: int,\n",
    "    temperature: float,\n",
    "    top_p: float,\n",
    ") -> str:\n",
    "    \"\"\"\n",
    "    Respond to user input using the model.\n",
    "    \"\"\"\n",
    "    # Set the model parameters\n",
    "    model.temperature = temperature\n",
    "    model.top_p = top_p\n",
    "    model.max_output_tokens = max_new_tokens\n",
    "\n",
    "    history_langchain_format = []\n",
    "    # Add the dialog history to the history\n",
    "    for msg in dialog_history:\n",
    "        if msg['role'] == \"user\":\n",
    "            history_langchain_format.append(\n",
    "                HumanMessage(content=msg['content']))\n",
    "        elif msg['role'] == \"assistant\":\n",
    "            history_langchain_format.append(AIMessage(content=msg['content']))\n",
    "\n",
    "    # Combine the system message, history, and user input into a single list\n",
    "    model_input = [SystemMessage(content=system_message)] + \\\n",
    "        history_langchain_format + [HumanMessage(content=user_input)]\n",
    "    \n",
    "    response = model.invoke(model_input)\n",
    "    return response.content"
   ]
  },
  {
   "cell_type": "code",
   "execution_count": 4,
   "id": "1aa30871",
   "metadata": {},
   "outputs": [],
   "source": [
    "demo = gr.ChatInterface(\n",
    "    fn=respond,\n",
    "    type=\"messages\",\n",
    "    additional_inputs=[\n",
    "        gr.Textbox(value=\"You are a friendly Chatbot.\",\n",
    "                   label=\"System message\"),\n",
    "        gr.Slider(minimum=1, maximum=2048, value=512,\n",
    "                  step=1, label=\"Max new tokens\"),\n",
    "        gr.Slider(minimum=0.1, maximum=4.0, value=0.7,\n",
    "                  step=0.1, label=\"Temperature\"),\n",
    "        gr.Slider(\n",
    "            minimum=0.1,\n",
    "            maximum=1.0,\n",
    "            value=0.95,\n",
    "            step=0.05,\n",
    "            label=\"Top-p (nucleus sampling)\",\n",
    "        ),\n",
    "    ],\n",
    ")"
   ]
  },
  {
   "cell_type": "code",
   "execution_count": 5,
   "id": "ebe201e6",
   "metadata": {},
   "outputs": [
    {
     "name": "stdout",
     "output_type": "stream",
     "text": [
      "* Running on local URL:  http://127.0.0.1:7860\n",
      "* To create a public link, set `share=True` in `launch()`.\n"
     ]
    },
    {
     "data": {
      "text/html": [
       "<div><iframe src=\"http://127.0.0.1:7860/\" width=\"100%\" height=\"500\" allow=\"autoplay; camera; microphone; clipboard-read; clipboard-write;\" frameborder=\"0\" allowfullscreen></iframe></div>"
      ],
      "text/plain": [
       "<IPython.core.display.HTML object>"
      ]
     },
     "metadata": {},
     "output_type": "display_data"
    },
    {
     "data": {
      "text/plain": []
     },
     "execution_count": 5,
     "metadata": {},
     "output_type": "execute_result"
    }
   ],
   "source": [
    "demo.launch()"
   ]
  },
  {
   "cell_type": "markdown",
   "id": "355f8148",
   "metadata": {},
   "source": [
    "# Plan\n",
    "\n",
    "Web App:\n",
    "\n",
    "- Use Streamlit, Gradio, or Flask/FastAPI to build a simple UI.\n",
    "\n",
    "- Host on platforms like Hugging Face Spaces, Render, or Vercel.\n",
    "\n",
    "- Container"
   ]
  }
 ],
 "metadata": {
  "kernelspec": {
   "display_name": ".venv",
   "language": "python",
   "name": "python3"
  },
  "language_info": {
   "codemirror_mode": {
    "name": "ipython",
    "version": 3
   },
   "file_extension": ".py",
   "mimetype": "text/x-python",
   "name": "python",
   "nbconvert_exporter": "python",
   "pygments_lexer": "ipython3",
   "version": "3.13.3"
  }
 },
 "nbformat": 4,
 "nbformat_minor": 5
}
